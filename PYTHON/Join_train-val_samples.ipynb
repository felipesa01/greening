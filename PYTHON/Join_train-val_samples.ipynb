{
 "cells": [
  {
   "cell_type": "code",
   "execution_count": 6,
   "metadata": {},
   "outputs": [],
   "source": [
    "import os\n",
    "import shutil\n",
    "import pandas as pd\n",
    "import geopandas as gpd"
   ]
  },
  {
   "cell_type": "code",
   "execution_count": 7,
   "metadata": {},
   "outputs": [],
   "source": [
    "def read_folder_dataset(dataset):\n",
    "    \n",
    "    for filename in os.listdir(dataset):\n",
    "        if os.path.splitext(filename)[0].lower() == 'vector_split': # and os.path.splitext(filename)[0].lower() != 'final_result':\n",
    "            copas_path = os.path.join(dataset, filename)\n",
    "        elif os.path.splitext(filename)[0].lower() == 'img_grid':\n",
    "            grid = gpd.read_file(os.path.join(dataset, filename)).set_index('id')\n",
    "        elif os.path.splitext(filename)[1] == '':\n",
    "            imgs_path = os.path.join(dataset, filename)\n",
    "    \n",
    "    return copas_path, grid, imgs_path"
   ]
  },
  {
   "cell_type": "code",
   "execution_count": 8,
   "metadata": {},
   "outputs": [],
   "source": [
    "source_path = '../datasets/odm_orthophoto_2/'\n",
    "dst_path = '../datasets/train'"
   ]
  },
  {
   "cell_type": "code",
   "execution_count": 9,
   "metadata": {
    "scrolled": true
   },
   "outputs": [],
   "source": [
    "copas_path_source, grid_source, imgs_path_source = read_folder_dataset(source_path)\n",
    "copas_path_dst, grid_dst, imgs_path_dst = read_folder_dataset(dst_path)\n",
    "\n",
    "id_move_start = grid_dst.index[-1]+1\n",
    "id_move_start\n",
    "\n",
    "id_img = []\n",
    "for filename in os.listdir(imgs_path_source):\n",
    "    id_img.append(int(os.path.splitext(filename)[0]))\n",
    "    id_img.sort()\n",
    "\n",
    "reference_moved = []\n",
    "for i in id_img:\n",
    "    path = os.path.join(imgs_path_source, '{:05}.tif'.format(i))\n",
    "    path_dst = os.path.join(imgs_path_source, '{:05}.tif'.format(id_move_start))\n",
    "    \n",
    "    # Imagens\n",
    "    os.rename(path, path_dst)\n",
    "#     shutil.move(path_dst, os.path.join(imgs_path_dst, '{:05}.tif'.format(id_move_start)))\n",
    "    shutil.copy(path_dst, os.path.join(imgs_path_dst, '{:05}.tif'.format(id_move_start)))\n",
    "    \n",
    "    # Grade\n",
    "    grid_source.rename(index={i:id_move_start}, inplace=True)\n",
    "    \n",
    "    # Copas\n",
    "    vector = gpd.read_file(copas_path_source, layer='{:05}'.format(i))\n",
    "    vector.to_file(copas_path_dst, layer='{:05}'.format(id_move_start))\n",
    "    \n",
    "#     # Ids\n",
    "    id_move_start += 1\n",
    "    \n",
    "grid_dst_new = pd.concat([grid_dst, grid_source], axis=0)\n",
    "grid_dst_new.to_file(os.path.join(dst_path, 'img_grid.geojson'), driver='GeoJSON')"
   ]
  },
  {
   "cell_type": "code",
   "execution_count": 16,
   "metadata": {},
   "outputs": [
    {
     "data": {
      "text/html": [
       "<div>\n",
       "<style scoped>\n",
       "    .dataframe tbody tr th:only-of-type {\n",
       "        vertical-align: middle;\n",
       "    }\n",
       "\n",
       "    .dataframe tbody tr th {\n",
       "        vertical-align: top;\n",
       "    }\n",
       "\n",
       "    .dataframe thead th {\n",
       "        text-align: right;\n",
       "    }\n",
       "</style>\n",
       "<table border=\"1\" class=\"dataframe\">\n",
       "  <thead>\n",
       "    <tr style=\"text-align: right;\">\n",
       "      <th></th>\n",
       "      <th>split_samples</th>\n",
       "      <th>geometry</th>\n",
       "    </tr>\n",
       "    <tr>\n",
       "      <th>id</th>\n",
       "      <th></th>\n",
       "      <th></th>\n",
       "    </tr>\n",
       "  </thead>\n",
       "  <tbody>\n",
       "    <tr>\n",
       "      <th>1</th>\n",
       "      <td>train</td>\n",
       "      <td>POLYGON ((293979.042 7516004.860, 293979.042 7...</td>\n",
       "    </tr>\n",
       "    <tr>\n",
       "      <th>2</th>\n",
       "      <td>train</td>\n",
       "      <td>POLYGON ((293979.042 7515992.061, 293979.042 7...</td>\n",
       "    </tr>\n",
       "    <tr>\n",
       "      <th>3</th>\n",
       "      <td>train</td>\n",
       "      <td>POLYGON ((293991.841 7516004.860, 293991.841 7...</td>\n",
       "    </tr>\n",
       "    <tr>\n",
       "      <th>4</th>\n",
       "      <td>train</td>\n",
       "      <td>POLYGON ((293991.841 7515992.061, 293991.841 7...</td>\n",
       "    </tr>\n",
       "    <tr>\n",
       "      <th>5</th>\n",
       "      <td>train</td>\n",
       "      <td>POLYGON ((293991.841 7515979.263, 293991.841 7...</td>\n",
       "    </tr>\n",
       "    <tr>\n",
       "      <th>...</th>\n",
       "      <td>...</td>\n",
       "      <td>...</td>\n",
       "    </tr>\n",
       "    <tr>\n",
       "      <th>450</th>\n",
       "      <td>train</td>\n",
       "      <td>POLYGON ((294180.509 7515413.647, 294180.509 7...</td>\n",
       "    </tr>\n",
       "    <tr>\n",
       "      <th>451</th>\n",
       "      <td>train</td>\n",
       "      <td>POLYGON ((294180.509 7515400.847, 294180.509 7...</td>\n",
       "    </tr>\n",
       "    <tr>\n",
       "      <th>452</th>\n",
       "      <td>train</td>\n",
       "      <td>POLYGON ((294180.509 7515388.048, 294180.509 7...</td>\n",
       "    </tr>\n",
       "    <tr>\n",
       "      <th>453</th>\n",
       "      <td>train</td>\n",
       "      <td>POLYGON ((294180.509 7515375.249, 294180.509 7...</td>\n",
       "    </tr>\n",
       "    <tr>\n",
       "      <th>454</th>\n",
       "      <td>train</td>\n",
       "      <td>POLYGON ((294180.509 7515362.450, 294180.509 7...</td>\n",
       "    </tr>\n",
       "  </tbody>\n",
       "</table>\n",
       "<p>391 rows × 2 columns</p>\n",
       "</div>"
      ],
      "text/plain": [
       "    split_samples                                           geometry\n",
       "id                                                                  \n",
       "1           train  POLYGON ((293979.042 7516004.860, 293979.042 7...\n",
       "2           train  POLYGON ((293979.042 7515992.061, 293979.042 7...\n",
       "3           train  POLYGON ((293991.841 7516004.860, 293991.841 7...\n",
       "4           train  POLYGON ((293991.841 7515992.061, 293991.841 7...\n",
       "5           train  POLYGON ((293991.841 7515979.263, 293991.841 7...\n",
       "..            ...                                                ...\n",
       "450         train  POLYGON ((294180.509 7515413.647, 294180.509 7...\n",
       "451         train  POLYGON ((294180.509 7515400.847, 294180.509 7...\n",
       "452         train  POLYGON ((294180.509 7515388.048, 294180.509 7...\n",
       "453         train  POLYGON ((294180.509 7515375.249, 294180.509 7...\n",
       "454         train  POLYGON ((294180.509 7515362.450, 294180.509 7...\n",
       "\n",
       "[391 rows x 2 columns]"
      ]
     },
     "execution_count": 16,
     "metadata": {},
     "output_type": "execute_result"
    }
   ],
   "source": [
    "final = gpd.read_file(os.path.join(dst_path, 'img_grid.geojson')).set_index('id')\n",
    "final.loc[final['split_samples'] == 'train']"
   ]
  },
  {
   "cell_type": "code",
   "execution_count": null,
   "metadata": {},
   "outputs": [],
   "source": [
    "pd.concat([grid_dst, grid_source], axis=0)"
   ]
  },
  {
   "cell_type": "code",
   "execution_count": null,
   "metadata": {},
   "outputs": [],
   "source": [
    "grid_dst"
   ]
  },
  {
   "cell_type": "code",
   "execution_count": null,
   "metadata": {
    "scrolled": true
   },
   "outputs": [],
   "source": [
    "grid_source"
   ]
  },
  {
   "cell_type": "code",
   "execution_count": null,
   "metadata": {},
   "outputs": [],
   "source": [
    "grid_dst. index[-1]"
   ]
  },
  {
   "cell_type": "code",
   "execution_count": null,
   "metadata": {},
   "outputs": [],
   "source": [
    "copas_path"
   ]
  },
  {
   "cell_type": "code",
   "execution_count": null,
   "metadata": {},
   "outputs": [],
   "source": [
    "grid"
   ]
  },
  {
   "cell_type": "code",
   "execution_count": null,
   "metadata": {},
   "outputs": [],
   "source": [
    "img_path"
   ]
  },
  {
   "cell_type": "code",
   "execution_count": null,
   "metadata": {},
   "outputs": [],
   "source": []
  }
 ],
 "metadata": {
  "kernelspec": {
   "display_name": "geo",
   "language": "python",
   "name": "geo"
  },
  "language_info": {
   "codemirror_mode": {
    "name": "ipython",
    "version": 3
   },
   "file_extension": ".py",
   "mimetype": "text/x-python",
   "name": "python",
   "nbconvert_exporter": "python",
   "pygments_lexer": "ipython3",
   "version": "3.7.7"
  }
 },
 "nbformat": 4,
 "nbformat_minor": 4
}
