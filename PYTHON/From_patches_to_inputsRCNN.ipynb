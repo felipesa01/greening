{
 "cells": [
  {
   "cell_type": "code",
   "execution_count": 1,
   "id": "bfb315ed",
   "metadata": {},
   "outputs": [],
   "source": [
    "import os\n",
    "import geopandas as gpd\n",
    "from shutil import copyfile"
   ]
  },
  {
   "cell_type": "code",
   "execution_count": 2,
   "id": "985b056b",
   "metadata": {},
   "outputs": [],
   "source": [
    "id_train = [int(x[6:].split('.')[0]) for x in os.listdir('../VECTOR/CORTES/EDITADOS/')]\n",
    "id_test = list(gpd.read_file('../VECTOR/patches_to_test.geojson').loc[:,'id'])"
   ]
  },
  {
   "cell_type": "code",
   "execution_count": 5,
   "id": "52fd6615",
   "metadata": {},
   "outputs": [],
   "source": [
    "for i in id_train:\n",
    "    copyfile('../IMGS/CORTES/corte_{}.tif'.format(i), '../Mask_RCNN/datasets/canopy/train/images/{:04}.tif'.format(i))\n",
    "    \n",
    "for i in id_test:\n",
    "    copyfile('../IMGS/CORTES/corte_{}.tif'.format(i), '../Mask_RCNN/datasets/canopy/real_test/{:04}.tif'.format(i))"
   ]
  },
  {
   "cell_type": "code",
   "execution_count": null,
   "id": "476ff9ba",
   "metadata": {},
   "outputs": [],
   "source": []
  }
 ],
 "metadata": {
  "kernelspec": {
   "display_name": "geo",
   "language": "python",
   "name": "geo"
  },
  "language_info": {
   "codemirror_mode": {
    "name": "ipython",
    "version": 3
   },
   "file_extension": ".py",
   "mimetype": "text/x-python",
   "name": "python",
   "nbconvert_exporter": "python",
   "pygments_lexer": "ipython3",
   "version": "3.7.7"
  }
 },
 "nbformat": 4,
 "nbformat_minor": 5
}
