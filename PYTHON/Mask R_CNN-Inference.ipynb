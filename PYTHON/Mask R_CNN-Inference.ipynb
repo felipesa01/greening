{
 "cells": [
  {
   "cell_type": "code",
   "execution_count": 1,
   "id": "a9e82564",
   "metadata": {},
   "outputs": [],
   "source": [
    "import geopandas as gpd\n",
    "\n",
    "import sys\n",
    "sys.path.append('../Mask_RCNN')\n",
    "import mrcnn.model as modellib\n",
    "\n",
    "# Autoria\n",
    "import canopy_detection_4b as orca"
   ]
  },
  {
   "cell_type": "code",
   "execution_count": 2,
   "id": "32dfb422",
   "metadata": {},
   "outputs": [],
   "source": [
    "logs = '../Mask_RCNN/logs'\n",
    "config = orca.OrangeCanopyConfig()\n",
    "dataset = '../datasets/segmentacao_todos/'"
   ]
  },
  {
   "cell_type": "code",
   "execution_count": 3,
   "id": "04ac7643",
   "metadata": {
    "scrolled": true
   },
   "outputs": [
    {
     "name": "stdout",
     "output_type": "stream",
     "text": [
      "WARNING:tensorflow:From C:\\Users\\Colaborador\\anaconda3\\envs\\rcnn\\lib\\site-packages\\tensorflow\\python\\util\\deprecation.py:605: calling map_fn_v2 (from tensorflow.python.ops.map_fn) with dtype is deprecated and will be removed in a future version.\n",
      "Instructions for updating:\n",
      "Use fn_output_signature instead\n"
     ]
    }
   ],
   "source": [
    "model = modellib.MaskRCNN(mode='inference', config=config, model_dir=logs)"
   ]
  },
  {
   "cell_type": "code",
   "execution_count": 6,
   "id": "724a8775",
   "metadata": {},
   "outputs": [],
   "source": [
    "weights = 'D:\\FelipeSa\\greening\\weights\\coco_DEM/mask_rcnn_oranges_trees_canopy_0050.h5'\n",
    "\n",
    "model.load_weights(weights, by_name=True)"
   ]
  },
  {
   "cell_type": "code",
   "execution_count": 7,
   "id": "9a1f04c4",
   "metadata": {
    "scrolled": true
   },
   "outputs": [
    {
     "data": {
      "text/plain": [
       "342"
      ]
     },
     "execution_count": 7,
     "metadata": {},
     "output_type": "execute_result"
    }
   ],
   "source": [
    "img_test = gpd.read_file(dataset + '/img_grid.geojson')\n",
    "ids = img_test.loc[img_test['split_samples'] == 'test','id'].values\n",
    "len(ids)"
   ]
  },
  {
   "cell_type": "code",
   "execution_count": 8,
   "id": "796d03dd",
   "metadata": {
    "scrolled": false
   },
   "outputs": [
    {
     "name": "stderr",
     "output_type": "stream",
     "text": [
      "Inferincdo copas:   0%|                                                                        | 0/342 [00:00<?, ?it/s]C:\\Users\\Colaborador\\anaconda3\\envs\\rcnn\\lib\\site-packages\\tensorflow\\python\\keras\\engine\\training.py:2325: UserWarning: `Model.state_updates` will be removed in a future version. This property should not be used in TensorFlow 2.0, as `updates` are applied automatically.\n",
      "  warnings.warn('`Model.state_updates` will be removed in a future version. '\n",
      "Inferincdo copas: 100%|██████████████████████████████████████████████████████████████| 342/342 [05:09<00:00,  1.10it/s]\n"
     ]
    },
    {
     "name": "stdout",
     "output_type": "stream",
     "text": [
      "Gerando arquivo de saida\n"
     ]
    },
    {
     "name": "stderr",
     "output_type": "stream",
     "text": [
      "C:\\Users\\Colaborador\\greening\\PYTHON\\hlb_utils.py:638: UserWarning: `keep_geom_type=True` in overlay resulted in 4 dropped geometries of different geometry types than df1 has. Set `keep_geom_type=False` to retain all geometries\n",
      "  over = gpd.overlay(pols, pols, how='intersection')\n",
      "Simplificando - Micro: 100%|████████████████████████████████████████████████████| 10878/10878 [01:03<00:00, 170.57it/s]\n",
      "C:\\Users\\Colaborador\\greening\\PYTHON\\hlb_utils.py:638: UserWarning: `keep_geom_type=True` in overlay resulted in 2 dropped geometries of different geometry types than df1 has. Set `keep_geom_type=False` to retain all geometries\n",
      "  over = gpd.overlay(pols, pols, how='intersection')\n",
      "Simplificando - Micro: 100%|████████████████████████████████████████████████████████| 864/864 [00:03<00:00, 264.00it/s]\n"
     ]
    },
    {
     "name": "stdout",
     "output_type": "stream",
     "text": [
      "Concluído!\n"
     ]
    }
   ],
   "source": [
    "results = orca.prediction(model, dataset, id_list=ids , verbose=0, first=False, join=True)"
   ]
  },
  {
   "cell_type": "code",
   "execution_count": null,
   "id": "1a350e96",
   "metadata": {},
   "outputs": [],
   "source": [
    "results"
   ]
  },
  {
   "cell_type": "code",
   "execution_count": null,
   "id": "03cd345f",
   "metadata": {},
   "outputs": [],
   "source": []
  },
  {
   "cell_type": "code",
   "execution_count": null,
   "id": "971f851e",
   "metadata": {},
   "outputs": [],
   "source": []
  },
  {
   "cell_type": "code",
   "execution_count": null,
   "id": "5772a46c",
   "metadata": {},
   "outputs": [],
   "source": [
    "hlb_process = orca.hlb_utils.Processing()\n",
    "path = '../datasets/segmentacao_todos/img_patches/00033.tif'\n",
    "array, image_tif = hlb_process.readimagetif(path, 'Integer')\n",
    "result = model.detect([array[:, :, 0:3]], verbose=1)[0]"
   ]
  },
  {
   "cell_type": "code",
   "execution_count": null,
   "id": "34cfddd3",
   "metadata": {},
   "outputs": [],
   "source": [
    "import numpy as np\n",
    "import tensorflow as tf\n",
    "# Get activations of a few sample layers\n",
    "activations = model.run_graph([array[:, :, 0:3]], [\n",
    "    (\"input_image\",        tf.identity(model.keras_model.get_layer(\"input_image\").output)),\n",
    "    (\"res2c_out\",          model.keras_model.get_layer(\"res2c_out\").output),\n",
    "    (\"res3c_out\",          model.keras_model.get_layer(\"res3c_out\").output),\n",
    "    (\"res4w_out\",          model.keras_model.get_layer(\"res4w_out\").output),  # for resnet100\n",
    "    (\"rpn_bbox\",           model.keras_model.get_layer(\"rpn_bbox\").output),\n",
    "    (\"roi\",                model.keras_model.get_layer(\"ROI\").output),\n",
    "])"
   ]
  },
  {
   "cell_type": "code",
   "execution_count": null,
   "id": "e8cd8e85",
   "metadata": {
    "scrolled": false
   },
   "outputs": [],
   "source": [
    "display_images(np.transpose(activations[\"res2c_out\"][0,:,:,:100], [2, 0, 1]), cols=5)"
   ]
  },
  {
   "cell_type": "code",
   "execution_count": null,
   "id": "70caf211",
   "metadata": {},
   "outputs": [],
   "source": []
  },
  {
   "cell_type": "code",
   "execution_count": null,
   "id": "8d937ea6",
   "metadata": {},
   "outputs": [],
   "source": []
  },
  {
   "cell_type": "code",
   "execution_count": null,
   "id": "8c6d8a72",
   "metadata": {},
   "outputs": [],
   "source": [
    "shape_path_aux = '../datasets/inferencia_sobradinho_areasul/results/'\n",
    "\n",
    "orca.hlb_ultils.join_vectors()"
   ]
  },
  {
   "cell_type": "code",
   "execution_count": null,
   "id": "666974b0",
   "metadata": {},
   "outputs": [],
   "source": [
    "import os\n",
    "import numpy as np\n",
    "import pandas as pd \n",
    "from tqdm import tqdm\n",
    "from time import sleep\n",
    "\n",
    "centroid_dist = 0.5\n",
    "limiar_ovelap = 0.5\n",
    "\n",
    "shape_path_aux = '../datasets/segmentacao_todos/results'\n",
    "\n",
    "result_paths = []\n",
    "for filename in os.listdir(shape_path_aux):\n",
    "    if os.path.splitext(filename)[1].lower() == '.geojson':\n",
    "        result_paths.append(os.path.join(shape_path_aux, filename))\n",
    "\n",
    "pols = pd.concat([gpd.read_file(i) for i in result_paths], axis=0).reset_index(drop=True)\n",
    "pols = pols[pols.geometry.is_valid]\n",
    "pols['geometry'] = pols.buffer(0.1).buffer(-0.1).simplify(0.03)\n",
    "pols = pols.explode('geometry').reset_index(drop=True)\n",
    "'''\n",
    "pols['centroid'] = pols['geometry'].centroid\n",
    "pols.insert(1, column='union', value=0)\n",
    "pols.set_index(keys=pd.Index(range(1, pols.shape[0] + 1)), inplace=True)\n",
    "\n",
    "with tqdm(total=len(pols.index)) as pbar:\n",
    "    pbar.set_description(\"Simplificando - Macro\")\n",
    "    sleep(0.1)\n",
    "    for i in pols.index:\n",
    "        if pols.loc[i, 'union'] == 0:\n",
    "            point = pols.loc[i, 'centroid']\n",
    "            distance = pols['centroid'].distance(point)\n",
    "\n",
    "            distance = distance[distance <= centroid_dist]\n",
    "\n",
    "            if len(distance) > 1:\n",
    "                pols.at[distance.index, 'union'] = i\n",
    "            else:\n",
    "                pols.at[i, 'union'] = i\n",
    "        pbar.update(1)\n",
    "\n",
    "# pols.drop('centroid', axis=1, inplace=True)\n",
    "pols = pols.dissolve(by='union', as_index=False)\n",
    "pols.drop(['union', 'centroid'], axis=1, inplace=True)\n",
    "pols.drop(pols.loc[pols['geometry'].is_empty].index, axis=0, inplace=True)\n",
    "'''\n",
    "pols.set_index(keys=pd.Index(range(1, pols.shape[0] + 1)), inplace=True)\n",
    "pols['id'] = pols.index"
   ]
  },
  {
   "cell_type": "code",
   "execution_count": null,
   "id": "4e5d38be",
   "metadata": {},
   "outputs": [],
   "source": [
    "pols.loc[pols.geometry.geom_type != 'Polygon']"
   ]
  },
  {
   "cell_type": "code",
   "execution_count": null,
   "id": "e5063e9f",
   "metadata": {},
   "outputs": [],
   "source": []
  },
  {
   "cell_type": "code",
   "execution_count": null,
   "id": "c3ce10d5",
   "metadata": {},
   "outputs": [],
   "source": [
    "import os\n",
    "import numpy as np\n",
    "import pandas as pd \n",
    "from tqdm import tqdm\n",
    "from time import sleep\n",
    "\n",
    "centroid_dist = 0.5\n",
    "limiar_ovelap = 0.5\n",
    "\n",
    "shape_path_aux = '../datasets/segmentacao_todos/results'\n",
    "\n",
    "result_paths = []\n",
    "for filename in os.listdir(shape_path_aux):\n",
    "    if os.path.splitext(filename)[1].lower() == '.geojson':\n",
    "        result_paths.append(os.path.join(shape_path_aux, filename))\n",
    "\n",
    "pols = pd.concat([gpd.read_file(i) for i in result_paths], axis=0).reset_index(drop=True)\n",
    "pols = pols[pols.geometry.is_valid]\n",
    "pols['geometry'] = pols.buffer(0.1).buffer(-0.1).simplify(0.03)\n",
    "pols = pols.explode('geometry').reset_index(drop=True)\n",
    "'''\n",
    "pols['centroid'] = pols['geometry'].centroid\n",
    "pols.insert(1, column='union', value=0)\n",
    "pols.set_index(keys=pd.Index(range(1, pols.shape[0] + 1)), inplace=True)\n",
    "\n",
    "with tqdm(total=len(pols.index)) as pbar:\n",
    "    pbar.set_description(\"Simplificando - Macro\")\n",
    "    sleep(0.1)\n",
    "    for i in pols.index:\n",
    "        if pols.loc[i, 'union'] == 0:\n",
    "            point = pols.loc[i, 'centroid']\n",
    "            distance = pols['centroid'].distance(point)\n",
    "\n",
    "            distance = distance[distance <= centroid_dist]\n",
    "\n",
    "            if len(distance) > 1:\n",
    "                pols.at[distance.index, 'union'] = i\n",
    "            else:\n",
    "                pols.at[i, 'union'] = i\n",
    "        pbar.update(1)\n",
    "\n",
    "# pols.drop('centroid', axis=1, inplace=True)\n",
    "pols = pols.dissolve(by='union', as_index=False)\n",
    "pols.drop(['union', 'centroid'], axis=1, inplace=True)\n",
    "pols.drop(pols.loc[pols['geometry'].is_empty].index, axis=0, inplace=True)\n",
    "'''\n",
    "pols.set_index(keys=pd.Index(range(1, pols.shape[0] + 1)), inplace=True)\n",
    "pols['id'] = pols.index\n",
    "# pols['centroid'] = pols['geometry'].centroid\n",
    "\n",
    "for _ in range(2):\n",
    "    # Gerar intersecoes entre os poligonos encontrados\n",
    "    # Uso de busca indexada (R-tree) com a função gpd.overlay()\n",
    "    over = gpd.overlay(pols, pols, how='intersection')\n",
    "    # Remover poligonos vazios (talvez possa ser dispensado a partir de agora)\n",
    "    over = over.loc[-over['geometry'].is_empty]\n",
    "    # Remover intersecoes originadas pela sobreposição da feição com ela mesma\n",
    "    over = over.loc[over['id_1'] != over['id_2']]\n",
    "    # .explode().reset_index(drop=True)\n",
    "\n",
    "    delete_lines = []\n",
    "    # Barra de progresso #\n",
    "    with tqdm(total=len(over['id_1'])) as pbar:\n",
    "        pbar.set_description(\"Simplificando - Micro\")\n",
    "        sleep(0.1)\n",
    "\n",
    "        over['area'] = over['geometry'].area\n",
    "        over = over.sort_values('area')\n",
    "\n",
    "        # Para cada poligono..\n",
    "        for i in over['id_1']:\n",
    "            # intersecções entre o poligono avaliado e todas as outras feições\n",
    "            intersec = over[over['id_1'] == i]\n",
    "\n",
    "            # Caso alguma área de intersecao avaliada seja maior que 60% (limiar_overlap) do proprio poligono avaliado\n",
    "            # ou se poligono avaliado é 3x menor que aquele com o qual existe intersecao, o poligono será excluido]\n",
    "            if intersec.loc[intersec['geometry'].area >= limiar_ovelap * pols.loc[i, 'geometry'].area].any(axis=None) | \\\n",
    "                    (intersec['geometry'].area.sum() >= limiar_ovelap * pols.loc[i, 'geometry'].area) | \\\n",
    "                    (3 * pols.loc[i, 'geometry'].area < pols.loc[intersec['id_2'], 'geometry'].area).any():\n",
    "\n",
    "                # Inserido em 18/12 para evitar falha de detecção\n",
    "                # Não deletar o maior poligono formador da maior intersecao\n",
    "                maior = intersec.loc[\n",
    "                    intersec['geometry'].area == max(intersec['geometry'].area), ['id_1', 'id_2']]\n",
    "                if pols.loc[maior['id_1'], 'geometry'].area.values[0] < \\\n",
    "                        pols.loc[maior['id_2'], 'geometry'].area.values[0]:\n",
    "                    delete_lines.append(i)\n",
    "\n",
    "            pbar.update(1)\n",
    "\n",
    "        # Identificar poligonos a serem apagados\n",
    "        delete_lines = (list(set(delete_lines)))\n",
    "    # Fim da barra de progresso #\n",
    "\n",
    "    pols.drop(labels=delete_lines, axis=0, inplace=True)\n",
    "\n",
    "pols = pols.explode().reset_index(drop=True)\n",
    "\n",
    "pols.set_index(keys=pd.Index(range(1, pols.shape[0] + 1)), inplace=True)\n",
    "pols['id'] = pols.index\n",
    "\n",
    "pols_filtred = pols.loc[pols['detection_score'] >= 0.99]"
   ]
  },
  {
   "cell_type": "code",
   "execution_count": null,
   "id": "4b189873",
   "metadata": {},
   "outputs": [],
   "source": [
    "pols.to_file('../datasets/segmentacao_todos/pols.geojson', driver='GeoJSON')"
   ]
  },
  {
   "cell_type": "code",
   "execution_count": null,
   "id": "eb0df761",
   "metadata": {},
   "outputs": [],
   "source": [
    "pols"
   ]
  },
  {
   "cell_type": "code",
   "execution_count": null,
   "id": "1faab39c",
   "metadata": {},
   "outputs": [],
   "source": [
    "over.loc[over['id_2'].isin(pols.index)]"
   ]
  },
  {
   "cell_type": "code",
   "execution_count": null,
   "id": "7b92efac",
   "metadata": {},
   "outputs": [],
   "source": [
    "over1[over1['id_1'] == i]"
   ]
  },
  {
   "cell_type": "code",
   "execution_count": null,
   "id": "367cd92f",
   "metadata": {},
   "outputs": [],
   "source": [
    "pols.index"
   ]
  },
  {
   "cell_type": "code",
   "execution_count": null,
   "id": "b6679c87",
   "metadata": {},
   "outputs": [],
   "source": [
    "pols.loc[maior['id_1'], 'geometry'].area.values[0] < pols.loc[maior['id_2'], 'geometry'].area.values[0]"
   ]
  },
  {
   "cell_type": "code",
   "execution_count": null,
   "id": "7b46ed90",
   "metadata": {},
   "outputs": [],
   "source": [
    "pols"
   ]
  },
  {
   "cell_type": "code",
   "execution_count": null,
   "id": "4e34e1eb",
   "metadata": {
    "scrolled": true
   },
   "outputs": [],
   "source": [
    "pols.loc[maior['id_1'], 'geometry'].area"
   ]
  },
  {
   "cell_type": "code",
   "execution_count": null,
   "id": "c615282c",
   "metadata": {},
   "outputs": [],
   "source": [
    "maior['id_1'], 'geometry'.area"
   ]
  },
  {
   "cell_type": "code",
   "execution_count": null,
   "id": "bf4cfde2",
   "metadata": {},
   "outputs": [],
   "source": [
    "pols.loc[maior['id_1'], 'geometry'].area.values"
   ]
  },
  {
   "cell_type": "code",
   "execution_count": null,
   "id": "8789e870",
   "metadata": {},
   "outputs": [],
   "source": [
    "pols.loc[maior['id_2'], 'geometry'].area"
   ]
  },
  {
   "cell_type": "markdown",
   "id": "952f6e15",
   "metadata": {},
   "source": [
    "all_files = [gpd.read_file(i) for i in result_paths]"
   ]
  },
  {
   "cell_type": "code",
   "execution_count": null,
   "id": "fcc0dbfa",
   "metadata": {},
   "outputs": [],
   "source": [
    "len(all_files)"
   ]
  },
  {
   "cell_type": "code",
   "execution_count": null,
   "id": "5fd59235",
   "metadata": {},
   "outputs": [],
   "source": [
    "pols = pd.concat(all_files, axis=0).reset_index(drop=True)"
   ]
  },
  {
   "cell_type": "code",
   "execution_count": null,
   "id": "9498b38a",
   "metadata": {},
   "outputs": [],
   "source": [
    "pols"
   ]
  },
  {
   "cell_type": "code",
   "execution_count": null,
   "id": "a2fd829a",
   "metadata": {},
   "outputs": [],
   "source": [
    "pols = pols[pols.geometry.is_valid]\n",
    "pols"
   ]
  },
  {
   "cell_type": "code",
   "execution_count": null,
   "id": "20cb992c",
   "metadata": {},
   "outputs": [],
   "source": [
    "pols.geometry.is_valid[-pols.geometry.is_valid]"
   ]
  },
  {
   "cell_type": "code",
   "execution_count": null,
   "id": "137ff0bb",
   "metadata": {},
   "outputs": [],
   "source": []
  },
  {
   "cell_type": "code",
   "execution_count": null,
   "id": "598e8db6",
   "metadata": {},
   "outputs": [],
   "source": [
    "pols['geometry_n'] = pols.buffer(0.1).buffer(-0.1).simplify(0.03)"
   ]
  },
  {
   "cell_type": "code",
   "execution_count": null,
   "id": "e4e32771",
   "metadata": {},
   "outputs": [],
   "source": [
    "pols['geometry_n'].is_empty.any()"
   ]
  },
  {
   "cell_type": "code",
   "execution_count": null,
   "id": "f88608bb",
   "metadata": {},
   "outputs": [],
   "source": [
    "pols.geometry_n.is_empty[pols.geometry_n.is_empty]"
   ]
  },
  {
   "cell_type": "code",
   "execution_count": null,
   "id": "ca36c796",
   "metadata": {},
   "outputs": [],
   "source": [
    "for i in range(len(all_files)):\n",
    "    if all_files[i].is_empty.all():\n",
    "        print(i)"
   ]
  },
  {
   "cell_type": "code",
   "execution_count": null,
   "id": "0fe0ffee",
   "metadata": {},
   "outputs": [],
   "source": [
    "filtered_files = [gpd.read_file(i) for i in result_paths if gpd.read_file(i)]"
   ]
  },
  {
   "cell_type": "code",
   "execution_count": null,
   "id": "adf6ebac",
   "metadata": {},
   "outputs": [],
   "source": []
  },
  {
   "cell_type": "code",
   "execution_count": null,
   "id": "5e76e783",
   "metadata": {},
   "outputs": [],
   "source": []
  },
  {
   "cell_type": "code",
   "execution_count": null,
   "id": "30daec9d",
   "metadata": {},
   "outputs": [],
   "source": []
  },
  {
   "cell_type": "code",
   "execution_count": null,
   "id": "2e338ddd",
   "metadata": {},
   "outputs": [],
   "source": [
    "import geopandas as gpd\n",
    "\n",
    "import sys\n",
    "sys.path.append('../Mask_RCNN')\n",
    "import mrcnn.model as modellib\n",
    "\n",
    "# Autoria\n",
    "import canopy_detection as orca"
   ]
  },
  {
   "cell_type": "code",
   "execution_count": null,
   "id": "b8479194",
   "metadata": {},
   "outputs": [],
   "source": [
    "import matplotlib\n",
    "import matplotlib.pyplot as plt\n",
    "import matplotlib.patches as patches\n",
    "\n",
    "from mrcnn import utils\n",
    "from mrcnn import visualize\n",
    "from mrcnn.visualize import display_images\n",
    "import mrcnn.model as modellib\n",
    "from mrcnn.model import log"
   ]
  },
  {
   "cell_type": "code",
   "execution_count": null,
   "id": "5fc50dbc",
   "metadata": {},
   "outputs": [],
   "source": [
    "logs = '../Mask_RCNN/logs'\n",
    "config = orca.OrangeCanopyConfig()\n",
    "dataset = '../datasets/segmentacao_todos/'"
   ]
  },
  {
   "cell_type": "code",
   "execution_count": null,
   "id": "a57a713a",
   "metadata": {},
   "outputs": [],
   "source": [
    "model = modellib.MaskRCNN(mode='inference', config=config, model_dir=logs)"
   ]
  },
  {
   "cell_type": "code",
   "execution_count": null,
   "id": "81aec3a4",
   "metadata": {},
   "outputs": [],
   "source": [
    "weights = '../Mask_RCNN/logs/oranges_trees_canopy20211014T2316/mask_rcnn_oranges_trees_canopy_0060.h5'\n",
    "weights = '..\\Mask_RCNN\\logs\\oranges_trees_canopy20211217T1047\\mask_rcnn_oranges_trees_canopy_0050.h5'\n",
    "\n",
    "model.load_weights(weights, by_name=True)"
   ]
  },
  {
   "cell_type": "code",
   "execution_count": null,
   "id": "dcabf6eb",
   "metadata": {},
   "outputs": [],
   "source": []
  }
 ],
 "metadata": {
  "kernelspec": {
   "display_name": "rcnn",
   "language": "python",
   "name": "rcnn"
  },
  "language_info": {
   "codemirror_mode": {
    "name": "ipython",
    "version": 3
   },
   "file_extension": ".py",
   "mimetype": "text/x-python",
   "name": "python",
   "nbconvert_exporter": "python",
   "pygments_lexer": "ipython3",
   "version": "3.6.15"
  }
 },
 "nbformat": 4,
 "nbformat_minor": 5
}
