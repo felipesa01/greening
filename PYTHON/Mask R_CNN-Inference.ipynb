{
 "cells": [
  {
   "cell_type": "code",
   "execution_count": 1,
   "id": "a9e82564",
   "metadata": {},
   "outputs": [],
   "source": [
    "import geopandas as gpd\n",
    "\n",
    "import sys\n",
    "sys.path.append('../Mask_RCNN')\n",
    "import mrcnn.model as modellib\n",
    "\n",
    "# Autoria\n",
    "import canopy_detection as orca"
   ]
  },
  {
   "cell_type": "code",
   "execution_count": null,
   "id": "32dfb422",
   "metadata": {},
   "outputs": [],
   "source": [
    "logs = '../Mask_RCNN/logs'\n",
    "config = orca.OrangeCanopyConfig()\n",
    "dataset = '../datasets/segmentacao_todos/'"
   ]
  },
  {
   "cell_type": "code",
   "execution_count": null,
   "id": "04ac7643",
   "metadata": {},
   "outputs": [],
   "source": [
    "model = modellib.MaskRCNN(mode='inference', config=config, model_dir=logs)"
   ]
  },
  {
   "cell_type": "code",
   "execution_count": null,
   "id": "724a8775",
   "metadata": {},
   "outputs": [],
   "source": [
    "weights = '../Mask_RCNN/logs/oranges_trees_canopy20211014T2316/mask_rcnn_oranges_trees_canopy_0060.h5'\n",
    "weights = '..\\Mask_RCNN\\logs\\oranges_trees_canopy20211217T1047\\mask_rcnn_oranges_trees_canopy_0050.h5'\n",
    "\n",
    "model.load_weights(weights, by_name=True)"
   ]
  },
  {
   "cell_type": "code",
   "execution_count": null,
   "id": "9a1f04c4",
   "metadata": {},
   "outputs": [],
   "source": [
    "img_test = gpd.read_file(dataset + '/img_grid.geojson')\n",
    "ids = list(img_test.loc[img_test['split_samples'] == 'test'].index)\n",
    "len(ids)"
   ]
  },
  {
   "cell_type": "code",
   "execution_count": null,
   "id": "796d03dd",
   "metadata": {
    "scrolled": false
   },
   "outputs": [],
   "source": [
    "results = orca.prediction(model, dataset, id_list=ids, verbose=0, first=False, join=True)"
   ]
  },
  {
   "cell_type": "code",
   "execution_count": null,
   "id": "1a350e96",
   "metadata": {},
   "outputs": [],
   "source": [
    "results"
   ]
  },
  {
   "cell_type": "code",
   "execution_count": null,
   "id": "8c6d8a72",
   "metadata": {},
   "outputs": [],
   "source": [
    "shape_path_aux = '../datasets/inferencia_sobradinho_areasul/results/'\n",
    "\n",
    "orca.hlb_ultils.join_vectors()"
   ]
  },
  {
   "cell_type": "code",
   "execution_count": 9,
   "id": "c3ce10d5",
   "metadata": {},
   "outputs": [
    {
     "name": "stderr",
     "output_type": "stream",
     "text": [
      "Simplificando - Macro: 100%|███████████████████████████████████████████████████████| 4676/4676 [02:23<00:00, 32.57it/s]\n",
      "Simplificando - Micro: 100%|██████████████████████████████████████████████████████| 1636/1636 [00:07<00:00, 226.84it/s]\n"
     ]
    }
   ],
   "source": [
    "import os\n",
    "import numpy as np\n",
    "import pandas as pd \n",
    "from tqdm import tqdm\n",
    "from time import sleep\n",
    "\n",
    "centroid_dist = 1\n",
    "limiar_ovelap = 0.6\n",
    "\n",
    "shape_path_aux = '../datasets/segmentacao_todos/results_dem'\n",
    "\n",
    "result_paths = []\n",
    "for filename in os.listdir(shape_path_aux):\n",
    "    if os.path.splitext(filename)[1].lower() == '.geojson':\n",
    "        result_paths.append(os.path.join(shape_path_aux, filename))\n",
    "\n",
    "pols = pd.concat([gpd.read_file(i) for i in result_paths], axis=0).reset_index(drop=True)\n",
    "pols = pols[pols.geometry.is_valid]\n",
    "pols['geometry'] = pols.buffer(0.1).buffer(-0.1).simplify(0.03)\n",
    "pols = pols.explode('geometry').reset_index(drop=True)\n",
    "pols['centroid'] = pols['geometry'].centroid\n",
    "pols.insert(1, column='union', value=0)\n",
    "pols.set_index(keys=pd.Index(range(1, pols.shape[0] + 1)), inplace=True)\n",
    "\n",
    "with tqdm(total=len(pols.index)) as pbar:\n",
    "    pbar.set_description(\"Simplificando - Macro\")\n",
    "    sleep(0.1)\n",
    "    for i in pols.index:\n",
    "        if pols.loc[i, 'union'] == 0:\n",
    "            point = pols.loc[i, 'centroid']\n",
    "            distance = pols['centroid'].distance(point)\n",
    "\n",
    "            distance = distance[distance <= centroid_dist]\n",
    "\n",
    "            if len(distance) > 1:\n",
    "                pols.at[distance.index, 'union'] = i\n",
    "            else:\n",
    "                pols.at[i, 'union'] = i\n",
    "        pbar.update(1)\n",
    "\n",
    "# pols.drop('centroid', axis=1, inplace=True)\n",
    "pols = pols.dissolve(by='union', as_index=False)\n",
    "pols.drop(['union', 'centroid'], axis=1, inplace=True)\n",
    "pols.drop(pols.loc[pols['geometry'].is_empty].index, axis=0, inplace=True)\n",
    "pols.set_index(keys=pd.Index(range(1, pols.shape[0] + 1)), inplace=True)\n",
    "pols['id'] = pols.index\n",
    "# pols['centroid'] = pols['geometry'].centroid\n",
    "\n",
    "# Gerar intersecoes entre os poligonos encontrados\n",
    "# Uso de busca indexada (R-tree) com a função gpd.overlay()\n",
    "over = gpd.overlay(pols, pols, how='intersection')\n",
    "# Remover poligonos vazios (talvez possa ser dispensado a partir de agora)\n",
    "over = over.loc[-over['geometry'].is_empty]\n",
    "# Remover intersecoes originadas pela sobreposição da feição com ela mesma\n",
    "over = over.loc[over['id_1'] != over['id_2']].explode().reset_index(drop=True)\n",
    "\n",
    "delete_lines = []\n",
    "# Barra de progresso #\n",
    "with tqdm(total=len(over['id_1'])) as pbar:\n",
    "    pbar.set_description(\"Simplificando - Micro\")\n",
    "    sleep(0.1)\n",
    "\n",
    "    over['area'] = over['geometry'].area\n",
    "    over = over.sort_values('area')\n",
    "    # Para cada poligono..\n",
    "    for i in over['id_1']:\n",
    "        # intersecções entre o poligono avaliado e todas as outras feições\n",
    "        intersec = over[over['id_1'] == i]\n",
    "\n",
    "        # Caso alguma área de intersecao avaliada seja maior que 60% (limiar_overlap) do proprio poligono avaliado\n",
    "        # ou se poligono avaliado é 3,5x menor que aquele com o qual existe intersecao, o poligono será excluido\n",
    "        if intersec.loc[intersec['geometry'].area >= limiar_ovelap * pols.loc[i, 'geometry'].area].any(axis=None) | \\\n",
    "                (intersec['geometry'].area.sum() > 0.5 * pols.loc[i, 'geometry'].area).any() | \\\n",
    "                (3.5 * pols.loc[i, 'geometry'].area < pols.loc[intersec['id_2'], 'geometry'].area).any():\n",
    "\n",
    "            # Inserido em 18/12 para evitar falha de detecção\n",
    "            maior = intersec.loc[intersec['geometry'].area == max(intersec['geometry'].area), ['id_1', 'id_2']]\n",
    "            \n",
    "            if pols.loc[maior['id_1'], 'geometry'].area.values[0] < pols.loc[maior['id_2'], 'geometry'].area.values[0]:\n",
    "                delete_lines.append(i)\n",
    "\n",
    "        pbar.update(1)\n",
    "\n",
    "    # Identificar poligonos a serem apagados\n",
    "    delete_lines = (list(set(delete_lines)))\n",
    "# Fim da barra de progresso #\n",
    "\n",
    "pols.drop(labels=delete_lines, axis=0, inplace=True)\n",
    "pols = pols.explode().reset_index(drop=True)\n",
    "\n",
    "pols_raw = pols.copy()\n",
    "\n",
    "pols = pols.loc[(pols['geometry'].length / pols['geometry'].area / np.sqrt(pols['geometry'].area) < 20)]\n",
    "\n",
    "pols.set_index(keys=pd.Index(range(1, pols.shape[0] + 1)), inplace=True)\n",
    "pols['id'] = pols.index"
   ]
  },
  {
   "cell_type": "code",
   "execution_count": 11,
   "id": "4b189873",
   "metadata": {},
   "outputs": [],
   "source": [
    "pols.to_file('../datasets/segmentacao_todos/canopy_detection_result_dem.geojson', driver='GeoJSON')"
   ]
  },
  {
   "cell_type": "code",
   "execution_count": null,
   "id": "a6fe5fd3",
   "metadata": {
    "scrolled": true
   },
   "outputs": [],
   "source": [
    "pols.loc[maior['id_1'], 'geometry'].area"
   ]
  },
  {
   "cell_type": "code",
   "execution_count": null,
   "id": "a92abb8c",
   "metadata": {},
   "outputs": [],
   "source": [
    "maior['id_1'], 'geometry'.area"
   ]
  },
  {
   "cell_type": "code",
   "execution_count": null,
   "id": "f5f64dbc",
   "metadata": {},
   "outputs": [],
   "source": [
    "pols.loc[maior['id_1'], 'geometry'].area.values"
   ]
  },
  {
   "cell_type": "code",
   "execution_count": null,
   "id": "a1553fb8",
   "metadata": {},
   "outputs": [],
   "source": [
    "pols.loc[maior['id_2'], 'geometry'].area"
   ]
  },
  {
   "cell_type": "markdown",
   "id": "0607add6",
   "metadata": {},
   "source": [
    "all_files = [gpd.read_file(i) for i in result_paths]"
   ]
  },
  {
   "cell_type": "code",
   "execution_count": null,
   "id": "fcc0dbfa",
   "metadata": {},
   "outputs": [],
   "source": [
    "len(all_files)"
   ]
  },
  {
   "cell_type": "code",
   "execution_count": null,
   "id": "5fd59235",
   "metadata": {},
   "outputs": [],
   "source": [
    "pols = pd.concat(all_files, axis=0).reset_index(drop=True)"
   ]
  },
  {
   "cell_type": "code",
   "execution_count": null,
   "id": "9498b38a",
   "metadata": {},
   "outputs": [],
   "source": [
    "pols"
   ]
  },
  {
   "cell_type": "code",
   "execution_count": null,
   "id": "a2fd829a",
   "metadata": {},
   "outputs": [],
   "source": [
    "pols = pols[pols.geometry.is_valid]\n",
    "pols"
   ]
  },
  {
   "cell_type": "code",
   "execution_count": null,
   "id": "20cb992c",
   "metadata": {},
   "outputs": [],
   "source": [
    "pols.geometry.is_valid[-pols.geometry.is_valid]"
   ]
  },
  {
   "cell_type": "code",
   "execution_count": null,
   "id": "137ff0bb",
   "metadata": {},
   "outputs": [],
   "source": []
  },
  {
   "cell_type": "code",
   "execution_count": null,
   "id": "598e8db6",
   "metadata": {},
   "outputs": [],
   "source": [
    "pols['geometry_n'] = pols.buffer(0.1).buffer(-0.1).simplify(0.03)"
   ]
  },
  {
   "cell_type": "code",
   "execution_count": null,
   "id": "e4e32771",
   "metadata": {},
   "outputs": [],
   "source": [
    "pols['geometry_n'].is_empty.any()"
   ]
  },
  {
   "cell_type": "code",
   "execution_count": null,
   "id": "f88608bb",
   "metadata": {},
   "outputs": [],
   "source": [
    "pols.geometry_n.is_empty[pols.geometry_n.is_empty]"
   ]
  },
  {
   "cell_type": "code",
   "execution_count": null,
   "id": "ca36c796",
   "metadata": {},
   "outputs": [],
   "source": [
    "for i in range(len(all_files)):\n",
    "    if all_files[i].is_empty.all():\n",
    "        print(i)"
   ]
  },
  {
   "cell_type": "code",
   "execution_count": null,
   "id": "0fe0ffee",
   "metadata": {},
   "outputs": [],
   "source": [
    "filtered_files = [gpd.read_file(i) for i in result_paths if gpd.read_file(i)]"
   ]
  }
 ],
 "metadata": {
  "kernelspec": {
   "display_name": "rcnn",
   "language": "python",
   "name": "rcnn"
  },
  "language_info": {
   "codemirror_mode": {
    "name": "ipython",
    "version": 3
   },
   "file_extension": ".py",
   "mimetype": "text/x-python",
   "name": "python",
   "nbconvert_exporter": "python",
   "pygments_lexer": "ipython3",
   "version": "3.6.15"
  }
 },
 "nbformat": 4,
 "nbformat_minor": 5
}
