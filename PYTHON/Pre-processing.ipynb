{
 "cells": [
  {
   "cell_type": "code",
   "execution_count": 1,
   "id": "b23c2578",
   "metadata": {},
   "outputs": [],
   "source": [
    "import sys\n",
    "import geopandas as gpd\n",
    "from shutil import copyfile, move\n",
    "\n",
    "sys.path.insert(0, './HLB')\n",
    "import hlb_utils"
   ]
  },
  {
   "cell_type": "markdown",
   "id": "e7424ce0",
   "metadata": {},
   "source": [
    "### Dataset"
   ]
  },
  {
   "cell_type": "code",
   "execution_count": 2,
   "id": "36e0835c",
   "metadata": {},
   "outputs": [],
   "source": [
    "pre_processing = hlb_utils.PreProcessing('../IMGS/RGB-DSM_test-area_4b.tif', proj_name='area_estudo_teste1')"
   ]
  },
  {
   "cell_type": "markdown",
   "id": "07140e12",
   "metadata": {},
   "source": [
    "### Split image [and vectors]"
   ]
  },
  {
   "cell_type": "code",
   "execution_count": 3,
   "id": "57ec1317",
   "metadata": {},
   "outputs": [
    {
     "name": "stderr",
     "output_type": "stream",
     "text": [
      "Cortando imagens: 100%|████████████████████████████████████████████████████████████| 3348/3348 [01:58<00:00, 28.23it/s]\n"
     ]
    },
    {
     "name": "stdout",
     "output_type": "stream",
     "text": [
      "Finished!\n",
      "Total images:  939\n"
     ]
    }
   ],
   "source": [
    "pre_processing.split_img(patch_size=256, overlap=60, save_img=True)"
   ]
  },
  {
   "cell_type": "code",
   "execution_count": null,
   "id": "69e648ff",
   "metadata": {
    "scrolled": true
   },
   "outputs": [],
   "source": [
    "pre_processing.split_vector()"
   ]
  },
  {
   "cell_type": "markdown",
   "id": "59d73fc5",
   "metadata": {},
   "source": [
    "### Make annotation"
   ]
  },
  {
   "cell_type": "code",
   "execution_count": null,
   "id": "d552aa52",
   "metadata": {},
   "outputs": [],
   "source": [
    "pre_processing.grid = gpd.read_file('../datasets/RGB-DTM/img_grid.geojson').set_index('id')"
   ]
  },
  {
   "cell_type": "code",
   "execution_count": null,
   "id": "88f85477",
   "metadata": {},
   "outputs": [],
   "source": [
    "pre_processing.make_annotations()"
   ]
  },
  {
   "cell_type": "code",
   "execution_count": null,
   "id": "cce3704b",
   "metadata": {},
   "outputs": [],
   "source": []
  },
  {
   "cell_type": "markdown",
   "id": "41186ad7",
   "metadata": {},
   "source": [
    "### Outros"
   ]
  },
  {
   "cell_type": "code",
   "execution_count": null,
   "id": "06fc3797",
   "metadata": {},
   "outputs": [],
   "source": [
    "import os\n",
    "from osgeo import gdal, osr\n",
    "from PIL import Image\n",
    "\n",
    "shape_path_aux = '../IMGS/TALHAO_ANGULADAS/INF'\n",
    "\n",
    "result_paths = []\n",
    "for filename in os.listdir(shape_path_aux):\n",
    "    result_paths.append(os.path.join(shape_path_aux, filename))\n",
    "\n",
    "for path in result_paths:\n",
    "    \n",
    "    img = Image.open(path)\n",
    "    w, h = img.size\n",
    "    img = img.crop((1000, 700, w, h))\n",
    "    out_path = os.path.join(os.path.dirname(os.path.dirname(path)), 'EDITS', os.path.basename(path))\n",
    "    img.save(out_path)"
   ]
  },
  {
   "cell_type": "code",
   "execution_count": null,
   "id": "f7ccc322",
   "metadata": {},
   "outputs": [],
   "source": []
  },
  {
   "cell_type": "code",
   "execution_count": null,
   "id": "071332ce",
   "metadata": {},
   "outputs": [],
   "source": []
  },
  {
   "cell_type": "code",
   "execution_count": null,
   "id": "36326507",
   "metadata": {},
   "outputs": [],
   "source": []
  },
  {
   "cell_type": "code",
   "execution_count": null,
   "id": "49d20a44",
   "metadata": {},
   "outputs": [],
   "source": [
    "import os\n",
    "import pandas as pd\n",
    "import geopandas as gpd\n",
    "from tqdm import tqdm\n",
    "from time import sleep\n",
    "\n",
    "\n",
    "shape_path_aux = '../datasets/ortofoto_talhao/results'\n",
    "\n",
    "with tqdm(total=len(os.listdir(shape_path_aux)) as pbar:\n",
    "    pbar.set_description(\"Lendo arquivos de entradas\")\n",
    "    sleep(0.1)\n",
    "\n",
    "    result_paths = []\n",
    "    for filename in os.listdir(shape_path_aux):\n",
    "        if os.path.splitext(filename)[1].lower() == '.geojson':\n",
    "            result_paths.append(os.path.join(shape_path_aux, filename))\n",
    "        pbar.update(1)\n",
    "    \n",
    "\n",
    "pols = pd.concat([gpd.read_file(i) for i in result_paths], axis=0).reset_index(drop=True)\n",
    "pols['geometry'] = pols.buffer(-0.1).buffer(0.1).simplify(0.03)\n",
    "pols = pols.explode().reset_index(drop=True)\n",
    "pols['centroid'] = pols['geometry'].centroid\n",
    "pols.insert(1, column='union', value=0)\n",
    "pols.set_index(keys=pd.Index(range(1, pols.shape[0] + 1)), inplace=True)\n",
    "\n",
    "with tqdm(total=len(pols.index)) as pbar:\n",
    "    pbar.set_description(\"Simplificando - Macro\")\n",
    "    sleep(0.1)\n",
    "    for i in pols.index:\n",
    "        if pols.loc[i, 'union'] == 0:\n",
    "            point = pols.loc[i, 'centroid']\n",
    "            distance = pols['centroid'].distance(point)\n",
    "\n",
    "            distance = distance[distance <= 1]\n",
    "\n",
    "            if len(distance) > 1:\n",
    "                pols.at[distance.index, 'union'] = i\n",
    "            else:\n",
    "                pols.at[i, 'union'] = i\n",
    "        pbar.update(1)\n",
    "\n",
    "pols.drop('centroid', axis=1, inplace=True)\n",
    "pols = pols.dissolve(by='union', as_index=False)\n",
    "pols.drop(pols.loc[pols['geometry'].is_empty].index, axis=0, inplace=True)\n",
    "pols.set_index(keys=pd.Index(range(1, pols.shape[0] + 1)), inplace=True)\n",
    "pols['id'] = pols.index\n",
    "# pols['centroid'] = pols['geometry'].centroid\n",
    "\n",
    "\n",
    "over = gpd.overlay(pols, pols, how='intersection')\n",
    "over = over.loc[-over['geometry'].is_empty]\n",
    "over = over.loc[over['id_1'] != over['id_2']].explode().reset_index(drop=True)\n",
    "delete_lines = []\n",
    "with tqdm(total=len(over['id_1'])) as pbar:\n",
    "    pbar.set_description(\"Simplificando - Micro\")\n",
    "    sleep(0.1)\n",
    "\n",
    "    for i in over['id_1']:\n",
    "\n",
    "        intersec = over[over['id_1']==i]\n",
    "\n",
    "        if intersec.loc[intersec['geometry'].area >= 0.6 * pols.loc[i, 'geometry'].area].any(axis=None) or \\\n",
    "        (3.5 * pols.loc[i, 'geometry'].area < pols.loc[intersec['id_2'], 'geometry'].area).any():\n",
    "            delete_lines.append(i)\n",
    "            \n",
    "        pbar.update(1)\n",
    "\n",
    "    delete_lines = (list(set(delete_lines)))\n",
    "\n",
    "pols.drop(labels=delete_lines, axis=0, inplace=True)\n",
    "pols.explode().reset_index(drop=True)\n",
    "pols.set_index(keys=pd.Index(range(1, pols.shape[0] + 1)), inplace=True)\n",
    "pols.to_file(os.path.join(os.path.dirname(shape_path_aux),'canopy_detection_result.geojson'), driver='GeoJSON')"
   ]
  },
  {
   "cell_type": "code",
   "execution_count": null,
   "id": "f18c7132",
   "metadata": {},
   "outputs": [],
   "source": [
    "pols['id'] = pols.index\n",
    "pols"
   ]
  },
  {
   "cell_type": "code",
   "execution_count": null,
   "id": "fe21aeb9",
   "metadata": {},
   "outputs": [],
   "source": [
    "pols.to_file(os.path.join(os.path.dirname(shape_path_aux),'canopy_detection_result_1.geojson'), driver='GeoJSON')"
   ]
  },
  {
   "cell_type": "code",
   "execution_count": null,
   "id": "6e9de634",
   "metadata": {},
   "outputs": [],
   "source": [
    "over = gpd.overlay(pols, pols, how='intersection')\n",
    "over = over.loc[-over['geometry'].is_empty]\n",
    "over = over.loc[over['id_1'] != over['id_2']].explode().reset_index(drop=True)"
   ]
  },
  {
   "cell_type": "code",
   "execution_count": null,
   "id": "470f181c",
   "metadata": {},
   "outputs": [],
   "source": [
    "over"
   ]
  },
  {
   "cell_type": "code",
   "execution_count": null,
   "id": "5a32f0c4",
   "metadata": {},
   "outputs": [],
   "source": [
    "delete_lines = []\n",
    "\n",
    "for i in over['id_1']:\n",
    "    \n",
    "    intersec = over[over['id_1']==i]\n",
    "    \n",
    "    if intersec.loc[intersec['geometry'].area >= 0.6 * pols.loc[i, 'geometry'].area].any(axis=None) or \\\n",
    "    (3.5 * pols.loc[i, 'geometry'].area < pols.loc[intersec['id_2'], 'geometry'].area).any():\n",
    "        delete_lines.append(i)\n",
    "        \n",
    "delete_lines = (list(set(delete_lines)))\n",
    "delete_lines.sort()            "
   ]
  },
  {
   "cell_type": "code",
   "execution_count": null,
   "id": "9253e72a",
   "metadata": {},
   "outputs": [],
   "source": [
    "pols.loc[delete_lines].to_file(os.path.join(os.path.dirname(shape_path_aux),'canopy_detection_delete.geojson'), driver='GeoJSON')"
   ]
  },
  {
   "cell_type": "code",
   "execution_count": null,
   "id": "32c4c627",
   "metadata": {},
   "outputs": [],
   "source": [
    "pols.drop(labels=delete_lines, axis=0, inplace=True)\n",
    "pols"
   ]
  },
  {
   "cell_type": "code",
   "execution_count": null,
   "id": "3cf8d355",
   "metadata": {},
   "outputs": [],
   "source": [
    "os.path.dirname(shape_path_aux)"
   ]
  },
  {
   "cell_type": "code",
   "execution_count": null,
   "id": "f4933901",
   "metadata": {},
   "outputs": [],
   "source": [
    "pols.buffer(-0.1).buffer(0.1).simplify(0.03).to_file(os.path.join(os.path.dirname(shape_path_aux),'canopy_detection_result_faster_simplify.geojson'), driver='GeoJSON')"
   ]
  },
  {
   "cell_type": "code",
   "execution_count": null,
   "id": "a039211b",
   "metadata": {},
   "outputs": [],
   "source": []
  }
 ],
 "metadata": {
  "kernelspec": {
   "display_name": "rcnn",
   "language": "python",
   "name": "rcnn"
  },
  "language_info": {
   "codemirror_mode": {
    "name": "ipython",
    "version": 3
   },
   "file_extension": ".py",
   "mimetype": "text/x-python",
   "name": "python",
   "nbconvert_exporter": "python",
   "pygments_lexer": "ipython3",
   "version": "3.9.7"
  }
 },
 "nbformat": 4,
 "nbformat_minor": 5
}
