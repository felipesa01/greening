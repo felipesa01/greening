{
 "cells": [
  {
   "cell_type": "code",
   "execution_count": 1,
   "id": "28df3f10",
   "metadata": {},
   "outputs": [],
   "source": [
    "import math\n",
    "import json\n",
    "\n",
    "import rasterio\n",
    "import rasterio.plot\n",
    "from rasterio.mask import mask \n",
    "\n",
    "from osgeo import gdal\n",
    "gdal.UseExceptions()\n",
    "    \n",
    "import geopandas as gpd\n",
    "import numpy as np\n",
    "\n",
    "import matplotlib\n",
    "import matplotlib.pyplot as plt\n",
    "\n",
    "from rasterio.plot import plotting_extent\n",
    "import earthpy as et\n",
    "import earthpy.spatial as es\n",
    "import earthpy.plot as ep\n",
    "\n",
    "import os"
   ]
  },
  {
   "cell_type": "code",
   "execution_count": 2,
   "id": "136cc5f7",
   "metadata": {},
   "outputs": [],
   "source": [
    "def get_bbox(geom):\n",
    "    pairs = []\n",
    "\n",
    "    for i in range(0, len(geom)-1, 2):\n",
    "        pairs.append((geom[i], geom[i+1]))\n",
    "\n",
    "    x = []\n",
    "    y = []\n",
    "    for i in pairs:\n",
    "        x.append(i[0])\n",
    "        y.append(i[1])\n",
    "\n",
    "    bbox = [min(x), min(y), round(max(x)-min(x),2), round(max(y)-min(y),2)]\n",
    "    \n",
    "    return bbox"
   ]
  },
  {
   "cell_type": "markdown",
   "id": "f2eba25c",
   "metadata": {},
   "source": [
    "### Abrir grade delimitadora"
   ]
  },
  {
   "cell_type": "code",
   "execution_count": 3,
   "id": "e846f392",
   "metadata": {},
   "outputs": [],
   "source": [
    "grid_selected = gpd.read_file('../VECTOR/grid_from_img-all.geojson').set_index('id')\n",
    "\n",
    "grid_train = grid_selected[grid_selected['layer'] == 'grid_from_img-train']\n",
    "grid_val = grid_selected[grid_selected['layer'] == 'grid_from_img-val']\n",
    "grid_test = grid_selected[grid_selected['layer'] == 'grid_from_img-test']"
   ]
  },
  {
   "cell_type": "code",
   "execution_count": 4,
   "id": "d967b05a",
   "metadata": {},
   "outputs": [],
   "source": [
    "info = {\n",
    "        \"description\": \"Felipe Sa 2021 - HLB\",\n",
    "        \"url\": \"http://siteaqui.com\",\n",
    "        \"version\": \"1.0\",\n",
    "        \"year\": 2021,\n",
    "        \"contributor\": \"Felipe Sa\",\n",
    "        \"date_created\": \"2021/01/01\"\n",
    "        }\n",
    "\n",
    "licenses = [\n",
    "                {\n",
    "                \"url\": \"http://creativecommons.org/licenses/by-nc-sa/2.0/\",\n",
    "                \"id\": 1,\n",
    "                \"name\": \"Attribution-NonCommercial-ShareAlike License\"\n",
    "                },\n",
    "                {\n",
    "                \"url\": \"http://creativecommons.org/licenses/by-nc/2.0/\",\n",
    "                \"id\": 2,\n",
    "                \"name\": \"Attribution-NonCommercial License\"\n",
    "                }\n",
    "            ]\n",
    "\n",
    "categories = [{\"supercategory\": \"canopy\",\"id\": 1,\"name\": \"hamlin\"}]"
   ]
  },
  {
   "cell_type": "code",
   "execution_count": 5,
   "id": "89f1d598",
   "metadata": {},
   "outputs": [],
   "source": [
    "for s in ['train', 'val']:\n",
    "\n",
    "    path = os.path.join('../Mask_RCNN/datasets/canopy', s, 'images', 'TIF')\n",
    "    \n",
    "    files = [int(x.split('.')[0]) for x in os.listdir(path) if '.' in x]\n",
    "    files.sort()\n",
    "\n",
    "    images = []\n",
    "    annotations = []\n",
    "\n",
    "    for i in files:\n",
    "\n",
    "        # images\n",
    "        img = rasterio.open(os.path.join('../Mask_RCNN/datasets/canopy', s, 'images/TIF/{:04}.tif'.format(i)))\n",
    "\n",
    "        images.append({ \"license\": 1,\n",
    "                        \"file_name\": \"{:04}.jpg\".format(i),\n",
    "                        \"coco_url\": \"empty\",\n",
    "                        \"height\": img.height,\n",
    "                        \"width\": img.width,\n",
    "                        \"date_captured\": \"2020-01-01 00:00:00\",\n",
    "                        \"flickr_url\": \"empty\",\n",
    "                        \"id\": i\n",
    "                        })\n",
    "\n",
    "        # Annotations\n",
    "        copas = gpd.read_file('../VECTOR/CORTES/EDITADOS/corte_{}.geojson'.format(i))\n",
    "\n",
    "        for row in copas.index:\n",
    "\n",
    "            geom_px = [float(x) for x in copas.loc[row, 'geometry_image'].split(', ')]\n",
    "\n",
    "            annotations.append({\"segmentation\": [geom_px],\n",
    "                                # Atenção aqui!! 0.0025 é para o tamanho do pixel de 5cm (0,05 x 0,05 = 0,0025)\n",
    "                                \"area\": copas.loc[row,'geometry'].area/0.0025, \n",
    "                                \"iscrowd\": 0,\n",
    "                                \"image_id\": i,\n",
    "                                \"bbox\": get_bbox(geom_px),\n",
    "                                \"category_id\": 1,\n",
    "                                \"id\": int(str(i) + '0' + str(row + 1)) # Não definido ainda\n",
    "                            })\n",
    "    \n",
    "    annotation = {\n",
    "                \"info\": info,\n",
    "                \"licenses\": licenses,\n",
    "                \"images\": images,\n",
    "                \"categories\": categories,\n",
    "                \"annotations\": annotations,# <-- Not in Captions annotations\n",
    "#                 \"segment_info\": []  # <-- Only in Panoptic annotations\n",
    "                }\n",
    "    \n",
    "    with open(os.path.join(os.path.split(os.path.split(path)[0])[0], 'coco_annotations.json'), 'w') as outfile:\n",
    "        json.dump(annotation, outfile)"
   ]
  },
  {
   "cell_type": "code",
   "execution_count": 6,
   "id": "2eaf637e",
   "metadata": {},
   "outputs": [
    {
     "data": {
      "text/plain": [
       "2087.0951099789304"
      ]
     },
     "execution_count": 6,
     "metadata": {},
     "output_type": "execute_result"
    }
   ],
   "source": [
    "copas.loc[row,'geometry'].area/0.0025"
   ]
  },
  {
   "cell_type": "code",
   "execution_count": null,
   "id": "6a31c0cb",
   "metadata": {},
   "outputs": [],
   "source": []
  }
 ],
 "metadata": {
  "kernelspec": {
   "display_name": "geo",
   "language": "python",
   "name": "geo"
  },
  "language_info": {
   "codemirror_mode": {
    "name": "ipython",
    "version": 3
   },
   "file_extension": ".py",
   "mimetype": "text/x-python",
   "name": "python",
   "nbconvert_exporter": "python",
   "pygments_lexer": "ipython3",
   "version": "3.7.7"
  }
 },
 "nbformat": 4,
 "nbformat_minor": 5
}
