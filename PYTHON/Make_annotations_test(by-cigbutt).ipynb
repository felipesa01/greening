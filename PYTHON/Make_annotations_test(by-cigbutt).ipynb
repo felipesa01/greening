{
 "cells": [
  {
   "cell_type": "code",
   "execution_count": 1,
   "id": "28df3f10",
   "metadata": {},
   "outputs": [],
   "source": [
    "import math\n",
    "import json\n",
    "\n",
    "import rasterio\n",
    "import rasterio.plot\n",
    "from rasterio.mask import mask \n",
    "\n",
    "from osgeo import gdal\n",
    "gdal.UseExceptions()\n",
    "    \n",
    "import geopandas as gpd\n",
    "import numpy as np\n",
    "\n",
    "import matplotlib\n",
    "import matplotlib.pyplot as plt\n",
    "\n",
    "from rasterio.plot import plotting_extent\n",
    "import earthpy as et\n",
    "import earthpy.spatial as es\n",
    "import earthpy.plot as ep\n",
    "\n",
    "import os"
   ]
  },
  {
   "cell_type": "code",
   "execution_count": 2,
   "id": "136cc5f7",
   "metadata": {},
   "outputs": [],
   "source": [
    "def get_bbox(geom):\n",
    "    pairs = []\n",
    "\n",
    "    for i in range(0, len(geom)-1, 2):\n",
    "        pairs.append((geom[i], geom[i+1]))\n",
    "\n",
    "    x = []\n",
    "    y = []\n",
    "    for i in pairs:\n",
    "        x.append(i[0])\n",
    "        y.append(i[1])\n",
    "\n",
    "    bbox = [min(x), min(y), round(max(x)-min(x),2), round(max(y)-min(y),2)]\n",
    "    \n",
    "    return bbox"
   ]
  },
  {
   "cell_type": "markdown",
   "id": "f2eba25c",
   "metadata": {},
   "source": [
    "### Abrir arquivos\n",
    "\n",
    "- Ortomosaico\n",
    "- Grade\n",
    "- Vetor das copas"
   ]
  },
  {
   "cell_type": "code",
   "execution_count": 3,
   "id": "e846f392",
   "metadata": {},
   "outputs": [],
   "source": [
    "img = rasterio.open('../IMGS/odm_orthophoto.tif')\n",
    "\n",
    "grid = gpd.read_file('../VECTOR/grid_from_img.geojson').set_index('id')\n",
    "grid_2 = gpd.read_file('../VECTOR/grid_from_img-2.geojson').set_index('id')\n",
    "\n",
    "copas = gpd.read_file('../VECTOR/copas.geojson')"
   ]
  },
  {
   "cell_type": "code",
   "execution_count": 4,
   "id": "d967b05a",
   "metadata": {},
   "outputs": [],
   "source": [
    "info = {\n",
    "        \"description\": \"Felipe Sa 2021 - HLB\",\n",
    "        \"url\": \"http://siteaqui.com\",\n",
    "        \"version\": \"1.0\",\n",
    "        \"year\": 2021,\n",
    "        \"contributor\": \"Felipe Sa\",\n",
    "        \"date_created\": \"2021/01/01\"\n",
    "        }\n",
    "\n",
    "licenses = [\n",
    "                {\n",
    "                \"url\": \"http://creativecommons.org/licenses/by-nc-sa/2.0/\",\n",
    "                \"id\": 1,\n",
    "                \"name\": \"Attribution-NonCommercial-ShareAlike License\"\n",
    "                },\n",
    "                {\n",
    "                \"url\": \"http://creativecommons.org/licenses/by-nc/2.0/\",\n",
    "                \"id\": 2,\n",
    "                \"name\": \"Attribution-NonCommercial License\"\n",
    "                }\n",
    "            ]"
   ]
  },
  {
   "cell_type": "code",
   "execution_count": 6,
   "id": "89f1d598",
   "metadata": {},
   "outputs": [],
   "source": [
    "files = [int(x.split('.')[0]) for x in os.listdir('../Mask_RCNN/datasets/canopy/train/images')]\n",
    "files.sort()\n",
    "\n",
    "images = []\n",
    "\n",
    "for i in files:\n",
    "    \n",
    "    img = rasterio.open('../IMGS/CORTES/corte_{}.tif'.format(i))\n",
    "    \n",
    "    \n",
    "    images.append({ \"license\": 1,\n",
    "                    \"file_name\": \"{:04}.tif\".format(i),\n",
    "                    \"coco_url\": \"empty\",\n",
    "                    \"height\": img.height,\n",
    "                    \"width\": img.width,\n",
    "                    \"date_captured\": \"2020-01-01 00:00:00\",\n",
    "                    \"flickr_url\": \"empty\",\n",
    "                    \"id\": i\n",
    "                    })"
   ]
  },
  {
   "cell_type": "code",
   "execution_count": 8,
   "id": "8ff58c30",
   "metadata": {},
   "outputs": [],
   "source": [
    "categories = [{\"supercategory\": \"canopy\",\"id\": 1,\"name\": \"hamlin\"}]"
   ]
  },
  {
   "cell_type": "code",
   "execution_count": 9,
   "id": "6dde25bb",
   "metadata": {},
   "outputs": [],
   "source": [
    "annotations = []\n",
    "\n",
    "for i in files:\n",
    "    \n",
    "    copas = gpd.read_file('../VECTOR/CORTES/EDITADOS/corte_{}.geojson'.format(i))\n",
    "    \n",
    "    for row in copas.index:\n",
    "        \n",
    "        geom_px = [float(x) for x in copas.loc[row, 'geometry_image'].split(', ')]\n",
    "        \n",
    "        \n",
    "        annotations.append({\"segmentation\": [geom_px],\n",
    "                            \"area\": copas.loc[row,'geometry'].area/0.0025,\n",
    "                            \"iscrowd\": 0,\n",
    "                            \"image_id\": i,\n",
    "                            \"bbox\": get_bbox(geom_px),\n",
    "                            \"category_id\": 1,\n",
    "                            \"id\": int(str(i) + '0' + str(row + 1)) # Não definido ainda\n",
    "                        })\n",
    "    \n",
    "        area = copas.loc[row, 'geometry'].area/0.0025"
   ]
  },
  {
   "cell_type": "code",
   "execution_count": 10,
   "id": "18448299",
   "metadata": {},
   "outputs": [],
   "source": [
    "annotation = {\n",
    "                \"info\": info,\n",
    "                \"licenses\": licenses,\n",
    "                \"images\": images,\n",
    "                \"categories\": categories,\n",
    "                \"annotations\": annotations,# <-- Not in Captions annotations\n",
    "#                 \"segment_info\": []  # <-- Only in Panoptic annotations\n",
    "                }"
   ]
  },
  {
   "cell_type": "code",
   "execution_count": 11,
   "id": "3dd4a01f",
   "metadata": {},
   "outputs": [],
   "source": [
    "with open('../Mask_RCNN/datasets/canopy/train/coco_annotations.json', 'w') as outfile:\n",
    "    json.dump(annotation, outfile)"
   ]
  },
  {
   "cell_type": "code",
   "execution_count": null,
   "id": "8521925d",
   "metadata": {},
   "outputs": [],
   "source": []
  }
 ],
 "metadata": {
  "kernelspec": {
   "display_name": "geo",
   "language": "python",
   "name": "geo"
  },
  "language_info": {
   "codemirror_mode": {
    "name": "ipython",
    "version": 3
   },
   "file_extension": ".py",
   "mimetype": "text/x-python",
   "name": "python",
   "nbconvert_exporter": "python",
   "pygments_lexer": "ipython3",
   "version": "3.7.7"
  }
 },
 "nbformat": 4,
 "nbformat_minor": 5
}
