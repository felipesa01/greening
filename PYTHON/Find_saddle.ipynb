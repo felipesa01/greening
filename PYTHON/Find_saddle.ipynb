{
 "cells": [
  {
   "cell_type": "code",
   "execution_count": 1,
   "metadata": {},
   "outputs": [],
   "source": [
    "import numpy as np\n",
    "import rasterio\n",
    "from osgeo import gdal\n",
    "from pysheds.grid import Grid"
   ]
  },
  {
   "cell_type": "code",
   "execution_count": 12,
   "metadata": {},
   "outputs": [
    {
     "data": {
      "text/plain": [
       "Raster([[685.42633, 685.4319 , 685.4372 , ..., 684.6238 , 684.6233 ,\n",
       "         684.6226 ],\n",
       "        [685.42755, 685.4326 , 685.43805, ..., 684.62366, 684.6233 ,\n",
       "         684.62274],\n",
       "        [685.4277 , 685.43317, 685.43805, ..., 684.62366, 684.62366,\n",
       "         684.6235 ],\n",
       "        ...,\n",
       "        [684.7793 , 684.7783 , 684.76917, ..., 683.76495, 683.764  ,\n",
       "         683.7628 ],\n",
       "        [684.76666, 684.7634 , 684.761  , ..., 683.7644 , 683.76385,\n",
       "         683.7628 ],\n",
       "        [684.7576 , 684.75507, 684.7488 , ..., 683.7651 , 683.764  ,\n",
       "         683.76337]], dtype=float32)"
      ]
     },
     "execution_count": 12,
     "metadata": {},
     "output_type": "execute_result"
    }
   ],
   "source": [
    "grid = Grid.from_raster('../IMGS/area_estudo/Teste_IV_dsm/DSM.tif', data_name='DSM')\n",
    "grid.read_raster('../IMGS/area_estudo/Teste_IV_dsm/DSM.tif', data_name='dir')\n",
    "grid.view('dir')"
   ]
  },
  {
   "cell_type": "code",
   "execution_count": 14,
   "metadata": {},
   "outputs": [
    {
     "data": {
      "text/plain": [
       "Raster([[  0.,   0.,   0., ...,   0.,   0.,   0.],\n",
       "        [  0.,  16.,  16., ...,   1.,   1.,   0.],\n",
       "        [  0.,  16.,  16., ..., 128., 128.,   0.],\n",
       "        ...,\n",
       "        [  0.,   4.,   2., ...,   1.,   1.,   0.],\n",
       "        [  0.,   2.,   4., ...,   1.,   1.,   0.],\n",
       "        [  0.,   0.,   0., ...,   0.,   0.,   0.]], dtype=float32)"
      ]
     },
     "execution_count": 14,
     "metadata": {},
     "output_type": "execute_result"
    }
   ],
   "source": [
    "# Determine D8 flow directions from DEM\n",
    "# ----------------------\n",
    "# Fill depressions in DEM\n",
    "grid.fill_depressions('DSM', out_name='flooded_dem')\n",
    "    \n",
    "# Resolve flats in DEM\n",
    "grid.resolve_flats('flooded_dem', out_name='inflated_dem')\n",
    "    \n",
    "# Specify directional mapping\n",
    "dirmap = (64, 128, 1, 2, 4, 8, 16, 32)\n",
    "    \n",
    "# Compute flow directions\n",
    "# -------------------------------------\n",
    "grid.flowdir(data='inflated_dem', out_name='dir', dirmap=dirmap)\n",
    "grid.view('dir')"
   ]
  },
  {
   "cell_type": "code",
   "execution_count": null,
   "metadata": {},
   "outputs": [],
   "source": [
    "dataset_dem = gdal.Open('../IMGS/area_estudo/Teste_IV_dsm/DSM.tif')"
   ]
  },
  {
   "cell_type": "code",
   "execution_count": null,
   "metadata": {},
   "outputs": [],
   "source": [
    "band_dem = dataset_dem.GetRasterBand(1)"
   ]
  },
  {
   "cell_type": "code",
   "execution_count": null,
   "metadata": {},
   "outputs": [],
   "source": [
    "array_dem = band_dem.ReadAsArray()\n",
    "array_dem"
   ]
  },
  {
   "cell_type": "code",
   "execution_count": null,
   "metadata": {},
   "outputs": [],
   "source": [
    "array_dem_norm = (array_dem - np.min(array_dem)) / (np.max(array_dem) - np.min(array_dem))\n",
    "array_dem_norm"
   ]
  },
  {
   "cell_type": "code",
   "execution_count": null,
   "metadata": {},
   "outputs": [],
   "source": [
    "# get difference in x- and y- direction\n",
    "sec_grad_x = np.diff(array_dem_norm,n=1,axis=0)\n",
    "sec_grad_y = np.diff(array_dem_norm,n=1,axis=1)\n",
    "\n",
    "cp = []\n",
    "# starts from 1 because diff function gives a forward difference\n",
    "for i in range(1,n-1):\n",
    "    for j in range(1,n-1):\n",
    "        # check when the difference changes its sign\n",
    "        if ((sec_grad_x[i-1,j]<0) != (sec_grad_x[i-1+1,j]<0)) and \\\n",
    "           ((sec_grad_y[i,j-1]<0) != (sec_grad_y[i,j-1+1]<0)):\n",
    "            cp.append([i,j,  storm[i,j]])\n",
    "\n",
    "cp = np.array(cp)"
   ]
  },
  {
   "cell_type": "code",
   "execution_count": null,
   "metadata": {},
   "outputs": [],
   "source": []
  }
 ],
 "metadata": {
  "kernelspec": {
   "display_name": "geo",
   "language": "python",
   "name": "geo"
  },
  "language_info": {
   "codemirror_mode": {
    "name": "ipython",
    "version": 3
   },
   "file_extension": ".py",
   "mimetype": "text/x-python",
   "name": "python",
   "nbconvert_exporter": "python",
   "pygments_lexer": "ipython3",
   "version": "3.7.7"
  }
 },
 "nbformat": 4,
 "nbformat_minor": 4
}
