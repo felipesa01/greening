{
 "cells": [
  {
   "cell_type": "code",
   "execution_count": null,
   "id": "28df3f10",
   "metadata": {},
   "outputs": [],
   "source": [
    "import math\n",
    "\n",
    "import os\n",
    "\n",
    "import rasterio\n",
    "import rasterio.plot\n",
    "from rasterio.plot import plotting_extent\n",
    "from rasterio.mask import mask \n",
    "\n",
    "from osgeo import gdal, osr\n",
    "gdal.UseExceptions()\n",
    "    \n",
    "import shapely\n",
    "import geopandas as gpd\n",
    "import numpy as np\n",
    "\n",
    "import matplotlib\n",
    "import matplotlib.pyplot as plt\n",
    "\n",
    "import earthpy as et\n",
    "import earthpy.spatial as es\n",
    "import earthpy.plot as ep\n",
    "\n",
    "from shutil import copyfile\n",
    "from PIL import Image"
   ]
  },
  {
   "cell_type": "markdown",
   "id": "f2eba25c",
   "metadata": {},
   "source": [
    "### Abrir arquivos"
   ]
  },
  {
   "cell_type": "code",
   "execution_count": null,
   "id": "e846f392",
   "metadata": {},
   "outputs": [],
   "source": [
    "# Abrir arquivo de copas\n",
    "copas = gpd.read_file('../VECTOR/copas_final.gpkg').set_index('id').sort_index()\n",
    "\n",
    "img = gdal.Open('../IMGS/odm_orthophoto.tif')"
   ]
  },
  {
   "cell_type": "markdown",
   "id": "46c7257a",
   "metadata": {},
   "source": [
    "### Cortar ortomosaico em patches"
   ]
  },
  {
   "cell_type": "code",
   "execution_count": null,
   "id": "4673ed27",
   "metadata": {},
   "outputs": [],
   "source": [
    "##############################\n",
    "## Corte com gdal.Translate ##\n",
    "## ------------------------ ##\n",
    "##     Sem grade prévia     ##\n",
    "##############################\n",
    "\n",
    "# Acessar EPSG do mosaico\n",
    "prj = img.GetProjection()\n",
    "srs = osr.SpatialReference(wkt=prj)\n",
    "epsg = 'EPSG:' + srs.GetAuthorityCode('projcs')\n",
    "\n",
    "# Tamanho das imagens (px)\n",
    "patch_size = 256\n",
    "\n",
    "# Start do ID e do dicionario de poligonos formadores da grade\n",
    "i = 1\n",
    "grid_pol = {'id':[], 'geometry':[]}\n",
    "\n",
    "# Iterar em cada linha da imagem com passos de mesmo tamanho dos patches\n",
    "for px_x in range(0, img.RasterXSize, patch_size):\n",
    "    \n",
    "    # Iterar em cada coluna da imagem com passos de mesmo tamanho dos patches\n",
    "    for px_y in range(0, img.RasterYSize, patch_size):\n",
    "        \n",
    "        # Gerar o dataset do patch na memoria\n",
    "        ds = gdal.Translate('/vsimem/corte_{i}.tif'.format(i=i), \n",
    "                       img, \n",
    "                       srcWin = [px_x, px_y, patch_size, patch_size])\n",
    "        \n",
    "        # Gerar poligono envolvente da imagem\n",
    "        xmin, xpixel, _, ymax, _, ypixel = ds.GetGeoTransform()\n",
    "        width, height = ds.RasterXSize, ds.RasterYSize\n",
    "        xmax = xmin + width * xpixel\n",
    "        ymin = ymax + height * ypixel\n",
    "        geom = shapely.geometry.box(xmin, ymin, xmax, ymax)\n",
    "        \n",
    "        \n",
    "        # Avaliar se o patch corresponde a uma região da imagem com valores válidos (Não zero) e\n",
    "        # se o patch apresenta alguma copa no seu interior\n",
    "        if len(ds.ReadAsArray().nonzero()[0]) != 0 and copas.intersects(geom).any():\n",
    "            \n",
    "            # Salvar o pacth em disco          \n",
    "            gdal.Translate('../IMGS/CORTES/corte_{i}.tif'.format(i=i), \n",
    "                       img, \n",
    "                       srcWin = [px_x, px_y, patch_size, patch_size])\n",
    "            \n",
    "            # Inserir poligono na lista\n",
    "            grid_pol['id'].append(i)\n",
    "            grid_pol['geometry'].append(geom)\n",
    "            \n",
    "            # Atualizar identificador\n",
    "            i += 1\n",
    "\n",
    "# Gerar o GeoDataFrame com a grade e salvá-la            \n",
    "grid = gpd.GeoDataFrame(grid_pol, crs=epsg).set_index('id')\n",
    "grid.to_file('../VECTOR/grid_from_img.geojson', driver='GeoJSON')"
   ]
  },
  {
   "cell_type": "markdown",
   "id": "a4ed800c",
   "metadata": {},
   "source": [
    "### Cortar vetor das copas"
   ]
  },
  {
   "cell_type": "code",
   "execution_count": null,
   "id": "af4f41bb",
   "metadata": {},
   "outputs": [],
   "source": [
    "list_empty = []\n",
    "\n",
    "for i in grid.index:\n",
    "    corte = gpd.clip(copas, grid.loc[[i]])\n",
    "    \n",
    "    if corte.empty:\n",
    "        list_empty.append(i)\n",
    "    else:\n",
    "        corte.to_file('../VECTOR/CORTES/corte_{}.geojson'.format(i), driver=\"GeoJSON\")\n",
    "        \n",
    "print('Grids não salvas: ', list_empty)"
   ]
  },
  {
   "cell_type": "markdown",
   "id": "245d9f74",
   "metadata": {},
   "source": [
    "### Avaliar se existe alguma copa cortada que foi dividida em duas quando particionada (multipartes)\n",
    "\n",
    "A partir desse ponto é necessária a existência de um arquivo (grid_selected) correspondente à grade onde será feita a avaliação e com a designação das amostras de treinamento, validação e teste \n",
    "\n",
    "Necessário uma coluna \"layer\" com os valores:\n",
    " - grid_from_img-train;\n",
    " - grid_from_img-val \n",
    " - grid_from_img-test)"
   ]
  },
  {
   "cell_type": "code",
   "execution_count": null,
   "id": "357b6e64",
   "metadata": {
    "scrolled": true
   },
   "outputs": [],
   "source": [
    "grid_selected = gpd.read_file('../VECTOR/grid_from_img-all.geojson').set_index('id')\n",
    "\n",
    "multi = {}\n",
    "for z in grid_selected.index:\n",
    "    \n",
    "    img = rasterio.open('../IMGS/CORTES/corte_{}.tif'.format(z))\n",
    "    corte = gpd.read_file('../VECTOR/CORTES/corte_{}.geojson'.format(z))\n",
    "    \n",
    "    corte.insert(len(corte.columns),'geometry_image', 0)\n",
    "    corte['geometry_image'] = corte['geometry_image'].astype('object')\n",
    "\n",
    "    features = []\n",
    "    for i in range(corte.shape[0]):\n",
    "        \n",
    "        if corte.loc[i,'geometry'].geom_type == 'MultiPolygon':\n",
    "            features.append(i)\n",
    "    \n",
    "    if len(features) != 0:\n",
    "        multi[z] = features\n",
    "\n",
    "multi"
   ]
  },
  {
   "cell_type": "markdown",
   "id": "663246ae",
   "metadata": {},
   "source": [
    "### Inserir coluna de coordenadas das copas em posição X Y da imagem"
   ]
  },
  {
   "cell_type": "code",
   "execution_count": null,
   "id": "8e207f21",
   "metadata": {},
   "outputs": [],
   "source": [
    "for z in grid_selected.index:\n",
    "    \n",
    "    img = rasterio.open('../IMGS/CORTES/corte_{}.tif'.format(z))\n",
    "    corte = gpd.read_file('../VECTOR/CORTES/corte_{}.geojson'.format(z))\n",
    "    \n",
    "    corte.insert(len(corte.columns)-1,'geometry_image', 0)\n",
    "    corte['geometry_image'] = corte['geometry_image'].astype('string')\n",
    "\n",
    "    for i in corte.index:\n",
    "        \n",
    "        # [FEITO] Preciso avaliar a ocorrencia de multipartes \n",
    "        # A função .coords e .exterior não se aplicam a multipartes [FEITO]\n",
    "        coord = list(corte.loc[i,'geometry'].exterior.coords)\n",
    "        \n",
    "        segmentation = ''\n",
    "        # Atenção aqui!! A visualização das annotations indicou que na lista de coors_img, o y precede o x\n",
    "        for xy in coord:\n",
    "            segmentation += str(round(img.index(xy[0],xy[1], float)[1],2)) + ', ' + str(round(img.index(xy[0],xy[1], float)[0],2)) + ', '\n",
    "        \n",
    "        \n",
    "        segmentation = segmentation[:-2]\n",
    "        corte.at[i,'geometry_image'] = segmentation\n",
    "    \n",
    "    corte.to_file('../VECTOR/CORTES/EDITADOS/corte_{}.geojson'.format(z), driver=\"GeoJSON\")"
   ]
  },
  {
   "cell_type": "markdown",
   "id": "0c6a0846",
   "metadata": {},
   "source": [
    "### Transferência e conversão dos patches em .tif para a pasta da RmaskCNN em .tif e .jpg"
   ]
  },
  {
   "cell_type": "code",
   "execution_count": null,
   "id": "69df42ff",
   "metadata": {},
   "outputs": [],
   "source": [
    "id_train = grid_selected[grid_selected['layer'] == 'grid_from_img-train'].index\n",
    "id_val = grid_selected[grid_selected['layer'] == 'grid_from_img-val'].index\n",
    "id_test = grid_selected[grid_selected['layer'] == 'grid_from_img-test'].index"
   ]
  },
  {
   "cell_type": "code",
   "execution_count": null,
   "id": "cc81f466",
   "metadata": {},
   "outputs": [],
   "source": [
    "for i in id_train:\n",
    "    copyfile('../IMGS/CORTES/corte_{}.tif'.format(i), '../Mask_RCNN/datasets/canopy/train/images/TIF/{:04}.tif'.format(i))\n",
    "    \n",
    "for i in id_val:\n",
    "    copyfile('../IMGS/CORTES/corte_{}.tif'.format(i), '../Mask_RCNN/datasets/canopy/val/images/TIF/{:04}.tif'.format(i))\n",
    "    \n",
    "for i in id_test:\n",
    "    copyfile('../IMGS/CORTES/corte_{}.tif'.format(i), '../Mask_RCNN/datasets/canopy/real_test/images/TIF/{:04}.tif'.format(i))"
   ]
  },
  {
   "cell_type": "code",
   "execution_count": null,
   "id": "6186b120",
   "metadata": {},
   "outputs": [],
   "source": [
    "for root, dirs, files in os.walk('../Mask_RCNN/datasets/canopy/', topdown=False):\n",
    "    \n",
    "    if root[-4:] == '/TIF':\n",
    "        \n",
    "        for name in files:\n",
    "            \n",
    "            print(os.path.join(root, name))\n",
    "\n",
    "            if os.path.splitext(os.path.join(root, name))[1].lower() == \".tif\":\n",
    "\n",
    "                outpath = os.path.split(root)[0]\n",
    "\n",
    "                if os.path.isfile(os.path.splitext(os.path.join(outpath, name))[0] + \".jpg\"):\n",
    "                    print('A jpeg file already exists for {}'.format(name))\n",
    "\n",
    "                # If a jpeg is *NOT* present, create one from the tiff.\n",
    "                else:\n",
    "                    outfile = os.path.splitext(os.path.join(outpath, name))[0] + \".jpg\"\n",
    "                    try:\n",
    "                        im = Image.open(os.path.join(root, name))\n",
    "                        print(\"Generating jpeg for {}\".format(name))\n",
    "                        im.thumbnail(im.size)\n",
    "                        im.convert('RGB').save(outfile, \"JPEG\", quality=100)\n",
    "                    except Exception as e:\n",
    "                        print(e)"
   ]
  },
  {
   "cell_type": "markdown",
   "id": "aa1f2888",
   "metadata": {},
   "source": [
    "### Plotar\n",
    "\n",
    "Plotar 25 amostras aleatórias dos patches com as delimitações das copas"
   ]
  },
  {
   "cell_type": "code",
   "execution_count": null,
   "id": "bbeeb6d6",
   "metadata": {},
   "outputs": [],
   "source": [
    "fig, ax = plt.subplots(5, 5, figsize=(15,15))\n",
    "\n",
    "for i, axs in zip(grid_selected.sample(25).index, ax.flat):\n",
    "    \n",
    "    img = rasterio.open('../IMGS/CORTES/corte_{}.tif'.format(i))\n",
    "    vetor = gpd.read_file('../VECTOR/CORTES/corte_{}.geojson'.format(i))\n",
    "\n",
    "    plot_extent = plotting_extent(img)\n",
    "    ep.plot_rgb(img.read(),\n",
    "               rgb = [0, 1, 2],\n",
    "               extent = plot_extent,\n",
    "               ax=axs)\n",
    "\n",
    "    vetor.plot(ax=axs, facecolor='none', edgecolor='red')\n",
    "    \n",
    "    axs.set_title('Tile {}'.format(i))"
   ]
  },
  {
   "cell_type": "code",
   "execution_count": null,
   "id": "fba9c2dd",
   "metadata": {},
   "outputs": [],
   "source": []
  }
 ],
 "metadata": {
  "kernelspec": {
   "display_name": "Geo",
   "language": "python",
   "name": "geo"
  },
  "language_info": {
   "codemirror_mode": {
    "name": "ipython",
    "version": 3
   },
   "file_extension": ".py",
   "mimetype": "text/x-python",
   "name": "python",
   "nbconvert_exporter": "python",
   "pygments_lexer": "ipython3",
   "version": "3.8.2"
  }
 },
 "nbformat": 4,
 "nbformat_minor": 5
}
