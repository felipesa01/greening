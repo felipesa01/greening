{
 "cells": [
  {
   "cell_type": "code",
   "execution_count": 3,
   "id": "a9e82564",
   "metadata": {},
   "outputs": [
    {
     "ename": "ImportError",
     "evalue": "\n\nIMPORTANT: PLEASE READ THIS FOR ADVICE ON HOW TO SOLVE THIS ISSUE!\n\nImporting the numpy c-extensions failed.\n- Try uninstalling and reinstalling numpy.\n- If you have already done that, then:\n  1. Check that you expected to use Python3.6 from \"C:\\Users\\Colaborador\\anaconda3\\envs\\rcnn\\python.exe\",\n     and that you have no directories in your PATH or PYTHONPATH that can\n     interfere with the Python and numpy version \"1.17.5\" you're trying to use.\n  2. If (1) looks fine, you can open a new issue at\n     https://github.com/numpy/numpy/issues.  Please include details on:\n     - how you installed Python\n     - how you installed numpy\n     - your operating system\n     - whether or not you have multiple versions of Python installed\n     - if you built from source, your compiler versions and ideally a build log\n\n- If you're working with a numpy git repository, try `git clean -xdf`\n  (removes all files not under version control) and rebuild numpy.\n\nNote: this error has many possible causes, so please don't comment on\nan existing issue about this - open a new one instead.\n\nOriginal error was: DLL load failed: The specified module could not be found.\n",
     "output_type": "error",
     "traceback": [
      "\u001b[1;31m---------------------------------------------------------------------------\u001b[0m",
      "\u001b[1;31mImportError\u001b[0m                               Traceback (most recent call last)",
      "\u001b[1;32m~\\anaconda3\\envs\\rcnn\\lib\\site-packages\\numpy\\core\\__init__.py\u001b[0m in \u001b[0;36m<module>\u001b[1;34m\u001b[0m\n\u001b[0;32m     16\u001b[0m \u001b[1;32mtry\u001b[0m\u001b[1;33m:\u001b[0m\u001b[1;33m\u001b[0m\u001b[1;33m\u001b[0m\u001b[0m\n\u001b[1;32m---> 17\u001b[1;33m     \u001b[1;32mfrom\u001b[0m \u001b[1;33m.\u001b[0m \u001b[1;32mimport\u001b[0m \u001b[0mmultiarray\u001b[0m\u001b[1;33m\u001b[0m\u001b[1;33m\u001b[0m\u001b[0m\n\u001b[0m\u001b[0;32m     18\u001b[0m \u001b[1;32mexcept\u001b[0m \u001b[0mImportError\u001b[0m \u001b[1;32mas\u001b[0m \u001b[0mexc\u001b[0m\u001b[1;33m:\u001b[0m\u001b[1;33m\u001b[0m\u001b[1;33m\u001b[0m\u001b[0m\n",
      "\u001b[1;32m~\\anaconda3\\envs\\rcnn\\lib\\site-packages\\numpy\\core\\multiarray.py\u001b[0m in \u001b[0;36m<module>\u001b[1;34m\u001b[0m\n\u001b[0;32m     13\u001b[0m \u001b[1;33m\u001b[0m\u001b[0m\n\u001b[1;32m---> 14\u001b[1;33m \u001b[1;32mfrom\u001b[0m \u001b[1;33m.\u001b[0m \u001b[1;32mimport\u001b[0m \u001b[0moverrides\u001b[0m\u001b[1;33m\u001b[0m\u001b[1;33m\u001b[0m\u001b[0m\n\u001b[0m\u001b[0;32m     15\u001b[0m \u001b[1;32mfrom\u001b[0m \u001b[1;33m.\u001b[0m \u001b[1;32mimport\u001b[0m \u001b[0m_multiarray_umath\u001b[0m\u001b[1;33m\u001b[0m\u001b[1;33m\u001b[0m\u001b[0m\n",
      "\u001b[1;32m~\\anaconda3\\envs\\rcnn\\lib\\site-packages\\numpy\\core\\overrides.py\u001b[0m in \u001b[0;36m<module>\u001b[1;34m\u001b[0m\n\u001b[0;32m      6\u001b[0m \u001b[1;33m\u001b[0m\u001b[0m\n\u001b[1;32m----> 7\u001b[1;33m from numpy.core._multiarray_umath import (\n\u001b[0m\u001b[0;32m      8\u001b[0m     add_docstring, implement_array_function, _get_implementing_args)\n",
      "\u001b[1;31mImportError\u001b[0m: DLL load failed: The specified module could not be found.",
      "\nDuring handling of the above exception, another exception occurred:\n",
      "\u001b[1;31mImportError\u001b[0m                               Traceback (most recent call last)",
      "\u001b[1;32m<ipython-input-3-fab17cbad6b6>\u001b[0m in \u001b[0;36m<module>\u001b[1;34m\u001b[0m\n\u001b[0;32m      3\u001b[0m \u001b[1;32mimport\u001b[0m \u001b[0msys\u001b[0m\u001b[1;33m\u001b[0m\u001b[1;33m\u001b[0m\u001b[0m\n\u001b[0;32m      4\u001b[0m \u001b[0msys\u001b[0m\u001b[1;33m.\u001b[0m\u001b[0mpath\u001b[0m\u001b[1;33m.\u001b[0m\u001b[0mappend\u001b[0m\u001b[1;33m(\u001b[0m\u001b[1;34m'../Mask_RCNN'\u001b[0m\u001b[1;33m)\u001b[0m\u001b[1;33m\u001b[0m\u001b[1;33m\u001b[0m\u001b[0m\n\u001b[1;32m----> 5\u001b[1;33m \u001b[1;32mimport\u001b[0m \u001b[0mmrcnn\u001b[0m\u001b[1;33m.\u001b[0m\u001b[0mmodel\u001b[0m \u001b[1;32mas\u001b[0m \u001b[0mmodellib\u001b[0m\u001b[1;33m\u001b[0m\u001b[1;33m\u001b[0m\u001b[0m\n\u001b[0m\u001b[0;32m      6\u001b[0m \u001b[1;33m\u001b[0m\u001b[0m\n\u001b[0;32m      7\u001b[0m \u001b[1;31m# Autoria\u001b[0m\u001b[1;33m\u001b[0m\u001b[1;33m\u001b[0m\u001b[1;33m\u001b[0m\u001b[0m\n",
      "\u001b[1;32mD:\\FelipeSa\\greening\\Mask_RCNN\\mrcnn\\model.py\u001b[0m in \u001b[0;36m<module>\u001b[1;34m\u001b[0m\n\u001b[0;32m     14\u001b[0m \u001b[1;32mfrom\u001b[0m \u001b[0mcollections\u001b[0m \u001b[1;32mimport\u001b[0m \u001b[0mOrderedDict\u001b[0m\u001b[1;33m\u001b[0m\u001b[1;33m\u001b[0m\u001b[0m\n\u001b[0;32m     15\u001b[0m \u001b[1;32mimport\u001b[0m \u001b[0mmultiprocessing\u001b[0m\u001b[1;33m\u001b[0m\u001b[1;33m\u001b[0m\u001b[0m\n\u001b[1;32m---> 16\u001b[1;33m \u001b[1;32mimport\u001b[0m \u001b[0mnumpy\u001b[0m \u001b[1;32mas\u001b[0m \u001b[0mnp\u001b[0m\u001b[1;33m\u001b[0m\u001b[1;33m\u001b[0m\u001b[0m\n\u001b[0m\u001b[0;32m     17\u001b[0m \u001b[1;32mimport\u001b[0m \u001b[0mtensorflow\u001b[0m \u001b[1;32mas\u001b[0m \u001b[0mtf\u001b[0m\u001b[1;33m\u001b[0m\u001b[1;33m\u001b[0m\u001b[0m\n\u001b[0;32m     18\u001b[0m \u001b[1;32mimport\u001b[0m \u001b[0mtensorflow\u001b[0m\u001b[1;33m.\u001b[0m\u001b[0mkeras\u001b[0m \u001b[1;32mas\u001b[0m \u001b[0mkeras\u001b[0m\u001b[1;33m\u001b[0m\u001b[1;33m\u001b[0m\u001b[0m\n",
      "\u001b[1;32m~\\anaconda3\\envs\\rcnn\\lib\\site-packages\\numpy\\__init__.py\u001b[0m in \u001b[0;36m<module>\u001b[1;34m\u001b[0m\n\u001b[0;32m    140\u001b[0m     \u001b[1;32mfrom\u001b[0m \u001b[1;33m.\u001b[0m \u001b[1;32mimport\u001b[0m \u001b[0m_distributor_init\u001b[0m\u001b[1;33m\u001b[0m\u001b[1;33m\u001b[0m\u001b[0m\n\u001b[0;32m    141\u001b[0m \u001b[1;33m\u001b[0m\u001b[0m\n\u001b[1;32m--> 142\u001b[1;33m     \u001b[1;32mfrom\u001b[0m \u001b[1;33m.\u001b[0m \u001b[1;32mimport\u001b[0m \u001b[0mcore\u001b[0m\u001b[1;33m\u001b[0m\u001b[1;33m\u001b[0m\u001b[0m\n\u001b[0m\u001b[0;32m    143\u001b[0m     \u001b[1;32mfrom\u001b[0m \u001b[1;33m.\u001b[0m\u001b[0mcore\u001b[0m \u001b[1;32mimport\u001b[0m \u001b[1;33m*\u001b[0m\u001b[1;33m\u001b[0m\u001b[1;33m\u001b[0m\u001b[0m\n\u001b[0;32m    144\u001b[0m     \u001b[1;32mfrom\u001b[0m \u001b[1;33m.\u001b[0m \u001b[1;32mimport\u001b[0m \u001b[0mcompat\u001b[0m\u001b[1;33m\u001b[0m\u001b[1;33m\u001b[0m\u001b[0m\n",
      "\u001b[1;32m~\\anaconda3\\envs\\rcnn\\lib\\site-packages\\numpy\\core\\__init__.py\u001b[0m in \u001b[0;36m<module>\u001b[1;34m\u001b[0m\n\u001b[0;32m     45\u001b[0m \"\"\" % (sys.version_info[0], sys.version_info[1], sys.executable,\n\u001b[0;32m     46\u001b[0m         __version__, exc)\n\u001b[1;32m---> 47\u001b[1;33m     \u001b[1;32mraise\u001b[0m \u001b[0mImportError\u001b[0m\u001b[1;33m(\u001b[0m\u001b[0mmsg\u001b[0m\u001b[1;33m)\u001b[0m\u001b[1;33m\u001b[0m\u001b[1;33m\u001b[0m\u001b[0m\n\u001b[0m\u001b[0;32m     48\u001b[0m \u001b[1;32mfinally\u001b[0m\u001b[1;33m:\u001b[0m\u001b[1;33m\u001b[0m\u001b[1;33m\u001b[0m\u001b[0m\n\u001b[0;32m     49\u001b[0m     \u001b[1;32mfor\u001b[0m \u001b[0menvkey\u001b[0m \u001b[1;32min\u001b[0m \u001b[0menv_added\u001b[0m\u001b[1;33m:\u001b[0m\u001b[1;33m\u001b[0m\u001b[1;33m\u001b[0m\u001b[0m\n",
      "\u001b[1;31mImportError\u001b[0m: \n\nIMPORTANT: PLEASE READ THIS FOR ADVICE ON HOW TO SOLVE THIS ISSUE!\n\nImporting the numpy c-extensions failed.\n- Try uninstalling and reinstalling numpy.\n- If you have already done that, then:\n  1. Check that you expected to use Python3.6 from \"C:\\Users\\Colaborador\\anaconda3\\envs\\rcnn\\python.exe\",\n     and that you have no directories in your PATH or PYTHONPATH that can\n     interfere with the Python and numpy version \"1.17.5\" you're trying to use.\n  2. If (1) looks fine, you can open a new issue at\n     https://github.com/numpy/numpy/issues.  Please include details on:\n     - how you installed Python\n     - how you installed numpy\n     - your operating system\n     - whether or not you have multiple versions of Python installed\n     - if you built from source, your compiler versions and ideally a build log\n\n- If you're working with a numpy git repository, try `git clean -xdf`\n  (removes all files not under version control) and rebuild numpy.\n\nNote: this error has many possible causes, so please don't comment on\nan existing issue about this - open a new one instead.\n\nOriginal error was: DLL load failed: The specified module could not be found.\n"
     ]
    }
   ],
   "source": [
    "import geopandas as gpd\n",
    "\n",
    "import sys\n",
    "sys.path.append('../Mask_RCNN')\n",
    "import mrcnn.model as modellib\n",
    "\n",
    "# Autoria\n",
    "import canopy_detection_4b as orca"
   ]
  },
  {
   "cell_type": "code",
   "execution_count": null,
   "id": "32dfb422",
   "metadata": {},
   "outputs": [],
   "source": [
    "logs = '../Mask_RCNN/logs'\n",
    "config = orca.OrangeCanopyConfig()\n",
    "dataset = '../datasets/area_estudo_teste1/'"
   ]
  },
  {
   "cell_type": "code",
   "execution_count": null,
   "id": "04ac7643",
   "metadata": {},
   "outputs": [],
   "source": [
    "model = modellib.MaskRCNN(mode='inference', config=config, model_dir=logs)"
   ]
  },
  {
   "cell_type": "code",
   "execution_count": null,
   "id": "724a8775",
   "metadata": {},
   "outputs": [],
   "source": [
    "weights = '../Mask_RCNN/logs/oranges_trees_canopy20211014T2316/mask_rcnn_oranges_trees_canopy_0060.h5'\n",
    "\n",
    "model.load_weights(weights, by_name=True)"
   ]
  },
  {
   "cell_type": "code",
   "execution_count": null,
   "id": "9a1f04c4",
   "metadata": {},
   "outputs": [],
   "source": [
    "img_test = gpd.read_file(dataset + '/img_grid.geojson')\n",
    "ids = list(img_test.loc[img_test['split_samples'] == 'test'].index)\n",
    "len(ids)"
   ]
  },
  {
   "cell_type": "code",
   "execution_count": null,
   "id": "796d03dd",
   "metadata": {
    "scrolled": true
   },
   "outputs": [],
   "source": [
    "results = orca.prediction(model, dataset, id_list=ids, verbose=0, first=False, join=True)"
   ]
  },
  {
   "cell_type": "code",
   "execution_count": null,
   "id": "1a350e96",
   "metadata": {},
   "outputs": [],
   "source": [
    "results"
   ]
  },
  {
   "cell_type": "code",
   "execution_count": null,
   "id": "8c6d8a72",
   "metadata": {},
   "outputs": [],
   "source": []
  },
  {
   "cell_type": "code",
   "execution_count": null,
   "id": "c3ce10d5",
   "metadata": {},
   "outputs": [],
   "source": [
    "import os\n",
    "import pandas as pd \n",
    "from tqdm import tqdm\n",
    "from time import sleep\n",
    "\n",
    "centroid_dist = 1\n",
    "limiar_ovelap = 0.6\n",
    "\n",
    "shape_path_aux = '../datasets/area_estudo_teste1/results/'\n",
    "\n",
    "result_paths = []\n",
    "for filename in os.listdir(shape_path_aux):\n",
    "    if os.path.splitext(filename)[1].lower() == '.geojson':\n",
    "        result_paths.append(os.path.join(shape_path_aux, filename))\n",
    "\n",
    "pols = pd.concat([gpd.read_file(i) for i in result_paths], axis=0).reset_index(drop=True)\n",
    "pols = pols[pols.geometry.is_valid]\n",
    "pols['geometry'] = pols.buffer(0.1).buffer(-0.1).simplify(0.03)\n",
    "pols = pols.explode('geometry').reset_index(drop=True)\n",
    "pols['centroid'] = pols['geometry'].centroid\n",
    "pols.insert(1, column='union', value=0)\n",
    "pols.set_index(keys=pd.Index(range(1, pols.shape[0] + 1)), inplace=True)\n",
    "\n",
    "with tqdm(total=len(pols.index)) as pbar:\n",
    "    pbar.set_description(\"Simplificando - Macro\")\n",
    "    sleep(0.1)\n",
    "    for i in pols.index:\n",
    "        if pols.loc[i, 'union'] == 0:\n",
    "            point = pols.loc[i, 'centroid']\n",
    "            distance = pols['centroid'].distance(point)\n",
    "\n",
    "            distance = distance[distance <= centroid_dist]\n",
    "\n",
    "            if len(distance) > 1:\n",
    "                pols.at[distance.index, 'union'] = i\n",
    "            else:\n",
    "                pols.at[i, 'union'] = i\n",
    "        pbar.update(1)\n",
    "\n",
    "# pols.drop('centroid', axis=1, inplace=True)\n",
    "pols = pols.dissolve(by='union', as_index=False)\n",
    "pols.drop(['union', 'centroid'], axis=1, inplace=True)\n",
    "pols.drop(pols.loc[pols['geometry'].is_empty].index, axis=0, inplace=True)\n",
    "pols.set_index(keys=pd.Index(range(1, pols.shape[0] + 1)), inplace=True)\n",
    "pols['id'] = pols.index\n",
    "# pols['centroid'] = pols['geometry'].centroid\n",
    "\n",
    "# Gerar intersecoes entre os poligonos encontrados\n",
    "# Uso de busca indexada (R-tree) com a função gpd.overlay()\n",
    "over = gpd.overlay(pols, pols, how='intersection')\n",
    "# Remover poligonos vazios (talvez possa ser dispensado a partir de agora)\n",
    "over = over.loc[-over['geometry'].is_empty]\n",
    "# Remover intersecoes originadas pela sobreposição da feição com ela mesma\n",
    "over = over.loc[over['id_1'] != over['id_2']].explode().reset_index(drop=True)\n",
    "\n",
    "delete_lines = []\n",
    "# Barra de progresso #\n",
    "with tqdm(total=len(over['id_1'])) as pbar:\n",
    "    pbar.set_description(\"Simplificando - Micro\")\n",
    "    sleep(0.1)\n",
    "    # Para cada poligono..\n",
    "    for i in over['id_1']:\n",
    "        # intersecções entre o poligono avaliado e todas as outras feições\n",
    "        intersec = over[over['id_1'] == i]\n",
    "\n",
    "        # Caso alguma área de intersecao avaliada seja maior que 60% (limiar_overlap) do proprio poligono avaliado\n",
    "        # ou se poligono avaliado é 3,5x menor que aquele com o qual existe intersecao, o poligono será excluido\n",
    "        if intersec.loc[intersec['geometry'].area >= limiar_ovelap * pols.loc[i, 'geometry'].area].any(axis=None) or \\\n",
    "                (3.5 * pols.loc[i, 'geometry'].area < pols.loc[intersec['id_2'], 'geometry'].area).any():\n",
    "            delete_lines.append(i)\n",
    "\n",
    "        pbar.update(1)\n",
    "\n",
    "    # Identificar poligonos a serem apagados\n",
    "    delete_lines = (list(set(delete_lines)))\n",
    "# Fim da barra de progresso #\n",
    "\n",
    "pols.drop(labels=delete_lines, axis=0, inplace=True)\n",
    "pols = pols.explode().reset_index(drop=True)\n",
    "pols.set_index(keys=pd.Index(range(1, pols.shape[0] + 1)), inplace=True)\n",
    "pols['id'] = pols.index"
   ]
  },
  {
   "cell_type": "code",
   "execution_count": null,
   "id": "4b189873",
   "metadata": {},
   "outputs": [],
   "source": [
    "pols.to_file('../datasets/area_estudo_teste1/canopy_detection_result.geojson', driver='GeoJSON')"
   ]
  },
  {
   "cell_type": "code",
   "execution_count": null,
   "id": "793ef052",
   "metadata": {},
   "outputs": [],
   "source": [
    "all_files = [gpd.read_file(i) for i in result_paths]"
   ]
  },
  {
   "cell_type": "code",
   "execution_count": null,
   "id": "fcc0dbfa",
   "metadata": {},
   "outputs": [],
   "source": [
    "len(all_files)"
   ]
  },
  {
   "cell_type": "code",
   "execution_count": null,
   "id": "5fd59235",
   "metadata": {},
   "outputs": [],
   "source": [
    "pols = pd.concat(all_files, axis=0).reset_index(drop=True)"
   ]
  },
  {
   "cell_type": "code",
   "execution_count": null,
   "id": "9498b38a",
   "metadata": {},
   "outputs": [],
   "source": [
    "pols"
   ]
  },
  {
   "cell_type": "code",
   "execution_count": null,
   "id": "a2fd829a",
   "metadata": {},
   "outputs": [],
   "source": [
    "pols = pols[pols.geometry.is_valid]\n",
    "pols"
   ]
  },
  {
   "cell_type": "code",
   "execution_count": null,
   "id": "20cb992c",
   "metadata": {},
   "outputs": [],
   "source": [
    "pols.geometry.is_valid[-pols.geometry.is_valid]"
   ]
  },
  {
   "cell_type": "code",
   "execution_count": null,
   "id": "137ff0bb",
   "metadata": {},
   "outputs": [],
   "source": []
  },
  {
   "cell_type": "code",
   "execution_count": null,
   "id": "598e8db6",
   "metadata": {},
   "outputs": [],
   "source": [
    "pols['geometry_n'] = pols.buffer(0.1).buffer(-0.1).simplify(0.03)"
   ]
  },
  {
   "cell_type": "code",
   "execution_count": null,
   "id": "e4e32771",
   "metadata": {},
   "outputs": [],
   "source": [
    "pols['geometry_n'].is_empty.any()"
   ]
  },
  {
   "cell_type": "code",
   "execution_count": null,
   "id": "f88608bb",
   "metadata": {},
   "outputs": [],
   "source": [
    "pols.geometry_n.is_empty[pols.geometry_n.is_empty]"
   ]
  },
  {
   "cell_type": "code",
   "execution_count": null,
   "id": "ca36c796",
   "metadata": {},
   "outputs": [],
   "source": [
    "for i in range(len(all_files)):\n",
    "    if all_files[i].is_empty.all():\n",
    "        print(i)"
   ]
  },
  {
   "cell_type": "code",
   "execution_count": null,
   "id": "0fe0ffee",
   "metadata": {},
   "outputs": [],
   "source": [
    "filtered_files = [gpd.read_file(i) for i in result_paths if gpd.read_file(i)]"
   ]
  }
 ],
 "metadata": {
  "kernelspec": {
   "display_name": "geo",
   "language": "python",
   "name": "geo"
  },
  "language_info": {
   "codemirror_mode": {
    "name": "ipython",
    "version": 3
   },
   "file_extension": ".py",
   "mimetype": "text/x-python",
   "name": "python",
   "nbconvert_exporter": "python",
   "pygments_lexer": "ipython3",
   "version": "3.6.13"
  }
 },
 "nbformat": 4,
 "nbformat_minor": 5
}
