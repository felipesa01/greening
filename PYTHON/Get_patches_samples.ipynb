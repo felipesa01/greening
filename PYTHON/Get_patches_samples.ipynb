{
 "cells": [
  {
   "cell_type": "code",
   "execution_count": 1,
   "id": "28df3f10",
   "metadata": {},
   "outputs": [],
   "source": [
    "import math\n",
    "\n",
    "import rasterio\n",
    "import rasterio.plot\n",
    "from rasterio.mask import mask \n",
    "\n",
    "from osgeo import gdal\n",
    "gdal.UseExceptions()\n",
    "    \n",
    "import geopandas as gpd\n",
    "import numpy as np\n",
    "\n",
    "import matplotlib\n",
    "import matplotlib.pyplot as plt\n",
    "\n",
    "from rasterio.plot import plotting_extent\n",
    "import earthpy as et\n",
    "import earthpy.spatial as es\n",
    "import earthpy.plot as ep"
   ]
  },
  {
   "cell_type": "markdown",
   "id": "f2eba25c",
   "metadata": {},
   "source": [
    "### Abrir arquivos\n",
    "\n",
    "- Ortomosaico\n",
    "- Grade\n",
    "- Vetor das copas"
   ]
  },
  {
   "cell_type": "code",
   "execution_count": 2,
   "id": "e846f392",
   "metadata": {},
   "outputs": [],
   "source": [
    "img = rasterio.open('../IMGS/odm_orthophoto.tif')\n",
    "\n",
    "grid = gpd.read_file('../VECTOR/grade_completa.geojson').set_index('id')\n",
    "grid_2 = gpd.read_file('../VECTOR/grade_talhao2.geojson').set_index('id')\n",
    "\n",
    "copas = gpd.read_file('../VECTOR/copas.geojson').set_index('id').sort_index()"
   ]
  },
  {
   "cell_type": "markdown",
   "id": "46c7257a",
   "metadata": {},
   "source": [
    "### Cortar ortomosaico"
   ]
  },
  {
   "cell_type": "code",
   "execution_count": 9,
   "id": "7ede0d5c",
   "metadata": {},
   "outputs": [
    {
     "name": "stdout",
     "output_type": "stream",
     "text": [
      "203\n"
     ]
    }
   ],
   "source": [
    "# Melhorar a função do corte\n",
    "with rasterio.open('../IMGS/odm_orthophoto.tif') as img:\n",
    "#     for i in grid.index:\n",
    "    for i in [437]:\n",
    "        \n",
    "        dic = grid.loc[[i]].__geo_interface__\n",
    "        \n",
    "        polygon = [dic['features'][0][ 'geometry']]\n",
    "        \n",
    "        out_image, out_transform = mask(img, polygon, crop=True)\n",
    "        \n",
    "        out_meta = img.meta.copy()\n",
    "        \n",
    "        out_meta.update({\"driver\": \"GTiff\",\n",
    "                         \"height\": out_image.shape[1],\n",
    "                         \"width\": out_image.shape[2],\n",
    "                         \"transform\": out_transform})\n",
    "        \n",
    "        with rasterio.open('../IMGS/CORTES/corte_{}.tif'.format(i), \"w\", **out_meta) as dest:\n",
    "            dest.write(out_image)\n",
    "            \n",
    "            print(dest.width)"
   ]
  },
  {
   "cell_type": "markdown",
   "id": "a4ed800c",
   "metadata": {},
   "source": [
    "### Cortar vetor das copas"
   ]
  },
  {
   "cell_type": "code",
   "execution_count": null,
   "id": "af4f41bb",
   "metadata": {},
   "outputs": [],
   "source": [
    "list_empty = []\n",
    "\n",
    "for i in grid.index:\n",
    "    corte = gpd.clip(copas, grid.loc[[i]])\n",
    "    \n",
    "    if corte.empty:\n",
    "        list_empty.append(i)\n",
    "    else:\n",
    "        corte.to_file('../VECTOR/CORTES/corte_{}.geojson'.format(i), driver=\"GeoJSON\")\n",
    "        \n",
    "print('Grids não salvas: ',list_empty)"
   ]
  },
  {
   "cell_type": "markdown",
   "id": "aa1f2888",
   "metadata": {},
   "source": [
    "### Plotar"
   ]
  },
  {
   "cell_type": "code",
   "execution_count": null,
   "id": "bbeeb6d6",
   "metadata": {},
   "outputs": [],
   "source": [
    "fig, ax = plt.subplots(5, 5, figsize=(15,15))\n",
    "\n",
    "for i, axs in zip(grid_2.index,ax.flat):\n",
    "    \n",
    "    img = rasterio.open('../IMGS/CORTES/corte_{}.tif'.format(i))\n",
    "    vetor = gpd.read_file('../VECTOR/CORTES/corte_{}.geojson'.format(i))\n",
    "\n",
    "    plot_extent = plotting_extent(img)\n",
    "    ep.plot_rgb(img.read(),\n",
    "               rgb = [0, 1, 2],\n",
    "               extent = plot_extent,\n",
    "               ax=axs)\n",
    "\n",
    "    vetor.plot(ax=axs, facecolor='none', edgecolor='red')\n",
    "    \n",
    "    axs.set_title('Tile {}'.format(i))"
   ]
  },
  {
   "cell_type": "code",
   "execution_count": null,
   "id": "854c77c5",
   "metadata": {},
   "outputs": [],
   "source": [
    "fig, ax = plt.subplots(figsize=(8,8))\n",
    "id_grid = list(grid_2.index)\n",
    "\n",
    "num = 22\n",
    "\n",
    "img = rasterio.open('../IMGS/CORTES/corte_{}.tif'.format(id_grid[num]))\n",
    "vetor = gpd.read_file('../VECTOR/CORTES/corte_{}.geojson'.format(id_grid[num]))\n",
    "\n",
    "plot_extent = plotting_extent(img)\n",
    "ep.plot_rgb(img.read(),\n",
    "           rgb = [0, 1, 2],\n",
    "           extent = plot_extent,\n",
    "           ax=ax)\n",
    "\n",
    "vetor.plot(ax=ax, facecolor='none', edgecolor='red');"
   ]
  },
  {
   "cell_type": "code",
   "execution_count": null,
   "id": "ec2b4b45",
   "metadata": {},
   "outputs": [],
   "source": [
    "ids = []\n",
    "check_w = []\n",
    "check_h = []\n",
    "for z in grid_2.index:\n",
    "    \n",
    "    img = rasterio.open('../IMGS/CORTES/corte_{}.tif'.format(z))\n",
    "    \n",
    "    if img.height not in check_h:\n",
    "        check_h.append(img.height)\n",
    "        \n",
    "    if img.width not in check_w:\n",
    "        check_w.append(img.width)\n",
    "        ids.append(z)\n",
    "        \n",
    "print(check_h)\n",
    "print('\\n')\n",
    "print(check_w, ids)"
   ]
  },
  {
   "cell_type": "code",
   "execution_count": null,
   "id": "357b6e64",
   "metadata": {
    "scrolled": true
   },
   "outputs": [],
   "source": [
    "id_grid_t2 = list(grid_2.index)\n",
    "\n",
    "multi = {}\n",
    "for z in id_grid_t2:\n",
    "    \n",
    "    img = rasterio.open('../IMGS/CORTES/corte_{}.tif'.format(z))\n",
    "    corte = gpd.read_file('../VECTOR/CORTES/corte_{}.geojson'.format(z))\n",
    "    \n",
    "    corte.insert(len(corte.columns),'geometry_image', 0)\n",
    "    corte['geometry_image'] = corte['geometry_image'].astype('object')\n",
    "\n",
    "    features = []\n",
    "    for i in range(corte.shape[0]):\n",
    "        \n",
    "        if corte.loc[i,'geometry'].geom_type == 'MultiPolygon':\n",
    "            features.append(i)\n",
    "    \n",
    "    if len(features) != 0:\n",
    "        multi[z] = features\n",
    "\n",
    "len(multi)"
   ]
  },
  {
   "cell_type": "code",
   "execution_count": null,
   "id": "8e207f21",
   "metadata": {},
   "outputs": [],
   "source": [
    "for z in list(grid_2.index):\n",
    "    \n",
    "    img = rasterio.open('../IMGS/CORTES/corte_{}.tif'.format(z))\n",
    "    corte = gpd.read_file('../VECTOR/CORTES/corte_{}.geojson'.format(z))\n",
    "    \n",
    "    corte.insert(len(corte.columns)-1,'geometry_image', 0)\n",
    "    corte['geometry_image'] = corte['geometry_image'].astype('string')\n",
    "\n",
    "    for i in corte.index:\n",
    "        \n",
    "        # [FEITO] Preciso avaliar a ocorrencia de multipartes \n",
    "        # A função .coords e .exterior não se aplicam a multipartes [FEITO]\n",
    "        coord = list(corte.loc[i,'geometry'].exterior.coords)\n",
    "        \n",
    "        segmentation = ''\n",
    "        # Atenção aqui!! A visualização das annotations indicou que na lista de coors_img, o y precede o x\n",
    "        for xy in coord:\n",
    "            segmentation += str(round(img.index(xy[0],xy[1], float)[1],2)) + ', ' + str(round(img.index(xy[0],xy[1], float)[0],2)) + ', '\n",
    "        \n",
    "        \n",
    "        segmentation = segmentation[:-2]\n",
    "        corte.at[i,'geometry_image'] = segmentation\n",
    "    \n",
    "    corte.to_file('../VECTOR/CORTES/EDITADOS/corte_{}.geojson'.format(z), driver=\"GeoJSON\")"
   ]
  },
  {
   "cell_type": "code",
   "execution_count": null,
   "id": "abc4b657",
   "metadata": {},
   "outputs": [],
   "source": [
    "img = rasterio.open('../IMGS/CORTES/corte_{}.tif'.format(211))\n",
    "corte = gpd.read_file('../VECTOR/CORTES/EDITADOS/corte_{}.geojson'.format(211))\n",
    "\n",
    "\n",
    "xy_img = [float(x) for x in corte.loc[0,'geometry_image'].split(', ')]\n",
    "\n",
    "pairs = []\n",
    "\n",
    "for i in range(0, len(xy_img)-1, 2):\n",
    "    pairs.append((xy_img[i], xy_img[i+1]))\n",
    "\n",
    "\n",
    "xy_coords = []\n",
    "for i in xy_img:\n",
    "\n",
    "    xy_coords.append(img.transform * i)\n",
    "    \n",
    "xy_coords"
   ]
  },
  {
   "cell_type": "code",
   "execution_count": null,
   "id": "8b95e90b",
   "metadata": {},
   "outputs": [],
   "source": [
    "xy_img"
   ]
  },
  {
   "cell_type": "code",
   "execution_count": null,
   "id": "de30bf07",
   "metadata": {},
   "outputs": [],
   "source": [
    "img.index(xy[0],xy[1], float, precision=2)"
   ]
  },
  {
   "cell_type": "code",
   "execution_count": null,
   "id": "66af97cd",
   "metadata": {},
   "outputs": [],
   "source": [
    "import math\n",
    "\n",
    "float(3.2)"
   ]
  },
  {
   "cell_type": "code",
   "execution_count": null,
   "id": "9f1985cd",
   "metadata": {
    "scrolled": true
   },
   "outputs": [],
   "source": [
    "gpd.read_file('../VECTOR/CORTES/EDITADOS/corte_{}.geojson'.format(38))"
   ]
  },
  {
   "cell_type": "code",
   "execution_count": null,
   "id": "ef8ab096",
   "metadata": {},
   "outputs": [],
   "source": [
    "corte = gpd.read_file('../VECTOR/CORTES/corte_{}.geojson'.format(id_grid[22]))\n",
    "\n",
    "corte.insert(len(corte.columns),'geometry_image', 0)\n",
    "corte['geometry_image'] = corte['geometry_image'].astype('object')\n",
    "\n",
    "for i in range(corte.shape[0]):\n",
    "    \n",
    "    coord = list(corte.iloc[i,:]['geometry'].exterior.coords)\n",
    "    \n",
    "    segmentation = []\n",
    "    \n",
    "    for xy in coord:\n",
    "        segmentation.append(img.index(xy[0],xy[1])[0])\n",
    "        segmentation.append(img.index(xy[0],xy[1])[1])\n",
    "        \n",
    "    \n",
    "    corte.iat[i,4] = str(segmentation)\n",
    "\n",
    "corte"
   ]
  },
  {
   "cell_type": "code",
   "execution_count": null,
   "id": "d967b05a",
   "metadata": {},
   "outputs": [],
   "source": [
    "info = {\n",
    "        \"description\": \"Felipe Sa 2021 - HLB\",\n",
    "        \"url\": \"http://siteaqui.com\",\n",
    "        \"version\": \"1.0\",\n",
    "        \"year\": 2021,\n",
    "        \"contributor\": \"Felipe Sa\",\n",
    "        \"date_created\": \"2021/01/01\"\n",
    "        }\n",
    "\n",
    "licenses = [\n",
    "                {\n",
    "                \"url\": \"http://creativecommons.org/licenses/by-nc-sa/2.0/\",\n",
    "                \"id\": 1,\n",
    "                \"name\": \"Attribution-NonCommercial-ShareAlike License\"\n",
    "                },\n",
    "                {\n",
    "                \"url\": \"http://creativecommons.org/licenses/by-nc/2.0/\",\n",
    "                \"id\": 2,\n",
    "                \"name\": \"Attribution-NonCommercial License\"\n",
    "                }\n",
    "            ]"
   ]
  },
  {
   "cell_type": "code",
   "execution_count": null,
   "id": "1cff5650",
   "metadata": {},
   "outputs": [],
   "source": [
    "annotation = {\n",
    "                \"info\": info,\n",
    "                \"licenses\": licenses,\n",
    "                \"images\": [],\n",
    "                \"annotations\": [],\n",
    "                \"categories\": [],   # <-- Not in Captions annotations\n",
    "                \"segment_info\": []  # <-- Only in Panoptic annotations\n",
    "                }"
   ]
  },
  {
   "cell_type": "code",
   "execution_count": null,
   "id": "ba995d51",
   "metadata": {},
   "outputs": [],
   "source": [
    "licenses"
   ]
  },
  {
   "cell_type": "code",
   "execution_count": null,
   "id": "c5c01e20",
   "metadata": {},
   "outputs": [],
   "source": [
    "annotation"
   ]
  },
  {
   "cell_type": "code",
   "execution_count": null,
   "id": "a422c190",
   "metadata": {},
   "outputs": [],
   "source": [
    "info = {\n",
    "        \"description\": \"Felipe Sa 2021 - HLB\",\n",
    "        \"url\": \"http://siteaqui.com\",\n",
    "        \"version\": \"1.0\",\n",
    "        \"year\": 2021,\n",
    "        \"contributor\": \"Felipe Sa\",\n",
    "        \"date_created\": \"2021/01/01\"\n",
    "        }"
   ]
  },
  {
   "cell_type": "code",
   "execution_count": null,
   "id": "c1a1800e",
   "metadata": {},
   "outputs": [],
   "source": []
  }
 ],
 "metadata": {
  "kernelspec": {
   "display_name": "geo",
   "language": "python",
   "name": "geo"
  },
  "language_info": {
   "codemirror_mode": {
    "name": "ipython",
    "version": 3
   },
   "file_extension": ".py",
   "mimetype": "text/x-python",
   "name": "python",
   "nbconvert_exporter": "python",
   "pygments_lexer": "ipython3",
   "version": "3.7.7"
  }
 },
 "nbformat": 4,
 "nbformat_minor": 5
}
