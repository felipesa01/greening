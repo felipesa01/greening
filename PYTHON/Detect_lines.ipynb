{
 "cells": [
  {
   "cell_type": "code",
   "execution_count": 1,
   "metadata": {},
   "outputs": [],
   "source": [
    "import geopandas as gpd\n",
    "import line_orchard_detection as ld"
   ]
  },
  {
   "cell_type": "code",
   "execution_count": null,
   "metadata": {},
   "outputs": [],
   "source": [
    "path = '../VECTOR/Area/'\n",
    "\n",
    "pontos = gpd.read_file(path + 'centroides_area_aut.geojson')\n",
    "\n",
    "linhas, pts = ld.detect_lines_uni(pontos, row_inverse=False, pt_inverse=False)\n",
    "\n",
    "linhas.to_file(path + 'line_prediction.geojson', driver='GeoJSON')\n",
    "pts.to_file(path + 'centroides_area_mapped.geojson', driver='GeoJSON')\n",
    "falhas.to_file(path + 'falhas_prediction.geojson', driver='GeoJSON')"
   ]
  },
  {
   "cell_type": "code",
   "execution_count": null,
   "metadata": {},
   "outputs": [],
   "source": []
  },
  {
   "cell_type": "code",
   "execution_count": null,
   "metadata": {},
   "outputs": [],
   "source": []
  },
  {
   "cell_type": "code",
   "execution_count": null,
   "metadata": {},
   "outputs": [],
   "source": []
  },
  {
   "cell_type": "code",
   "execution_count": null,
   "metadata": {},
   "outputs": [],
   "source": []
  },
  {
   "cell_type": "code",
   "execution_count": null,
   "metadata": {},
   "outputs": [],
   "source": []
  },
  {
   "cell_type": "raw",
   "metadata": {},
   "source": [
    "path = '../datasets/main_sul_42/'\n",
    "\n",
    "pontos = gpd.read_file(path + 'centroids.geojson')\n",
    "\n",
    "linhas, points = ld.row_segments(pontos)\n",
    "geodf = gpd.GeoDataFrame({'geometry':gpd.GeoSeries(linhas, crs=pontos.crs)})\n",
    "# geodf = extrapolar_linhas(geodf)\n",
    "buffer = ld.get_buffer(geodf)\n",
    "# buffer.to_file(path + 'buffer_prediction1.geojson', driver='GeoJSON')\n",
    "lines = ld.buffer_to_rows(buffer, points)\n",
    "points = ld.mapping_rows(points, lines)\n",
    "geodf.to_file(path + 'lines_prediction1.geojson', driver='GeoJSON')\n",
    "\n",
    "linhas_novas = ld.snap_rows(points, lines)\n",
    "\n",
    "for i in linhas_novas:\n",
    "    linhas.append(i)\n",
    "\n",
    "geodf = gpd.GeoDataFrame({'geometry':gpd.GeoSeries(linhas, crs=points.crs)})\n",
    "# geodf = extrapolar_linhas(geodf)\n",
    "buffer = ld.get_buffer(geodf)\n",
    "lines = ld.buffer_to_rows(buffer, points)\n",
    "points = ld.mapping_rows(points, lines)\n",
    "geodf.to_file(path + 'lines_prediction2.geojson', driver='GeoJSON')\n",
    "\n",
    "linhas_novas = ld.snap_rows(points, lines)\n",
    "\n",
    "for i in linhas_novas:\n",
    "    linhas.append(i)\n",
    "\n",
    "geodf = gpd.GeoDataFrame({'geometry':gpd.GeoSeries(linhas, crs=points.crs)})\n",
    "# geodf = extrapolar_linhas(geodf)\n",
    "buffer = ld.get_buffer(geodf)\n",
    "lines = ld.buffer_to_rows(buffer, points)\n",
    "points = ld.mapping_rows(points, lines)\n",
    "geodf.to_file(path + 'lines_prediction3.geojson', driver='GeoJSON')\n",
    "\n",
    "for i in linhas_novas:\n",
    "    linhas.append(i)\n",
    "\n",
    "geodf = gpd.GeoDataFrame({'geometry':gpd.GeoSeries(linhas, crs=points.crs)})\n",
    "# geodf = extrapolar_linhas(geodf)\n",
    "buffer = ld.get_buffer(geodf)\n",
    "lines = ld.buffer_to_rows(buffer, points)\n",
    "points = ld.mapping_rows(points, lines)\n",
    "geodf.to_file(path + 'lines_prediction4.geojson', driver='GeoJSON')\n",
    "\n",
    "# falhas.to_file(path + 'falhas_prediction.geojson', driver='GeoJSON')"
   ]
  }
 ],
 "metadata": {
  "kernelspec": {
   "display_name": "geo",
   "language": "python",
   "name": "geo"
  },
  "language_info": {
   "codemirror_mode": {
    "name": "ipython",
    "version": 3
   },
   "file_extension": ".py",
   "mimetype": "text/x-python",
   "name": "python",
   "nbconvert_exporter": "python",
   "pygments_lexer": "ipython3",
   "version": "3.7.7"
  }
 },
 "nbformat": 4,
 "nbformat_minor": 4
}
