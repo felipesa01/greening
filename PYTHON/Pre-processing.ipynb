{
 "cells": [
  {
   "cell_type": "code",
   "execution_count": null,
   "metadata": {},
   "outputs": [],
   "source": [
    "import sys\n",
    "import geopandas as gpd\n",
    "from shutil import copyfile, move\n",
    "\n",
    "sys.path.insert(0, './HLB')\n",
    "import hlb_utils"
   ]
  },
  {
   "cell_type": "markdown",
   "metadata": {},
   "source": [
    "### Dataset"
   ]
  },
  {
   "cell_type": "code",
   "execution_count": null,
   "metadata": {},
   "outputs": [],
   "source": [
    "pre_processing = hlb_utils.PreProcessing('../IMGS/odm_orthophoto_2.tif', proj_name='anno')"
   ]
  },
  {
   "cell_type": "markdown",
   "metadata": {},
   "source": [
    "### Split image [and vectors]"
   ]
  },
  {
   "cell_type": "code",
   "execution_count": null,
   "metadata": {},
   "outputs": [],
   "source": [
    "pre_processing.split_img(patch_size=256, overlap=0, save_img=False)"
   ]
  },
  {
   "cell_type": "code",
   "execution_count": null,
   "metadata": {
    "scrolled": true
   },
   "outputs": [],
   "source": [
    "pre_processing.split_vector()"
   ]
  },
  {
   "cell_type": "markdown",
   "metadata": {},
   "source": [
    "### Make annotation"
   ]
  },
  {
   "cell_type": "code",
   "execution_count": null,
   "metadata": {},
   "outputs": [],
   "source": [
    "pre_processing.grid = gpd.read_file('../datasets/anno/img_grid.geojson').set_index('id')"
   ]
  },
  {
   "cell_type": "code",
   "execution_count": null,
   "metadata": {},
   "outputs": [],
   "source": [
    "pre_processing.make_annotations()"
   ]
  },
  {
   "cell_type": "code",
   "execution_count": null,
   "metadata": {},
   "outputs": [],
   "source": []
  },
  {
   "cell_type": "markdown",
   "metadata": {},
   "source": [
    "### Outros"
   ]
  },
  {
   "cell_type": "code",
   "execution_count": 48,
   "metadata": {},
   "outputs": [],
   "source": [
    "import os\n",
    "from osgeo import gdal, osr\n",
    "from PIL import Image\n",
    "\n",
    "shape_path_aux = '../IMGS/TALHAO_ANGULADAS/INF'\n",
    "\n",
    "result_paths = []\n",
    "for filename in os.listdir(shape_path_aux):\n",
    "    result_paths.append(os.path.join(shape_path_aux, filename))\n",
    "\n",
    "for path in result_paths:\n",
    "    \n",
    "    img = Image.open(path)\n",
    "    w, h = img.size\n",
    "    img = img.crop((1000, 700, w, h))\n",
    "    out_path = os.path.join(os.path.dirname(os.path.dirname(path)), 'EDITS', os.path.basename(path))\n",
    "    img.save(out_path)"
   ]
  },
  {
   "cell_type": "code",
   "execution_count": null,
   "metadata": {},
   "outputs": [],
   "source": []
  },
  {
   "cell_type": "code",
   "execution_count": null,
   "metadata": {},
   "outputs": [],
   "source": []
  },
  {
   "cell_type": "code",
   "execution_count": null,
   "metadata": {},
   "outputs": [],
   "source": []
  },
  {
   "cell_type": "code",
   "execution_count": 1,
   "metadata": {},
   "outputs": [
    {
     "name": "stderr",
     "output_type": "stream",
     "text": [
      "Simplificando - Macro: 100%|██████████| 14591/14591 [28:53<00:00,  8.42it/s]\n",
      "Simplificando - Micro: 100%|██████████| 6344/6344 [00:53<00:00, 119.31it/s]\n"
     ]
    }
   ],
   "source": [
    "import os\n",
    "import pandas as pd\n",
    "import geopandas as gpd\n",
    "from tqdm import tqdm\n",
    "from time import sleep\n",
    "\n",
    "\n",
    "shape_path_aux = '../datasets/ortofoto_talhao/results'\n",
    "\n",
    "with tqdm(total=len(os.listdir(shape_path_aux)) as pbar:\n",
    "    pbar.set_description(\"Lendo arquivos de entradas\")\n",
    "    sleep(0.1)\n",
    "\n",
    "    result_paths = []\n",
    "    for filename in os.listdir(shape_path_aux):\n",
    "        if os.path.splitext(filename)[1].lower() == '.geojson':\n",
    "            result_paths.append(os.path.join(shape_path_aux, filename))\n",
    "        pbar.update(1)\n",
    "    \n",
    "\n",
    "pols = pd.concat([gpd.read_file(i) for i in result_paths], axis=0).reset_index(drop=True)\n",
    "pols['geometry'] = pols.buffer(-0.1).buffer(0.1).simplify(0.03)\n",
    "pols = pols.explode().reset_index(drop=True)\n",
    "pols['centroid'] = pols['geometry'].centroid\n",
    "pols.insert(1, column='union', value=0)\n",
    "pols.set_index(keys=pd.Index(range(1, pols.shape[0] + 1)), inplace=True)\n",
    "\n",
    "with tqdm(total=len(pols.index)) as pbar:\n",
    "    pbar.set_description(\"Simplificando - Macro\")\n",
    "    sleep(0.1)\n",
    "    for i in pols.index:\n",
    "        if pols.loc[i, 'union'] == 0:\n",
    "            point = pols.loc[i, 'centroid']\n",
    "            distance = pols['centroid'].distance(point)\n",
    "\n",
    "            distance = distance[distance <= 1]\n",
    "\n",
    "            if len(distance) > 1:\n",
    "                pols.at[distance.index, 'union'] = i\n",
    "            else:\n",
    "                pols.at[i, 'union'] = i\n",
    "        pbar.update(1)\n",
    "\n",
    "pols.drop('centroid', axis=1, inplace=True)\n",
    "pols = pols.dissolve(by='union', as_index=False)\n",
    "pols.drop(pols.loc[pols['geometry'].is_empty].index, axis=0, inplace=True)\n",
    "pols.set_index(keys=pd.Index(range(1, pols.shape[0] + 1)), inplace=True)\n",
    "pols['id'] = pols.index\n",
    "# pols['centroid'] = pols['geometry'].centroid\n",
    "\n",
    "\n",
    "over = gpd.overlay(pols, pols, how='intersection')\n",
    "over = over.loc[-over['geometry'].is_empty]\n",
    "over = over.loc[over['id_1'] != over['id_2']].explode().reset_index(drop=True)\n",
    "delete_lines = []\n",
    "with tqdm(total=len(over['id_1'])) as pbar:\n",
    "    pbar.set_description(\"Simplificando - Micro\")\n",
    "    sleep(0.1)\n",
    "\n",
    "    for i in over['id_1']:\n",
    "\n",
    "        intersec = over[over['id_1']==i]\n",
    "\n",
    "        if intersec.loc[intersec['geometry'].area >= 0.6 * pols.loc[i, 'geometry'].area].any(axis=None) or \\\n",
    "        (3.5 * pols.loc[i, 'geometry'].area < pols.loc[intersec['id_2'], 'geometry'].area).any():\n",
    "            delete_lines.append(i)\n",
    "            \n",
    "        pbar.update(1)\n",
    "\n",
    "    delete_lines = (list(set(delete_lines)))\n",
    "\n",
    "pols.drop(labels=delete_lines, axis=0, inplace=True)\n",
    "pols.explode().reset_index(drop=True)\n",
    "pols.set_index(keys=pd.Index(range(1, pols.shape[0] + 1)), inplace=True)\n",
    "pols.to_file(os.path.join(os.path.dirname(shape_path_aux),'canopy_detection_result.geojson'), driver='GeoJSON')"
   ]
  },
  {
   "cell_type": "code",
   "execution_count": null,
   "metadata": {},
   "outputs": [],
   "source": [
    "pols['id'] = pols.index\n",
    "pols"
   ]
  },
  {
   "cell_type": "code",
   "execution_count": null,
   "metadata": {},
   "outputs": [],
   "source": [
    "pols.to_file(os.path.join(os.path.dirname(shape_path_aux),'canopy_detection_result_1.geojson'), driver='GeoJSON')"
   ]
  },
  {
   "cell_type": "code",
   "execution_count": 144,
   "metadata": {},
   "outputs": [],
   "source": [
    "over = gpd.overlay(pols, pols, how='intersection')\n",
    "over = over.loc[-over['geometry'].is_empty]\n",
    "over = over.loc[over['id_1'] != over['id_2']].explode().reset_index(drop=True)"
   ]
  },
  {
   "cell_type": "code",
   "execution_count": 145,
   "metadata": {},
   "outputs": [
    {
     "data": {
      "text/html": [
       "<div>\n",
       "<style scoped>\n",
       "    .dataframe tbody tr th:only-of-type {\n",
       "        vertical-align: middle;\n",
       "    }\n",
       "\n",
       "    .dataframe tbody tr th {\n",
       "        vertical-align: top;\n",
       "    }\n",
       "\n",
       "    .dataframe thead th {\n",
       "        text-align: right;\n",
       "    }\n",
       "</style>\n",
       "<table border=\"1\" class=\"dataframe\">\n",
       "  <thead>\n",
       "    <tr style=\"text-align: right;\">\n",
       "      <th></th>\n",
       "      <th>union_1</th>\n",
       "      <th>score_1</th>\n",
       "      <th>detection_score_1</th>\n",
       "      <th>id_1</th>\n",
       "      <th>union_2</th>\n",
       "      <th>score_2</th>\n",
       "      <th>detection_score_2</th>\n",
       "      <th>id_2</th>\n",
       "      <th>geometry</th>\n",
       "    </tr>\n",
       "  </thead>\n",
       "  <tbody>\n",
       "    <tr>\n",
       "      <th>0</th>\n",
       "      <td>3</td>\n",
       "      <td>None</td>\n",
       "      <td>0.977909</td>\n",
       "      <td>3</td>\n",
       "      <td>1</td>\n",
       "      <td>None</td>\n",
       "      <td>0.996637</td>\n",
       "      <td>1</td>\n",
       "      <td>POLYGON ((294197.035 7515266.931, 294197.031 7...</td>\n",
       "    </tr>\n",
       "    <tr>\n",
       "      <th>1</th>\n",
       "      <td>1</td>\n",
       "      <td>None</td>\n",
       "      <td>0.996637</td>\n",
       "      <td>1</td>\n",
       "      <td>3</td>\n",
       "      <td>None</td>\n",
       "      <td>0.977909</td>\n",
       "      <td>3</td>\n",
       "      <td>POLYGON ((294197.030 7515266.937, 294197.032 7...</td>\n",
       "    </tr>\n",
       "    <tr>\n",
       "      <th>2</th>\n",
       "      <td>3950</td>\n",
       "      <td>None</td>\n",
       "      <td>0.904703</td>\n",
       "      <td>1974</td>\n",
       "      <td>2</td>\n",
       "      <td>None</td>\n",
       "      <td>0.992981</td>\n",
       "      <td>2</td>\n",
       "      <td>POLYGON ((294187.353 7515268.945, 294187.360 7...</td>\n",
       "    </tr>\n",
       "    <tr>\n",
       "      <th>3</th>\n",
       "      <td>2</td>\n",
       "      <td>None</td>\n",
       "      <td>0.992981</td>\n",
       "      <td>2</td>\n",
       "      <td>3950</td>\n",
       "      <td>None</td>\n",
       "      <td>0.904703</td>\n",
       "      <td>1974</td>\n",
       "      <td>POLYGON ((294185.359 7515268.850, 294185.386 7...</td>\n",
       "    </tr>\n",
       "    <tr>\n",
       "      <th>4</th>\n",
       "      <td>267</td>\n",
       "      <td>None</td>\n",
       "      <td>0.999685</td>\n",
       "      <td>246</td>\n",
       "      <td>3950</td>\n",
       "      <td>None</td>\n",
       "      <td>0.904703</td>\n",
       "      <td>1974</td>\n",
       "      <td>POLYGON ((294187.309 7515270.952, 294187.313 7...</td>\n",
       "    </tr>\n",
       "    <tr>\n",
       "      <th>...</th>\n",
       "      <td>...</td>\n",
       "      <td>...</td>\n",
       "      <td>...</td>\n",
       "      <td>...</td>\n",
       "      <td>...</td>\n",
       "      <td>...</td>\n",
       "      <td>...</td>\n",
       "      <td>...</td>\n",
       "      <td>...</td>\n",
       "    </tr>\n",
       "    <tr>\n",
       "      <th>3597</th>\n",
       "      <td>3981</td>\n",
       "      <td>None</td>\n",
       "      <td>0.999364</td>\n",
       "      <td>1982</td>\n",
       "      <td>3946</td>\n",
       "      <td>None</td>\n",
       "      <td>0.594121</td>\n",
       "      <td>1972</td>\n",
       "      <td>POLYGON ((294214.008 7515409.130, 294214.100 7...</td>\n",
       "    </tr>\n",
       "    <tr>\n",
       "      <th>3598</th>\n",
       "      <td>3964</td>\n",
       "      <td>None</td>\n",
       "      <td>0.999864</td>\n",
       "      <td>1977</td>\n",
       "      <td>3963</td>\n",
       "      <td>None</td>\n",
       "      <td>0.999929</td>\n",
       "      <td>1976</td>\n",
       "      <td>POLYGON ((294364.802 7515343.147, 294364.905 7...</td>\n",
       "    </tr>\n",
       "    <tr>\n",
       "      <th>3599</th>\n",
       "      <td>3963</td>\n",
       "      <td>None</td>\n",
       "      <td>0.999929</td>\n",
       "      <td>1976</td>\n",
       "      <td>3964</td>\n",
       "      <td>None</td>\n",
       "      <td>0.999864</td>\n",
       "      <td>1977</td>\n",
       "      <td>POLYGON ((294364.801 7515343.054, 294364.802 7...</td>\n",
       "    </tr>\n",
       "    <tr>\n",
       "      <th>3600</th>\n",
       "      <td>4160</td>\n",
       "      <td>None</td>\n",
       "      <td>0.598928</td>\n",
       "      <td>2015</td>\n",
       "      <td>3964</td>\n",
       "      <td>None</td>\n",
       "      <td>0.999864</td>\n",
       "      <td>1977</td>\n",
       "      <td>POLYGON ((294363.504 7515339.030, 294363.690 7...</td>\n",
       "    </tr>\n",
       "    <tr>\n",
       "      <th>3601</th>\n",
       "      <td>4160</td>\n",
       "      <td>None</td>\n",
       "      <td>0.598928</td>\n",
       "      <td>2015</td>\n",
       "      <td>3964</td>\n",
       "      <td>None</td>\n",
       "      <td>0.999864</td>\n",
       "      <td>1977</td>\n",
       "      <td>POLYGON ((294362.599 7515340.749, 294362.952 7...</td>\n",
       "    </tr>\n",
       "  </tbody>\n",
       "</table>\n",
       "<p>3602 rows × 9 columns</p>\n",
       "</div>"
      ],
      "text/plain": [
       "      union_1 score_1  detection_score_1  id_1  union_2 score_2  \\\n",
       "0           3    None           0.977909     3        1    None   \n",
       "1           1    None           0.996637     1        3    None   \n",
       "2        3950    None           0.904703  1974        2    None   \n",
       "3           2    None           0.992981     2     3950    None   \n",
       "4         267    None           0.999685   246     3950    None   \n",
       "...       ...     ...                ...   ...      ...     ...   \n",
       "3597     3981    None           0.999364  1982     3946    None   \n",
       "3598     3964    None           0.999864  1977     3963    None   \n",
       "3599     3963    None           0.999929  1976     3964    None   \n",
       "3600     4160    None           0.598928  2015     3964    None   \n",
       "3601     4160    None           0.598928  2015     3964    None   \n",
       "\n",
       "      detection_score_2  id_2  \\\n",
       "0              0.996637     1   \n",
       "1              0.977909     3   \n",
       "2              0.992981     2   \n",
       "3              0.904703  1974   \n",
       "4              0.904703  1974   \n",
       "...                 ...   ...   \n",
       "3597           0.594121  1972   \n",
       "3598           0.999929  1976   \n",
       "3599           0.999864  1977   \n",
       "3600           0.999864  1977   \n",
       "3601           0.999864  1977   \n",
       "\n",
       "                                               geometry  \n",
       "0     POLYGON ((294197.035 7515266.931, 294197.031 7...  \n",
       "1     POLYGON ((294197.030 7515266.937, 294197.032 7...  \n",
       "2     POLYGON ((294187.353 7515268.945, 294187.360 7...  \n",
       "3     POLYGON ((294185.359 7515268.850, 294185.386 7...  \n",
       "4     POLYGON ((294187.309 7515270.952, 294187.313 7...  \n",
       "...                                                 ...  \n",
       "3597  POLYGON ((294214.008 7515409.130, 294214.100 7...  \n",
       "3598  POLYGON ((294364.802 7515343.147, 294364.905 7...  \n",
       "3599  POLYGON ((294364.801 7515343.054, 294364.802 7...  \n",
       "3600  POLYGON ((294363.504 7515339.030, 294363.690 7...  \n",
       "3601  POLYGON ((294362.599 7515340.749, 294362.952 7...  \n",
       "\n",
       "[3602 rows x 9 columns]"
      ]
     },
     "execution_count": 145,
     "metadata": {},
     "output_type": "execute_result"
    }
   ],
   "source": [
    "over"
   ]
  },
  {
   "cell_type": "code",
   "execution_count": 150,
   "metadata": {},
   "outputs": [],
   "source": [
    "delete_lines = []\n",
    "\n",
    "for i in over['id_1']:\n",
    "    \n",
    "    intersec = over[over['id_1']==i]\n",
    "    \n",
    "    if intersec.loc[intersec['geometry'].area >= 0.6 * pols.loc[i, 'geometry'].area].any(axis=None) or \\\n",
    "    (3.5 * pols.loc[i, 'geometry'].area < pols.loc[intersec['id_2'], 'geometry'].area).any():\n",
    "        delete_lines.append(i)\n",
    "        \n",
    "delete_lines = (list(set(delete_lines)))\n",
    "delete_lines.sort()            "
   ]
  },
  {
   "cell_type": "code",
   "execution_count": 151,
   "metadata": {},
   "outputs": [],
   "source": [
    "pols.loc[delete_lines].to_file(os.path.join(os.path.dirname(shape_path_aux),'canopy_detection_delete.geojson'), driver='GeoJSON')"
   ]
  },
  {
   "cell_type": "code",
   "execution_count": null,
   "metadata": {},
   "outputs": [],
   "source": [
    "pols.drop(labels=delete_lines, axis=0, inplace=True)\n",
    "pols"
   ]
  },
  {
   "cell_type": "code",
   "execution_count": null,
   "metadata": {},
   "outputs": [],
   "source": [
    "os.path.dirname(shape_path_aux)"
   ]
  },
  {
   "cell_type": "code",
   "execution_count": null,
   "metadata": {},
   "outputs": [],
   "source": [
    "pols.buffer(-0.1).buffer(0.1).simplify(0.03).to_file(os.path.join(os.path.dirname(shape_path_aux),'canopy_detection_result_faster_simplify.geojson'), driver='GeoJSON')"
   ]
  },
  {
   "cell_type": "code",
   "execution_count": null,
   "metadata": {},
   "outputs": [],
   "source": []
  }
 ],
 "metadata": {
  "kernelspec": {
   "display_name": "geo",
   "language": "python",
   "name": "geo"
  },
  "language_info": {
   "codemirror_mode": {
    "name": "ipython",
    "version": 3
   },
   "file_extension": ".py",
   "mimetype": "text/x-python",
   "name": "python",
   "nbconvert_exporter": "python",
   "pygments_lexer": "ipython3",
   "version": "3.7.7"
  }
 },
 "nbformat": 4,
 "nbformat_minor": 5
}
