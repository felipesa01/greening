{
 "cells": [
  {
   "cell_type": "code",
   "execution_count": 1,
   "id": "e580b9fd",
   "metadata": {},
   "outputs": [],
   "source": [
    "import sys\n",
    "import os\n",
    "import geopandas as gpd\n",
    "from osgeo import gdal\n",
    "from shutil import copyfile, move\n",
    "\n",
    "sys.path.insert(0, './HLB')\n",
    "import hlb_utils"
   ]
  },
  {
   "cell_type": "markdown",
   "id": "46825e3c",
   "metadata": {},
   "source": [
    "### Dataset"
   ]
  },
  {
   "cell_type": "code",
   "execution_count": 2,
   "id": "f797ea0a",
   "metadata": {},
   "outputs": [],
   "source": [
    "root_path = 'D:\\FelipeSa\\OneDrive\\Felipe_INPE\\Segmentacao\\Analise_final\\Sobradinho_areasul'\n",
    "\n",
    "#canopy_dir = os.path.join(root_path, 'train_canopy_final.geojson')\n",
    "\n",
    "rgb_dir = os.path.join(root_path, 'clippedrgb_12_05_2019_area_longe_transparent_mosaic_group1_eq.tif')\n",
    "dem_dir = os.path.join(root_path, 'clippedrgb_12_05_2019_area_longe_chm.tif')"
   ]
  },
  {
   "cell_type": "code",
   "execution_count": 3,
   "id": "8c2e09e6",
   "metadata": {},
   "outputs": [],
   "source": [
    "pre_processing = hlb_utils.PreProcessing(rgb_dir, dem_dir, proj_name='inferencia_sobradinho_areasul')"
   ]
  },
  {
   "cell_type": "code",
   "execution_count": null,
   "id": "1d1306b7",
   "metadata": {},
   "outputs": [],
   "source": [
    "pre_processing.orto = gdal.Open(os.path.join(root_path, 'RGB-D_0-255_stack.tif'))  # Dataset da imagem\n",
    "#pre_processing.pxsize = round(pre_processing.orto.GetGeoTransform()[1], 5)  # Tamanho do pixel (m)\n",
    "round(pre_processing.orto.GetGeoTransform()[1], 5)"
   ]
  },
  {
   "cell_type": "markdown",
   "id": "2aaf034e",
   "metadata": {},
   "source": [
    "### Merge RGB and DEM"
   ]
  },
  {
   "cell_type": "code",
   "execution_count": 4,
   "id": "ccf3a3e4",
   "metadata": {},
   "outputs": [
    {
     "name": "stdout",
     "output_type": "stream",
     "text": [
      "Reading source image information\n",
      "Writing output file\n",
      "Band 1\n",
      "Band 2\n",
      "Band 3\n",
      "Band 4\n",
      "Setting options to output file\n",
      "Done!\n"
     ]
    }
   ],
   "source": [
    "pre_processing.merge_rgb_dem()"
   ]
  },
  {
   "cell_type": "markdown",
   "id": "101c02e3",
   "metadata": {},
   "source": [
    "### Split image [and vectors]"
   ]
  },
  {
   "cell_type": "code",
   "execution_count": 7,
   "id": "f777bf0d",
   "metadata": {},
   "outputs": [
    {
     "name": "stderr",
     "output_type": "stream",
     "text": [
      "Cortando imagens: 100%|████████████████████████████████████████████████████████████| 1240/1240 [01:10<00:00, 17.58it/s]\n"
     ]
    },
    {
     "name": "stdout",
     "output_type": "stream",
     "text": [
      "Finished!\n",
      "Total images:  858\n"
     ]
    }
   ],
   "source": [
    "pre_processing.split_img(patch_size=512, overlap=100, save_img=True)"
   ]
  },
  {
   "cell_type": "code",
   "execution_count": null,
   "id": "920dfeca",
   "metadata": {
    "scrolled": true
   },
   "outputs": [],
   "source": [
    "pre_processing.split_vector()"
   ]
  },
  {
   "cell_type": "markdown",
   "id": "9ae60a14",
   "metadata": {},
   "source": [
    "### Make annotation"
   ]
  },
  {
   "cell_type": "code",
   "execution_count": 4,
   "id": "8caf1a29",
   "metadata": {},
   "outputs": [],
   "source": [
    "'../datasets/segmentacao_aguai'\n",
    "'../datasets/segmentacao_carmona'\n",
    "'../datasets/segmentacao_sobradinho_sede'\n",
    "\n",
    "pre_processing.proj_dir = '../datasets/segmentacao_todos'\n",
    "# pre_processing.patch_size = 512\n",
    "# pre_processing.pxsize = 0.025"
   ]
  },
  {
   "cell_type": "code",
   "execution_count": 5,
   "id": "730d1de6",
   "metadata": {},
   "outputs": [],
   "source": [
    "pre_processing.grid = gpd.read_file('../datasets/segmentacao_todos/img_grid.geojson').set_index('id')"
   ]
  },
  {
   "cell_type": "code",
   "execution_count": 6,
   "id": "54dc0712",
   "metadata": {},
   "outputs": [],
   "source": [
    "dict_ref = {range(1,727): [512, 0.025], range(727,1392): [512, 0.02216], range(1392, 1716): [256, 0.07106]}\n",
    "\n",
    "pre_processing.make_annotations_joined(dict_ref)"
   ]
  },
  {
   "cell_type": "code",
   "execution_count": null,
   "id": "8b049b00",
   "metadata": {},
   "outputs": [],
   "source": []
  },
  {
   "cell_type": "markdown",
   "id": "e0492a0b",
   "metadata": {},
   "source": [
    "### Outros"
   ]
  },
  {
   "cell_type": "code",
   "execution_count": null,
   "id": "f75508d4",
   "metadata": {},
   "outputs": [],
   "source": [
    "import os\n",
    "from osgeo import gdal, osr\n",
    "from PIL import Image\n",
    "\n",
    "shape_path_aux = '../IMGS/TALHAO_ANGULADAS/INF'\n",
    "\n",
    "result_paths = []\n",
    "for filename in os.listdir(shape_path_aux):\n",
    "    result_paths.append(os.path.join(shape_path_aux, filename))\n",
    "\n",
    "for path in result_paths:\n",
    "    \n",
    "    img = Image.open(path)\n",
    "    w, h = img.size\n",
    "    img = img.crop((1000, 700, w, h))\n",
    "    out_path = os.path.join(os.path.dirname(os.path.dirname(path)), 'EDITS', os.path.basename(path))\n",
    "    img.save(out_path)"
   ]
  },
  {
   "cell_type": "code",
   "execution_count": null,
   "id": "48870490",
   "metadata": {},
   "outputs": [],
   "source": []
  },
  {
   "cell_type": "code",
   "execution_count": null,
   "id": "ebabbe4e",
   "metadata": {},
   "outputs": [],
   "source": []
  },
  {
   "cell_type": "code",
   "execution_count": null,
   "id": "10a8f348",
   "metadata": {},
   "outputs": [],
   "source": []
  },
  {
   "cell_type": "code",
   "execution_count": null,
   "id": "659cf1c5",
   "metadata": {},
   "outputs": [],
   "source": [
    "import os\n",
    "import pandas as pd\n",
    "import geopandas as gpd\n",
    "from tqdm import tqdm\n",
    "from time import sleep\n",
    "\n",
    "\n",
    "shape_path_aux = '../datasets/ortofoto_talhao/results'\n",
    "\n",
    "with tqdm(total=len(os.listdir(shape_path_aux)) as pbar:\n",
    "    pbar.set_description(\"Lendo arquivos de entradas\")\n",
    "    sleep(0.1)\n",
    "\n",
    "    result_paths = []\n",
    "    for filename in os.listdir(shape_path_aux):\n",
    "        if os.path.splitext(filename)[1].lower() == '.geojson':\n",
    "            result_paths.append(os.path.join(shape_path_aux, filename))\n",
    "        pbar.update(1)\n",
    "    \n",
    "\n",
    "pols = pd.concat([gpd.read_file(i) for i in result_paths], axis=0).reset_index(drop=True)\n",
    "pols['geometry'] = pols.buffer(-0.1).buffer(0.1).simplify(0.03)\n",
    "pols = pols.explode().reset_index(drop=True)\n",
    "pols['centroid'] = pols['geometry'].centroid\n",
    "pols.insert(1, column='union', value=0)\n",
    "pols.set_index(keys=pd.Index(range(1, pols.shape[0] + 1)), inplace=True)\n",
    "\n",
    "with tqdm(total=len(pols.index)) as pbar:\n",
    "    pbar.set_description(\"Simplificando - Macro\")\n",
    "    sleep(0.1)\n",
    "    for i in pols.index:\n",
    "        if pols.loc[i, 'union'] == 0:\n",
    "            point = pols.loc[i, 'centroid']\n",
    "            distance = pols['centroid'].distance(point)\n",
    "\n",
    "            distance = distance[distance <= 1]\n",
    "\n",
    "            if len(distance) > 1:\n",
    "                pols.at[distance.index, 'union'] = i\n",
    "            else:\n",
    "                pols.at[i, 'union'] = i\n",
    "        pbar.update(1)\n",
    "\n",
    "pols.drop('centroid', axis=1, inplace=True)\n",
    "pols = pols.dissolve(by='union', as_index=False)\n",
    "pols.drop(pols.loc[pols['geometry'].is_empty].index, axis=0, inplace=True)\n",
    "pols.set_index(keys=pd.Index(range(1, pols.shape[0] + 1)), inplace=True)\n",
    "pols['id'] = pols.index\n",
    "# pols['centroid'] = pols['geometry'].centroid\n",
    "\n",
    "\n",
    "over = gpd.overlay(pols, pols, how='intersection')\n",
    "over = over.loc[-over['geometry'].is_empty]\n",
    "over = over.loc[over['id_1'] != over['id_2']].explode().reset_index(drop=True)\n",
    "delete_lines = []\n",
    "with tqdm(total=len(over['id_1'])) as pbar:\n",
    "    pbar.set_description(\"Simplificando - Micro\")\n",
    "    sleep(0.1)\n",
    "\n",
    "    for i in over['id_1']:\n",
    "\n",
    "        intersec = over[over['id_1']==i]\n",
    "\n",
    "        if intersec.loc[intersec['geometry'].area >= 0.6 * pols.loc[i, 'geometry'].area].any(axis=None) or \\\n",
    "        (3.5 * pols.loc[i, 'geometry'].area < pols.loc[intersec['id_2'], 'geometry'].area).any():\n",
    "            delete_lines.append(i)\n",
    "            \n",
    "        pbar.update(1)\n",
    "\n",
    "    delete_lines = (list(set(delete_lines)))\n",
    "\n",
    "pols.drop(labels=delete_lines, axis=0, inplace=True)\n",
    "pols.explode().reset_index(drop=True)\n",
    "pols.set_index(keys=pd.Index(range(1, pols.shape[0] + 1)), inplace=True)\n",
    "pols.to_file(os.path.join(os.path.dirname(shape_path_aux),'canopy_detection_result.geojson'), driver='GeoJSON')"
   ]
  },
  {
   "cell_type": "code",
   "execution_count": null,
   "id": "8a1a21cc",
   "metadata": {},
   "outputs": [],
   "source": [
    "pols['id'] = pols.index\n",
    "pols"
   ]
  },
  {
   "cell_type": "code",
   "execution_count": null,
   "id": "77f767dc",
   "metadata": {},
   "outputs": [],
   "source": [
    "pols.to_file(os.path.join(os.path.dirname(shape_path_aux),'canopy_detection_result_1.geojson'), driver='GeoJSON')"
   ]
  },
  {
   "cell_type": "code",
   "execution_count": null,
   "id": "9d3b3541",
   "metadata": {},
   "outputs": [],
   "source": [
    "over = gpd.overlay(pols, pols, how='intersection')\n",
    "over = over.loc[-over['geometry'].is_empty]\n",
    "over = over.loc[over['id_1'] != over['id_2']].explode().reset_index(drop=True)"
   ]
  },
  {
   "cell_type": "code",
   "execution_count": null,
   "id": "c7eb3d59",
   "metadata": {},
   "outputs": [],
   "source": [
    "over"
   ]
  },
  {
   "cell_type": "code",
   "execution_count": null,
   "id": "53bd9bd5",
   "metadata": {},
   "outputs": [],
   "source": [
    "delete_lines = []\n",
    "\n",
    "for i in over['id_1']:\n",
    "    \n",
    "    intersec = over[over['id_1']==i]\n",
    "    \n",
    "    if intersec.loc[intersec['geometry'].area >= 0.6 * pols.loc[i, 'geometry'].area].any(axis=None) or \\\n",
    "    (3.5 * pols.loc[i, 'geometry'].area < pols.loc[intersec['id_2'], 'geometry'].area).any():\n",
    "        delete_lines.append(i)\n",
    "        \n",
    "delete_lines = (list(set(delete_lines)))\n",
    "delete_lines.sort()            "
   ]
  },
  {
   "cell_type": "code",
   "execution_count": null,
   "id": "4b98af2f",
   "metadata": {},
   "outputs": [],
   "source": [
    "pols.loc[delete_lines].to_file(os.path.join(os.path.dirname(shape_path_aux),'canopy_detection_delete.geojson'), driver='GeoJSON')"
   ]
  },
  {
   "cell_type": "code",
   "execution_count": null,
   "id": "3062ee6f",
   "metadata": {},
   "outputs": [],
   "source": [
    "pols.drop(labels=delete_lines, axis=0, inplace=True)\n",
    "pols"
   ]
  },
  {
   "cell_type": "code",
   "execution_count": null,
   "id": "46736ff6",
   "metadata": {},
   "outputs": [],
   "source": [
    "os.path.dirname(shape_path_aux)"
   ]
  },
  {
   "cell_type": "code",
   "execution_count": null,
   "id": "be265a9b",
   "metadata": {},
   "outputs": [],
   "source": [
    "pols.buffer(-0.1).buffer(0.1).simplify(0.03).to_file(os.path.join(os.path.dirname(shape_path_aux),'canopy_detection_result_faster_simplify.geojson'), driver='GeoJSON')"
   ]
  },
  {
   "cell_type": "code",
   "execution_count": null,
   "id": "128c3554",
   "metadata": {},
   "outputs": [],
   "source": []
  },
  {
   "cell_type": "code",
   "execution_count": null,
   "id": "321849b0",
   "metadata": {},
   "outputs": [],
   "source": [
    "import os\n",
    "import rasterio\n",
    "import numpy as np\n",
    "from osgeo import gdal\n",
    "\n",
    "rgb_path = '/mnt/7F93AA61350F3FC5/Images_VANT/Campo_20_12_19/RGB/modified/rgb_20_12_19_Voo1e2_transparent_mosaic_group1_5cm_modified.tif'\n",
    "dem_path = '/mnt/7F93AA61350F3FC5/Images_VANT/Campo_20_12_19/RGB/modified/rgb_20_12_19_Voo1e2_dsm_5cm_modified.tif'\n",
    "\n",
    "# Read metadata of first file\n",
    "with rasterio.open(rgb_path) as src_rgb:\n",
    "    meta_dst = src_rgb.meta\n",
    "\n",
    "# # Update meta to reflect the number of layers\n",
    "meta_dst.update(count = 4)\n",
    "\n",
    "# # Read each layer and write it to stack\n",
    "with rasterio.open('/mnt/7F93AA61350F3FC5/Images_VANT/Campo_20_12_19/RGB/modified/stack.tif', 'w', **meta_dst) as dst:\n",
    "\n",
    "    for band in range(1,4):\n",
    "        with rasterio.open(rgb_path) as src_rgb:\n",
    "            dst.write_band(band, src_rgb.read(band))\n",
    "\n",
    "    with rasterio.open(dem_path) as src_dem:\n",
    "\n",
    "        meta_dem = src_dem.meta\n",
    "\n",
    "        band_dem = src_dem.read(1)\n",
    "        band_dem[band_dem == meta_dem['nodata']] = np.nan\n",
    "        min_value, max_value = np.nanmin(band_dem), np.nanmax(band_dem)\n",
    "\n",
    "        band_dem_rescaled = np.interp(band_dem, (min_value, max_value), (0, 255))\n",
    "\n",
    "        band_dem_rescaled[band_dem_rescaled == np.nan] = 0\n",
    "\n",
    "        dst.write_band(4, band_dem_rescaled.astype('uint8'))\n",
    "\n",
    "ds = gdal.Open('/mnt/7F93AA61350F3FC5/Images_VANT/Campo_20_12_19/RGB/modified/stack.tif')\n",
    "gdal.Translate('/mnt/7F93AA61350F3FC5/Images_VANT/Campo_20_12_19/RGB/modified/stack_final.tif', ds, creationOptions = ['ALPHA=NO'])\n",
    "os.remove('/mnt/7F93AA61350F3FC5/Images_VANT/Campo_20_12_19/RGB/modified/stack.tif')\n",
    "ds = None\n"
   ]
  },
  {
   "cell_type": "code",
   "execution_count": null,
   "id": "fbe757aa",
   "metadata": {},
   "outputs": [],
   "source": [
    "band_dem"
   ]
  },
  {
   "cell_type": "code",
   "execution_count": null,
   "id": "7c174d2b",
   "metadata": {},
   "outputs": [],
   "source": [
    "band_dem.astype('uint8')"
   ]
  },
  {
   "cell_type": "code",
   "execution_count": null,
   "id": "82be4a66",
   "metadata": {},
   "outputs": [],
   "source": [
    "import rasterio\n",
    "import numpy as np\n",
    "\n",
    "rgb_path = '/mnt/7F93AA61350F3FC5/Images_VANT/Campo_20_12_19/RGB/modified/rgb_20_12_19_Voo1e2_transparent_mosaic_group1_5cm_modified.tif'\n",
    "dem_path = '/mnt/7F93AA61350F3FC5/Images_VANT/Campo_20_12_19/RGB/modified/rgb_20_12_19_Voo1e2_dsm_5cm_modified.tif'\n",
    "\n",
    "\n",
    "with rasterio.open(dem_path) as src_dem:\n",
    "    \n",
    "    meta = src_dem.meta\n",
    "    \n",
    "    band_dem = src_dem.read(1)\n",
    "    band_dem[band_dem == meta['nodata']] = np.nan\n",
    "    min_value, max_value = np.nanmin(band_dem), np.nanmax(band_dem)\n",
    "    \n",
    "    band_dem_rescaled = np.interp(band_dem, (min_value, max_value), (0, 255))\n",
    "    \n",
    "    band_dem_rescaled[band_dem_rescaled == meta['nodata']] = np.nan\n",
    "    band_dem_rescaled.astype\n",
    "    \n",
    "# band_dem"
   ]
  },
  {
   "cell_type": "code",
   "execution_count": null,
   "id": "d5fcc171",
   "metadata": {},
   "outputs": [],
   "source": [
    "band_dem"
   ]
  },
  {
   "cell_type": "code",
   "execution_count": null,
   "id": "6f884267",
   "metadata": {},
   "outputs": [],
   "source": [
    "np.nanmax(np.interp(band_dem, (min_value, max_value), (0, 255)))"
   ]
  },
  {
   "cell_type": "code",
   "execution_count": null,
   "id": "e5fc1955",
   "metadata": {},
   "outputs": [],
   "source": [
    "meta"
   ]
  },
  {
   "cell_type": "code",
   "execution_count": null,
   "id": "98b6eaa1",
   "metadata": {},
   "outputs": [],
   "source": [
    "import numpy as np\n",
    "band_dem[band_dem == meta['nodata']] = np.nan"
   ]
  },
  {
   "cell_type": "code",
   "execution_count": null,
   "id": "d5f36989",
   "metadata": {},
   "outputs": [],
   "source": [
    "band_dem.mean()"
   ]
  },
  {
   "cell_type": "code",
   "execution_count": null,
   "id": "2084f292",
   "metadata": {},
   "outputs": [],
   "source": [
    "np.nanmin(band_dem)"
   ]
  },
  {
   "cell_type": "code",
   "execution_count": null,
   "id": "7c15fdf2",
   "metadata": {},
   "outputs": [],
   "source": [
    "os.path.dirname('/mnt/7F93AA61350F3FC5/Images_VANT/Campo_20_12_19/RGB/modified/rgb_20_12_19_Voo1e2_transparent_mosaic_group1_5cm_modified.tif')"
   ]
  },
  {
   "cell_type": "code",
   "execution_count": null,
   "id": "f50307f2",
   "metadata": {},
   "outputs": [],
   "source": []
  }
 ],
 "metadata": {
  "kernelspec": {
   "display_name": "rcnn",
   "language": "python",
   "name": "rcnn"
  },
  "language_info": {
   "codemirror_mode": {
    "name": "ipython",
    "version": 3
   },
   "file_extension": ".py",
   "mimetype": "text/x-python",
   "name": "python",
   "nbconvert_exporter": "python",
   "pygments_lexer": "ipython3",
   "version": "3.6.15"
  }
 },
 "nbformat": 4,
 "nbformat_minor": 5
}
