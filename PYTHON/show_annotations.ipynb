{
 "cells": [
  {
   "cell_type": "code",
   "execution_count": 3,
   "metadata": {},
   "outputs": [],
   "source": [
    "from __future__ import print_function\n",
    "from pycocotools.coco import COCO\n",
    "import os, sys, zipfile\n",
    "import urllib.request\n",
    "import shutil\n",
    "import numpy as np\n",
    "import skimage.io as io\n",
    "import matplotlib.pyplot as plt\n",
    "import pylab\n",
    "import json"
   ]
  },
  {
   "cell_type": "code",
   "execution_count": 18,
   "metadata": {},
   "outputs": [
    {
     "name": "stdout",
     "output_type": "stream",
     "text": [
      "[{'license': 1, 'file_name': '0000.jpg', 'coco_url': 'empty', 'height': 512, 'width': 512, 'date_captured': '2020-01-01 00:00:00', 'flickr_url': 'empty', 'id': 0}]\n"
     ]
    }
   ],
   "source": [
    "json_file = '../IMGS/synthetic_dataset/coco_annotations.json' # # Object Instance type annotation\n",
    " # person_keypoints_val2017.json # Object Keypoint type annotation format\n",
    " # captions_val2017.json # Image Caption's annotation format\n",
    " \n",
    "data=json.load(open(json_file,'r'))\n",
    " \n",
    "data_2={}\n",
    "data_2['info']=data['info']\n",
    "data_2['licenses']=data['licenses']\n",
    "\n",
    "print(data['images'])\n",
    "\n",
    "# data_2['images']=[data['images'][0]] # Extract only the first image\n",
    "# data_2['categories']=data['categories']\n",
    "# annotation=[]\n",
    " \n",
    "#  # Find all its objects by imgID\n",
    "# imgID=data_2['images'][0]['id']\n",
    "# for ann in data['annotations']:\n",
    "#     if ann['image_id']==imgID:\n",
    "#         annotation.append(ann)\n",
    "        \n",
    "# data_2['annotations']=annotation\n",
    " \n",
    "# # Save to a new JSON file for easy viewing of data characteristics\n",
    "# json.dump(data_2,open('../ANNOTATIONS/new_grid_2.json','w'),indent=4) # indent=4 More beautiful display"
   ]
  },
  {
   "cell_type": "code",
   "execution_count": 12,
   "metadata": {},
   "outputs": [
    {
     "name": "stdout",
     "output_type": "stream",
     "text": [
      "loading annotations into memory...\n",
      "Done (t=0.10s)\n",
      "creating index...\n",
      "index created!\n",
      "COCO categories: \n",
      "hamlin\n",
      "\n",
      "COCO supercategories: \n",
      "canopy\n"
     ]
    },
    {
     "data": {
      "image/png": "[encoded data removed]",
      "text/plain": [
       "<Figure size 576x720 with 1 Axes>"
      ]
     },
     "metadata": {
      "needs_background": "light"
     },
     "output_type": "display_data"
    }
   ],
   "source": [
    "num_id = 1\n",
    "\n",
    "pylab.rcParams['figure.figsize'] = (8.0, 10.0)\n",
    "\n",
    "folder_path = '../datasets/train/'\n",
    "\n",
    "annFile=os.path.join(folder_path, 'coco_annotations_train.json')\n",
    "coco=COCO(annFile)\n",
    " \n",
    "# display COCO categories and supercategories\n",
    "cats = coco.loadCats(coco.getCatIds())\n",
    "nms=[cat['name'] for cat in cats]\n",
    "print('COCO categories: \\n{}\\n'.format(' '.join(nms)))\n",
    " \n",
    "nms = set([cat['supercategory'] for cat in cats])\n",
    "print('COCO supercategories: \\n{}'.format(' '.join(nms)))\n",
    " \n",
    "imgIds = coco.getImgIds(imgIds = [num_id])\n",
    "# imgIds = coco.getImgIds()\n",
    "img = coco.loadImgs(imgIds[0])[0]\n",
    "# I = io.imread('%s/%s/%s'%(dataDir,dataType,img['file_name']))\n",
    "I = io.imread(os.path.join(folder_path, 'img_patches', '{:05}.tif'.format(num_id)))\n",
    " \n",
    "plt.axis('off')\n",
    "plt.imshow(I)\n",
    "# plt.show() #No jupter não é necessario\n",
    "\n",
    "# load and display instance annotations\n",
    "#Load instance mask\n",
    "# catIds = coco.getCatIds(catNms=['person','dog','skateboard']);\n",
    "# catIds=coco.getCatIds()\n",
    "catIds=[]\n",
    "for ann in coco.dataset['annotations']:\n",
    "    if ann['image_id']==imgIds[0]:\n",
    "        catIds.append(ann['category_id'])\n",
    "\n",
    "plt.imshow(I); plt.axis('off')\n",
    "annIds = coco.getAnnIds(imgIds=img['id'], catIds=catIds, iscrowd=None)\n",
    "anns = coco.loadAnns(annIds)\n",
    "coco.showAnns(anns)"
   ]
  },
  {
   "cell_type": "code",
   "execution_count": null,
   "metadata": {},
   "outputs": [],
   "source": []
  },
  {
   "cell_type": "code",
   "execution_count": null,
   "metadata": {},
   "outputs": [],
   "source": [
    "num_id = 0\n",
    "\n",
    "pylab.rcParams['figure.figsize'] = (8.0, 10.0)\n",
    " \n",
    "annFile='../IMGS/synthetic_dataset/coco_annotations.json'\n",
    "coco=COCO(annFile)\n",
    " \n",
    "# display COCO categories and supercategories\n",
    "cats = coco.loadCats(coco.getCatIds())\n",
    "nms=[cat['name'] for cat in cats]\n",
    "print('COCO categories: \\n{}\\n'.format(' '.join(nms)))\n",
    " \n",
    "nms = set([cat['supercategory'] for cat in cats])\n",
    "print('COCO supercategories: \\n{}'.format(' '.join(nms)))\n",
    " \n",
    "imgIds = coco.getImgIds(imgIds = [num_id])\n",
    "imgIds = coco.getImgIds()\n",
    "img = coco.loadImgs(imgIds[0])[0]\n",
    "dataDir = '.'\n",
    "dataType = 'val2017'\n",
    "# I = io.imread('%s/%s/%s'%(dataDir,dataType,img['file_name']))\n",
    "I = io.imread('../IMGS/synthetic_dataset/generated/{:04}.jpg'.format(num_id))\n",
    " \n",
    "plt.axis('off')\n",
    "plt.imshow(I)\n",
    "# plt.show() #No jupter não é necessario\n",
    "\n",
    "# load and display instance annotations\n",
    "#Load instance mask\n",
    "# catIds = coco.getCatIds(catNms=['person','dog','skateboard']);\n",
    "# catIds=coco.getCatIds()\n",
    "catIds=[]\n",
    "for ann in coco.dataset['annotations']:\n",
    "    if ann['image_id']==imgIds[0]:\n",
    "        catIds.append(ann['category_id'])\n",
    "\n",
    "plt.imshow(I); plt.axis('off')\n",
    "annIds = coco.getAnnIds(imgIds=img['id'], catIds=catIds, iscrowd=None)\n",
    "anns = coco.loadAnns(annIds)\n",
    "coco.showAnns(anns)"
   ]
  },
  {
   "cell_type": "code",
   "execution_count": null,
   "metadata": {},
   "outputs": [],
   "source": []
  }
 ],
 "metadata": {
  "kernelspec": {
   "display_name": "geo",
   "language": "python",
   "name": "geo"
  },
  "language_info": {
   "codemirror_mode": {
    "name": "ipython",
    "version": 3
   },
   "file_extension": ".py",
   "mimetype": "text/x-python",
   "name": "python",
   "nbconvert_exporter": "python",
   "pygments_lexer": "ipython3",
   "version": "3.7.7"
  }
 },
 "nbformat": 4,
 "nbformat_minor": 5
}
