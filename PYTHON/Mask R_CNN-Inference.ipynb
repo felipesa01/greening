{
 "cells": [
  {
   "cell_type": "code",
   "execution_count": 1,
   "id": "e91fdae1",
   "metadata": {},
   "outputs": [],
   "source": [
    "import geopandas as gpd\n",
    "\n",
    "import sys\n",
    "sys.path.append('../Mask_RCNN')\n",
    "import mrcnn.model as modellib\n",
    "\n",
    "# Autoria\n",
    "import canopy_detection_4b as orca"
   ]
  },
  {
   "cell_type": "code",
   "execution_count": 2,
   "id": "f780af58",
   "metadata": {},
   "outputs": [],
   "source": [
    "logs = '../Mask_RCNN/logs'\n",
    "config = orca.OrangeCanopyConfig()\n",
    "dataset = '../datasets/area_estudo_teste1/'"
   ]
  },
  {
   "cell_type": "code",
   "execution_count": 3,
   "id": "56dfae99",
   "metadata": {},
   "outputs": [
    {
     "name": "stdout",
     "output_type": "stream",
     "text": [
      "WARNING:tensorflow:From C:\\Users\\Colaborador\\anaconda3\\envs\\rcnn\\lib\\site-packages\\tensorflow\\python\\ops\\array_ops.py:5043: calling gather (from tensorflow.python.ops.array_ops) with validate_indices is deprecated and will be removed in a future version.\n",
      "Instructions for updating:\n",
      "The `validate_indices` argument has no effect. Indices are always validated on CPU and never validated on GPU.\n",
      "WARNING:tensorflow:From C:\\Users\\Colaborador\\anaconda3\\envs\\rcnn\\lib\\site-packages\\tensorflow\\python\\util\\deprecation.py:602: calling map_fn_v2 (from tensorflow.python.ops.map_fn) with dtype is deprecated and will be removed in a future version.\n",
      "Instructions for updating:\n",
      "Use fn_output_signature instead\n"
     ]
    }
   ],
   "source": [
    "model = modellib.MaskRCNN(mode='inference', config=config, model_dir=logs)"
   ]
  },
  {
   "cell_type": "code",
   "execution_count": 4,
   "id": "e0acf5ba",
   "metadata": {},
   "outputs": [
    {
     "name": "stdout",
     "output_type": "stream",
     "text": [
      "Re-starting from epoch 60\n"
     ]
    }
   ],
   "source": [
    "weights = '../Mask_RCNN/logs/oranges_trees_canopy20211014T2316/mask_rcnn_oranges_trees_canopy_0060.h5'\n",
    "\n",
    "model.load_weights(weights, by_name=True)"
   ]
  },
  {
   "cell_type": "code",
   "execution_count": 5,
   "id": "9a93514e",
   "metadata": {},
   "outputs": [
    {
     "data": {
      "text/plain": [
       "939"
      ]
     },
     "execution_count": 5,
     "metadata": {},
     "output_type": "execute_result"
    }
   ],
   "source": [
    "img_test = gpd.read_file(dataset + '/img_grid.geojson')\n",
    "ids = list(img_test.loc[img_test['split_samples'] == 'test'].index)\n",
    "len(ids)"
   ]
  },
  {
   "cell_type": "code",
   "execution_count": 6,
   "id": "94043716",
   "metadata": {
    "scrolled": true
   },
   "outputs": [
    {
     "name": "stderr",
     "output_type": "stream",
     "text": [
      "Inferincdo copas:   0%|                                                                        | 0/938 [00:00<?, ?it/s]C:\\Users\\Colaborador\\anaconda3\\envs\\rcnn\\lib\\site-packages\\tensorflow\\python\\keras\\engine\\training.py:2426: UserWarning: `Model.state_updates` will be removed in a future version. This property should not be used in TensorFlow 2.0, as `updates` are applied automatically.\n",
      "  warnings.warn('`Model.state_updates` will be removed in a future version. '\n",
      "Inferincdo copas: 100%|██████████████████████████████████████████████████████████████| 938/938 [04:38<00:00,  3.37it/s]\n"
     ]
    },
    {
     "name": "stdout",
     "output_type": "stream",
     "text": [
      "Gerando arquivo de saida\n"
     ]
    },
    {
     "ename": "AttributeError",
     "evalue": "'NoneType' object has no attribute 'type'",
     "output_type": "error",
     "traceback": [
      "\u001b[1;31m---------------------------------------------------------------------------\u001b[0m",
      "\u001b[1;31mAttributeError\u001b[0m                            Traceback (most recent call last)",
      "\u001b[1;32mC:\\Users\\COLABO~1\\AppData\\Local\\Temp/ipykernel_2676/2577294420.py\u001b[0m in \u001b[0;36m<module>\u001b[1;34m\u001b[0m\n\u001b[1;32m----> 1\u001b[1;33m \u001b[0mresults\u001b[0m \u001b[1;33m=\u001b[0m \u001b[0morca\u001b[0m\u001b[1;33m.\u001b[0m\u001b[0mprediction\u001b[0m\u001b[1;33m(\u001b[0m\u001b[0mmodel\u001b[0m\u001b[1;33m,\u001b[0m \u001b[0mdataset\u001b[0m\u001b[1;33m,\u001b[0m \u001b[0mid_list\u001b[0m\u001b[1;33m=\u001b[0m\u001b[0mids\u001b[0m\u001b[1;33m,\u001b[0m \u001b[0mverbose\u001b[0m\u001b[1;33m=\u001b[0m\u001b[1;36m0\u001b[0m\u001b[1;33m,\u001b[0m \u001b[0mfirst\u001b[0m\u001b[1;33m=\u001b[0m\u001b[1;32mFalse\u001b[0m\u001b[1;33m,\u001b[0m \u001b[0mjoin\u001b[0m\u001b[1;33m=\u001b[0m\u001b[1;32mTrue\u001b[0m\u001b[1;33m)\u001b[0m\u001b[1;33m\u001b[0m\u001b[1;33m\u001b[0m\u001b[0m\n\u001b[0m",
      "\u001b[1;32m~\\greening\\PYTHON\\canopy_detection_4b.py\u001b[0m in \u001b[0;36mprediction\u001b[1;34m(model, dataset, id_list, verbose, first, join)\u001b[0m\n\u001b[0;32m    313\u001b[0m     \u001b[1;32mif\u001b[0m \u001b[0mjoin\u001b[0m\u001b[1;33m:\u001b[0m\u001b[1;33m\u001b[0m\u001b[1;33m\u001b[0m\u001b[0m\n\u001b[0;32m    314\u001b[0m         \u001b[0mprint\u001b[0m\u001b[1;33m(\u001b[0m\u001b[1;34m'Gerando arquivo de saida'\u001b[0m\u001b[1;33m)\u001b[0m\u001b[1;33m\u001b[0m\u001b[1;33m\u001b[0m\u001b[0m\n\u001b[1;32m--> 315\u001b[1;33m         \u001b[0mpols\u001b[0m \u001b[1;33m=\u001b[0m \u001b[0mhlb_process\u001b[0m\u001b[1;33m.\u001b[0m\u001b[0mjoin_vectors\u001b[0m\u001b[1;33m(\u001b[0m\u001b[0mshape_path_aux\u001b[0m\u001b[1;33m)\u001b[0m\u001b[1;33m\u001b[0m\u001b[1;33m\u001b[0m\u001b[0m\n\u001b[0m\u001b[0;32m    316\u001b[0m         \u001b[0mpols\u001b[0m\u001b[1;33m.\u001b[0m\u001b[0mto_file\u001b[0m\u001b[1;33m(\u001b[0m\u001b[0mos\u001b[0m\u001b[1;33m.\u001b[0m\u001b[0mpath\u001b[0m\u001b[1;33m.\u001b[0m\u001b[0mjoin\u001b[0m\u001b[1;33m(\u001b[0m\u001b[0mos\u001b[0m\u001b[1;33m.\u001b[0m\u001b[0mpath\u001b[0m\u001b[1;33m.\u001b[0m\u001b[0mdirname\u001b[0m\u001b[1;33m(\u001b[0m\u001b[0mshape_path_aux\u001b[0m\u001b[1;33m)\u001b[0m\u001b[1;33m,\u001b[0m \u001b[1;34m'canopy_detection_result.geojson'\u001b[0m\u001b[1;33m)\u001b[0m\u001b[1;33m,\u001b[0m \u001b[0mdriver\u001b[0m\u001b[1;33m=\u001b[0m\u001b[1;34m'GeoJSON'\u001b[0m\u001b[1;33m)\u001b[0m\u001b[1;33m\u001b[0m\u001b[1;33m\u001b[0m\u001b[0m\n\u001b[0;32m    317\u001b[0m         \u001b[0mprint\u001b[0m\u001b[1;33m(\u001b[0m\u001b[1;34m'Concluído!'\u001b[0m\u001b[1;33m)\u001b[0m\u001b[1;33m\u001b[0m\u001b[1;33m\u001b[0m\u001b[0m\n",
      "\u001b[1;32m~\\greening\\PYTHON\\hlb_utils.py\u001b[0m in \u001b[0;36mjoin_vectors\u001b[1;34m(self, shape_path_aux, centroid_dist, limiar_ovelap)\u001b[0m\n\u001b[0;32m    481\u001b[0m         \u001b[0mpols\u001b[0m \u001b[1;33m=\u001b[0m \u001b[0mpd\u001b[0m\u001b[1;33m.\u001b[0m\u001b[0mconcat\u001b[0m\u001b[1;33m(\u001b[0m\u001b[1;33m[\u001b[0m\u001b[0mgpd\u001b[0m\u001b[1;33m.\u001b[0m\u001b[0mread_file\u001b[0m\u001b[1;33m(\u001b[0m\u001b[0mi\u001b[0m\u001b[1;33m)\u001b[0m \u001b[1;32mfor\u001b[0m \u001b[0mi\u001b[0m \u001b[1;32min\u001b[0m \u001b[0mresult_paths\u001b[0m\u001b[1;33m]\u001b[0m\u001b[1;33m,\u001b[0m \u001b[0maxis\u001b[0m\u001b[1;33m=\u001b[0m\u001b[1;36m0\u001b[0m\u001b[1;33m)\u001b[0m\u001b[1;33m.\u001b[0m\u001b[0mreset_index\u001b[0m\u001b[1;33m(\u001b[0m\u001b[0mdrop\u001b[0m\u001b[1;33m=\u001b[0m\u001b[1;32mTrue\u001b[0m\u001b[1;33m)\u001b[0m\u001b[1;33m\u001b[0m\u001b[1;33m\u001b[0m\u001b[0m\n\u001b[0;32m    482\u001b[0m         \u001b[1;31m# pols['geometry'] = pols.buffer(0.1).buffer(-0.1).simplify(0.03)\u001b[0m\u001b[1;33m\u001b[0m\u001b[1;33m\u001b[0m\u001b[0m\n\u001b[1;32m--> 483\u001b[1;33m         \u001b[0mpols\u001b[0m \u001b[1;33m=\u001b[0m \u001b[0mpols\u001b[0m\u001b[1;33m.\u001b[0m\u001b[0mexplode\u001b[0m\u001b[1;33m(\u001b[0m\u001b[1;34m'geometry'\u001b[0m\u001b[1;33m)\u001b[0m\u001b[1;33m.\u001b[0m\u001b[0mreset_index\u001b[0m\u001b[1;33m(\u001b[0m\u001b[0mdrop\u001b[0m\u001b[1;33m=\u001b[0m\u001b[1;32mTrue\u001b[0m\u001b[1;33m)\u001b[0m\u001b[1;33m\u001b[0m\u001b[1;33m\u001b[0m\u001b[0m\n\u001b[0m\u001b[0;32m    484\u001b[0m         \u001b[0mpols\u001b[0m\u001b[1;33m[\u001b[0m\u001b[1;34m'centroid'\u001b[0m\u001b[1;33m]\u001b[0m \u001b[1;33m=\u001b[0m \u001b[0mpols\u001b[0m\u001b[1;33m[\u001b[0m\u001b[1;34m'geometry'\u001b[0m\u001b[1;33m]\u001b[0m\u001b[1;33m.\u001b[0m\u001b[0mcentroid\u001b[0m\u001b[1;33m\u001b[0m\u001b[1;33m\u001b[0m\u001b[0m\n\u001b[0;32m    485\u001b[0m         \u001b[0mpols\u001b[0m\u001b[1;33m.\u001b[0m\u001b[0minsert\u001b[0m\u001b[1;33m(\u001b[0m\u001b[1;36m1\u001b[0m\u001b[1;33m,\u001b[0m \u001b[0mcolumn\u001b[0m\u001b[1;33m=\u001b[0m\u001b[1;34m'union'\u001b[0m\u001b[1;33m,\u001b[0m \u001b[0mvalue\u001b[0m\u001b[1;33m=\u001b[0m\u001b[1;36m0\u001b[0m\u001b[1;33m)\u001b[0m\u001b[1;33m\u001b[0m\u001b[1;33m\u001b[0m\u001b[0m\n",
      "\u001b[1;32m~\\anaconda3\\envs\\rcnn\\lib\\site-packages\\geopandas\\geodataframe.py\u001b[0m in \u001b[0;36mexplode\u001b[1;34m(self, column, **kwargs)\u001b[0m\n\u001b[0;32m   1577\u001b[0m             \u001b[0mdf_copy\u001b[0m \u001b[1;33m=\u001b[0m \u001b[0mdf_copy\u001b[0m\u001b[1;33m.\u001b[0m\u001b[0mrename\u001b[0m\u001b[1;33m(\u001b[0m\u001b[0mcolumns\u001b[0m\u001b[1;33m=\u001b[0m\u001b[1;33m{\u001b[0m\u001b[1;34m\"level_1\"\u001b[0m\u001b[1;33m:\u001b[0m \u001b[1;34m\"__level_1\"\u001b[0m\u001b[1;33m}\u001b[0m\u001b[1;33m)\u001b[0m\u001b[1;33m\u001b[0m\u001b[1;33m\u001b[0m\u001b[0m\n\u001b[0;32m   1578\u001b[0m \u001b[1;33m\u001b[0m\u001b[0m\n\u001b[1;32m-> 1579\u001b[1;33m         \u001b[0mexploded_geom\u001b[0m \u001b[1;33m=\u001b[0m \u001b[0mdf_copy\u001b[0m\u001b[1;33m.\u001b[0m\u001b[0mgeometry\u001b[0m\u001b[1;33m.\u001b[0m\u001b[0mexplode\u001b[0m\u001b[1;33m(\u001b[0m\u001b[1;33m)\u001b[0m\u001b[1;33m.\u001b[0m\u001b[0mreset_index\u001b[0m\u001b[1;33m(\u001b[0m\u001b[0mlevel\u001b[0m\u001b[1;33m=\u001b[0m\u001b[1;33m-\u001b[0m\u001b[1;36m1\u001b[0m\u001b[1;33m)\u001b[0m\u001b[1;33m\u001b[0m\u001b[1;33m\u001b[0m\u001b[0m\n\u001b[0m\u001b[0;32m   1580\u001b[0m         \u001b[0mexploded_index\u001b[0m \u001b[1;33m=\u001b[0m \u001b[0mexploded_geom\u001b[0m\u001b[1;33m.\u001b[0m\u001b[0mcolumns\u001b[0m\u001b[1;33m[\u001b[0m\u001b[1;36m0\u001b[0m\u001b[1;33m]\u001b[0m\u001b[1;33m\u001b[0m\u001b[1;33m\u001b[0m\u001b[0m\n\u001b[0;32m   1581\u001b[0m \u001b[1;33m\u001b[0m\u001b[0m\n",
      "\u001b[1;32m~\\anaconda3\\envs\\rcnn\\lib\\site-packages\\geopandas\\geoseries.py\u001b[0m in \u001b[0;36mexplode\u001b[1;34m(self)\u001b[0m\n\u001b[0;32m    842\u001b[0m         \u001b[0mgeometries\u001b[0m \u001b[1;33m=\u001b[0m \u001b[1;33m[\u001b[0m\u001b[1;33m]\u001b[0m\u001b[1;33m\u001b[0m\u001b[1;33m\u001b[0m\u001b[0m\n\u001b[0;32m    843\u001b[0m         \u001b[1;32mfor\u001b[0m \u001b[0midx\u001b[0m\u001b[1;33m,\u001b[0m \u001b[0ms\u001b[0m \u001b[1;32min\u001b[0m \u001b[0mself\u001b[0m\u001b[1;33m.\u001b[0m\u001b[0mgeometry\u001b[0m\u001b[1;33m.\u001b[0m\u001b[0miteritems\u001b[0m\u001b[1;33m(\u001b[0m\u001b[1;33m)\u001b[0m\u001b[1;33m:\u001b[0m\u001b[1;33m\u001b[0m\u001b[1;33m\u001b[0m\u001b[0m\n\u001b[1;32m--> 844\u001b[1;33m             \u001b[1;32mif\u001b[0m \u001b[0ms\u001b[0m\u001b[1;33m.\u001b[0m\u001b[0mtype\u001b[0m\u001b[1;33m.\u001b[0m\u001b[0mstartswith\u001b[0m\u001b[1;33m(\u001b[0m\u001b[1;34m\"Multi\"\u001b[0m\u001b[1;33m)\u001b[0m \u001b[1;32mor\u001b[0m \u001b[0ms\u001b[0m\u001b[1;33m.\u001b[0m\u001b[0mtype\u001b[0m \u001b[1;33m==\u001b[0m \u001b[1;34m\"GeometryCollection\"\u001b[0m\u001b[1;33m:\u001b[0m\u001b[1;33m\u001b[0m\u001b[1;33m\u001b[0m\u001b[0m\n\u001b[0m\u001b[0;32m    845\u001b[0m                 \u001b[0mgeoms\u001b[0m \u001b[1;33m=\u001b[0m \u001b[0ms\u001b[0m\u001b[1;33m.\u001b[0m\u001b[0mgeoms\u001b[0m\u001b[1;33m\u001b[0m\u001b[1;33m\u001b[0m\u001b[0m\n\u001b[0;32m    846\u001b[0m                 \u001b[0midxs\u001b[0m \u001b[1;33m=\u001b[0m \u001b[1;33m[\u001b[0m\u001b[1;33m(\u001b[0m\u001b[0midx\u001b[0m\u001b[1;33m,\u001b[0m \u001b[0mi\u001b[0m\u001b[1;33m)\u001b[0m \u001b[1;32mfor\u001b[0m \u001b[0mi\u001b[0m \u001b[1;32min\u001b[0m \u001b[0mrange\u001b[0m\u001b[1;33m(\u001b[0m\u001b[0mlen\u001b[0m\u001b[1;33m(\u001b[0m\u001b[0mgeoms\u001b[0m\u001b[1;33m)\u001b[0m\u001b[1;33m)\u001b[0m\u001b[1;33m]\u001b[0m\u001b[1;33m\u001b[0m\u001b[1;33m\u001b[0m\u001b[0m\n",
      "\u001b[1;31mAttributeError\u001b[0m: 'NoneType' object has no attribute 'type'"
     ]
    }
   ],
   "source": [
    "results = orca.prediction(model, dataset, id_list=ids, verbose=0, first=False, join=True)"
   ]
  },
  {
   "cell_type": "code",
   "execution_count": null,
   "id": "fdfb6668",
   "metadata": {},
   "outputs": [],
   "source": [
    "results"
   ]
  },
  {
   "cell_type": "code",
   "execution_count": null,
   "id": "1c12e1ef",
   "metadata": {},
   "outputs": [],
   "source": []
  },
  {
   "cell_type": "code",
   "execution_count": 27,
   "id": "745ebf50",
   "metadata": {},
   "outputs": [
    {
     "name": "stderr",
     "output_type": "stream",
     "text": [
      "Simplificando - Macro: 100%|█████████████████████████████████████████████████████| 16238/16238 [18:36<00:00, 14.54it/s]\n",
      "Simplificando - Micro: 100%|██████████████████████████████████████████████████████| 4228/4228 [00:21<00:00, 194.87it/s]\n"
     ]
    }
   ],
   "source": [
    "import os\n",
    "import pandas as pd \n",
    "from tqdm import tqdm\n",
    "from time import sleep\n",
    "\n",
    "centroid_dist = 1\n",
    "limiar_ovelap = 0.6\n",
    "\n",
    "shape_path_aux = '../datasets/area_estudo_teste1/results/'\n",
    "\n",
    "result_paths = []\n",
    "for filename in os.listdir(shape_path_aux):\n",
    "    if os.path.splitext(filename)[1].lower() == '.geojson':\n",
    "        result_paths.append(os.path.join(shape_path_aux, filename))\n",
    "\n",
    "pols = pd.concat([gpd.read_file(i) for i in result_paths], axis=0).reset_index(drop=True)\n",
    "pols = pols[pols.geometry.is_valid]\n",
    "pols['geometry'] = pols.buffer(0.1).buffer(-0.1).simplify(0.03)\n",
    "pols = pols.explode('geometry').reset_index(drop=True)\n",
    "pols['centroid'] = pols['geometry'].centroid\n",
    "pols.insert(1, column='union', value=0)\n",
    "pols.set_index(keys=pd.Index(range(1, pols.shape[0] + 1)), inplace=True)\n",
    "\n",
    "with tqdm(total=len(pols.index)) as pbar:\n",
    "    pbar.set_description(\"Simplificando - Macro\")\n",
    "    sleep(0.1)\n",
    "    for i in pols.index:\n",
    "        if pols.loc[i, 'union'] == 0:\n",
    "            point = pols.loc[i, 'centroid']\n",
    "            distance = pols['centroid'].distance(point)\n",
    "\n",
    "            distance = distance[distance <= centroid_dist]\n",
    "\n",
    "            if len(distance) > 1:\n",
    "                pols.at[distance.index, 'union'] = i\n",
    "            else:\n",
    "                pols.at[i, 'union'] = i\n",
    "        pbar.update(1)\n",
    "\n",
    "# pols.drop('centroid', axis=1, inplace=True)\n",
    "pols = pols.dissolve(by='union', as_index=False)\n",
    "pols.drop(['union', 'centroid'], axis=1, inplace=True)\n",
    "pols.drop(pols.loc[pols['geometry'].is_empty].index, axis=0, inplace=True)\n",
    "pols.set_index(keys=pd.Index(range(1, pols.shape[0] + 1)), inplace=True)\n",
    "pols['id'] = pols.index\n",
    "# pols['centroid'] = pols['geometry'].centroid\n",
    "\n",
    "# Gerar intersecoes entre os poligonos encontrados\n",
    "# Uso de busca indexada (R-tree) com a função gpd.overlay()\n",
    "over = gpd.overlay(pols, pols, how='intersection')\n",
    "# Remover poligonos vazios (talvez possa ser dispensado a partir de agora)\n",
    "over = over.loc[-over['geometry'].is_empty]\n",
    "# Remover intersecoes originadas pela sobreposição da feição com ela mesma\n",
    "over = over.loc[over['id_1'] != over['id_2']].explode().reset_index(drop=True)\n",
    "\n",
    "delete_lines = []\n",
    "# Barra de progresso #\n",
    "with tqdm(total=len(over['id_1'])) as pbar:\n",
    "    pbar.set_description(\"Simplificando - Micro\")\n",
    "    sleep(0.1)\n",
    "    # Para cada poligono..\n",
    "    for i in over['id_1']:\n",
    "        # intersecções entre o poligono avaliado e todas as outras feições\n",
    "        intersec = over[over['id_1'] == i]\n",
    "\n",
    "        # Caso alguma área de intersecao avaliada seja maior que 60% (limiar_overlap) do proprio poligono avaliado\n",
    "        # ou se poligono avaliado é 3,5x menor que aquele com o qual existe intersecao, o poligono será excluido\n",
    "        if intersec.loc[intersec['geometry'].area >= limiar_ovelap * pols.loc[i, 'geometry'].area].any(axis=None) or \\\n",
    "                (3.5 * pols.loc[i, 'geometry'].area < pols.loc[intersec['id_2'], 'geometry'].area).any():\n",
    "            delete_lines.append(i)\n",
    "\n",
    "        pbar.update(1)\n",
    "\n",
    "    # Identificar poligonos a serem apagados\n",
    "    delete_lines = (list(set(delete_lines)))\n",
    "# Fim da barra de progresso #\n",
    "\n",
    "pols.drop(labels=delete_lines, axis=0, inplace=True)\n",
    "pols = pols.explode().reset_index(drop=True)\n",
    "pols.set_index(keys=pd.Index(range(1, pols.shape[0] + 1)), inplace=True)\n",
    "pols['id'] = pols.index"
   ]
  },
  {
   "cell_type": "code",
   "execution_count": 29,
   "id": "5d8c20f0",
   "metadata": {},
   "outputs": [],
   "source": [
    "pols.to_file('../datasets/area_estudo_teste1/canopy_detection_result.geojson', driver='GeoJSON')"
   ]
  },
  {
   "cell_type": "code",
   "execution_count": 8,
   "id": "121e43f1",
   "metadata": {},
   "outputs": [],
   "source": [
    "all_files = [gpd.read_file(i) for i in result_paths]"
   ]
  },
  {
   "cell_type": "code",
   "execution_count": 9,
   "id": "cd1d4f02",
   "metadata": {},
   "outputs": [
    {
     "data": {
      "text/plain": [
       "897"
      ]
     },
     "execution_count": 9,
     "metadata": {},
     "output_type": "execute_result"
    }
   ],
   "source": [
    "len(all_files)"
   ]
  },
  {
   "cell_type": "code",
   "execution_count": 10,
   "id": "f87ee9bd",
   "metadata": {},
   "outputs": [],
   "source": [
    "pols = pd.concat(all_files, axis=0).reset_index(drop=True)"
   ]
  },
  {
   "cell_type": "code",
   "execution_count": 21,
   "id": "c50bee83",
   "metadata": {},
   "outputs": [
    {
     "data": {
      "text/html": [
       "<div>\n",
       "<style scoped>\n",
       "    .dataframe tbody tr th:only-of-type {\n",
       "        vertical-align: middle;\n",
       "    }\n",
       "\n",
       "    .dataframe tbody tr th {\n",
       "        vertical-align: top;\n",
       "    }\n",
       "\n",
       "    .dataframe thead th {\n",
       "        text-align: right;\n",
       "    }\n",
       "</style>\n",
       "<table border=\"1\" class=\"dataframe\">\n",
       "  <thead>\n",
       "    <tr style=\"text-align: right;\">\n",
       "      <th></th>\n",
       "      <th>score</th>\n",
       "      <th>detection_score</th>\n",
       "      <th>geometry</th>\n",
       "    </tr>\n",
       "  </thead>\n",
       "  <tbody>\n",
       "    <tr>\n",
       "      <th>0</th>\n",
       "      <td>None</td>\n",
       "      <td>0.999820</td>\n",
       "      <td>POLYGON ((288715.960 7515119.829, 288716.025 7...</td>\n",
       "    </tr>\n",
       "    <tr>\n",
       "      <th>1</th>\n",
       "      <td>None</td>\n",
       "      <td>0.998830</td>\n",
       "      <td>POLYGON ((288718.307 7515128.201, 288718.304 7...</td>\n",
       "    </tr>\n",
       "    <tr>\n",
       "      <th>2</th>\n",
       "      <td>None</td>\n",
       "      <td>0.983995</td>\n",
       "      <td>POLYGON ((288715.546 7515122.025, 288715.545 7...</td>\n",
       "    </tr>\n",
       "    <tr>\n",
       "      <th>3</th>\n",
       "      <td>None</td>\n",
       "      <td>0.963599</td>\n",
       "      <td>POLYGON ((288710.536 7515117.851, 288710.543 7...</td>\n",
       "    </tr>\n",
       "    <tr>\n",
       "      <th>4</th>\n",
       "      <td>None</td>\n",
       "      <td>0.952288</td>\n",
       "      <td>POLYGON ((288719.063 7515116.731, 288719.067 7...</td>\n",
       "    </tr>\n",
       "    <tr>\n",
       "      <th>...</th>\n",
       "      <td>...</td>\n",
       "      <td>...</td>\n",
       "      <td>...</td>\n",
       "    </tr>\n",
       "    <tr>\n",
       "      <th>16235</th>\n",
       "      <td>None</td>\n",
       "      <td>0.999790</td>\n",
       "      <td>POLYGON ((289440.273 7515728.740, 289440.413 7...</td>\n",
       "    </tr>\n",
       "    <tr>\n",
       "      <th>16236</th>\n",
       "      <td>None</td>\n",
       "      <td>0.999785</td>\n",
       "      <td>POLYGON ((289445.319 7515727.748, 289445.384 7...</td>\n",
       "    </tr>\n",
       "    <tr>\n",
       "      <th>16237</th>\n",
       "      <td>None</td>\n",
       "      <td>0.999378</td>\n",
       "      <td>POLYGON ((289439.913 7515719.433, 289439.845 7...</td>\n",
       "    </tr>\n",
       "    <tr>\n",
       "      <th>16238</th>\n",
       "      <td>None</td>\n",
       "      <td>0.999115</td>\n",
       "      <td>POLYGON ((289441.410 7515721.639, 289441.482 7...</td>\n",
       "    </tr>\n",
       "    <tr>\n",
       "      <th>16239</th>\n",
       "      <td>None</td>\n",
       "      <td>0.710021</td>\n",
       "      <td>POLYGON ((289439.885 7515716.053, 289439.916 7...</td>\n",
       "    </tr>\n",
       "  </tbody>\n",
       "</table>\n",
       "<p>16240 rows × 3 columns</p>\n",
       "</div>"
      ],
      "text/plain": [
       "      score  detection_score  \\\n",
       "0      None         0.999820   \n",
       "1      None         0.998830   \n",
       "2      None         0.983995   \n",
       "3      None         0.963599   \n",
       "4      None         0.952288   \n",
       "...     ...              ...   \n",
       "16235  None         0.999790   \n",
       "16236  None         0.999785   \n",
       "16237  None         0.999378   \n",
       "16238  None         0.999115   \n",
       "16239  None         0.710021   \n",
       "\n",
       "                                                geometry  \n",
       "0      POLYGON ((288715.960 7515119.829, 288716.025 7...  \n",
       "1      POLYGON ((288718.307 7515128.201, 288718.304 7...  \n",
       "2      POLYGON ((288715.546 7515122.025, 288715.545 7...  \n",
       "3      POLYGON ((288710.536 7515117.851, 288710.543 7...  \n",
       "4      POLYGON ((288719.063 7515116.731, 288719.067 7...  \n",
       "...                                                  ...  \n",
       "16235  POLYGON ((289440.273 7515728.740, 289440.413 7...  \n",
       "16236  POLYGON ((289445.319 7515727.748, 289445.384 7...  \n",
       "16237  POLYGON ((289439.913 7515719.433, 289439.845 7...  \n",
       "16238  POLYGON ((289441.410 7515721.639, 289441.482 7...  \n",
       "16239  POLYGON ((289439.885 7515716.053, 289439.916 7...  \n",
       "\n",
       "[16240 rows x 3 columns]"
      ]
     },
     "execution_count": 21,
     "metadata": {},
     "output_type": "execute_result"
    }
   ],
   "source": [
    "pols"
   ]
  },
  {
   "cell_type": "code",
   "execution_count": 22,
   "id": "9c4ea3e3",
   "metadata": {},
   "outputs": [
    {
     "data": {
      "text/html": [
       "<div>\n",
       "<style scoped>\n",
       "    .dataframe tbody tr th:only-of-type {\n",
       "        vertical-align: middle;\n",
       "    }\n",
       "\n",
       "    .dataframe tbody tr th {\n",
       "        vertical-align: top;\n",
       "    }\n",
       "\n",
       "    .dataframe thead th {\n",
       "        text-align: right;\n",
       "    }\n",
       "</style>\n",
       "<table border=\"1\" class=\"dataframe\">\n",
       "  <thead>\n",
       "    <tr style=\"text-align: right;\">\n",
       "      <th></th>\n",
       "      <th>score</th>\n",
       "      <th>detection_score</th>\n",
       "      <th>geometry</th>\n",
       "    </tr>\n",
       "  </thead>\n",
       "  <tbody>\n",
       "    <tr>\n",
       "      <th>0</th>\n",
       "      <td>None</td>\n",
       "      <td>0.999820</td>\n",
       "      <td>POLYGON ((288715.960 7515119.829, 288716.025 7...</td>\n",
       "    </tr>\n",
       "    <tr>\n",
       "      <th>1</th>\n",
       "      <td>None</td>\n",
       "      <td>0.998830</td>\n",
       "      <td>POLYGON ((288718.307 7515128.201, 288718.304 7...</td>\n",
       "    </tr>\n",
       "    <tr>\n",
       "      <th>2</th>\n",
       "      <td>None</td>\n",
       "      <td>0.983995</td>\n",
       "      <td>POLYGON ((288715.546 7515122.025, 288715.545 7...</td>\n",
       "    </tr>\n",
       "    <tr>\n",
       "      <th>3</th>\n",
       "      <td>None</td>\n",
       "      <td>0.963599</td>\n",
       "      <td>POLYGON ((288710.536 7515117.851, 288710.543 7...</td>\n",
       "    </tr>\n",
       "    <tr>\n",
       "      <th>4</th>\n",
       "      <td>None</td>\n",
       "      <td>0.952288</td>\n",
       "      <td>POLYGON ((288719.063 7515116.731, 288719.067 7...</td>\n",
       "    </tr>\n",
       "    <tr>\n",
       "      <th>...</th>\n",
       "      <td>...</td>\n",
       "      <td>...</td>\n",
       "      <td>...</td>\n",
       "    </tr>\n",
       "    <tr>\n",
       "      <th>16235</th>\n",
       "      <td>None</td>\n",
       "      <td>0.999790</td>\n",
       "      <td>POLYGON ((289440.273 7515728.740, 289440.413 7...</td>\n",
       "    </tr>\n",
       "    <tr>\n",
       "      <th>16236</th>\n",
       "      <td>None</td>\n",
       "      <td>0.999785</td>\n",
       "      <td>POLYGON ((289445.319 7515727.748, 289445.384 7...</td>\n",
       "    </tr>\n",
       "    <tr>\n",
       "      <th>16237</th>\n",
       "      <td>None</td>\n",
       "      <td>0.999378</td>\n",
       "      <td>POLYGON ((289439.913 7515719.433, 289439.845 7...</td>\n",
       "    </tr>\n",
       "    <tr>\n",
       "      <th>16238</th>\n",
       "      <td>None</td>\n",
       "      <td>0.999115</td>\n",
       "      <td>POLYGON ((289441.410 7515721.639, 289441.482 7...</td>\n",
       "    </tr>\n",
       "    <tr>\n",
       "      <th>16239</th>\n",
       "      <td>None</td>\n",
       "      <td>0.710021</td>\n",
       "      <td>POLYGON ((289439.885 7515716.053, 289439.916 7...</td>\n",
       "    </tr>\n",
       "  </tbody>\n",
       "</table>\n",
       "<p>16238 rows × 3 columns</p>\n",
       "</div>"
      ],
      "text/plain": [
       "      score  detection_score  \\\n",
       "0      None         0.999820   \n",
       "1      None         0.998830   \n",
       "2      None         0.983995   \n",
       "3      None         0.963599   \n",
       "4      None         0.952288   \n",
       "...     ...              ...   \n",
       "16235  None         0.999790   \n",
       "16236  None         0.999785   \n",
       "16237  None         0.999378   \n",
       "16238  None         0.999115   \n",
       "16239  None         0.710021   \n",
       "\n",
       "                                                geometry  \n",
       "0      POLYGON ((288715.960 7515119.829, 288716.025 7...  \n",
       "1      POLYGON ((288718.307 7515128.201, 288718.304 7...  \n",
       "2      POLYGON ((288715.546 7515122.025, 288715.545 7...  \n",
       "3      POLYGON ((288710.536 7515117.851, 288710.543 7...  \n",
       "4      POLYGON ((288719.063 7515116.731, 288719.067 7...  \n",
       "...                                                  ...  \n",
       "16235  POLYGON ((289440.273 7515728.740, 289440.413 7...  \n",
       "16236  POLYGON ((289445.319 7515727.748, 289445.384 7...  \n",
       "16237  POLYGON ((289439.913 7515719.433, 289439.845 7...  \n",
       "16238  POLYGON ((289441.410 7515721.639, 289441.482 7...  \n",
       "16239  POLYGON ((289439.885 7515716.053, 289439.916 7...  \n",
       "\n",
       "[16238 rows x 3 columns]"
      ]
     },
     "execution_count": 22,
     "metadata": {},
     "output_type": "execute_result"
    }
   ],
   "source": [
    "pols = pols[pols.geometry.is_valid]\n",
    "pols"
   ]
  },
  {
   "cell_type": "code",
   "execution_count": 19,
   "id": "74eec6a6",
   "metadata": {},
   "outputs": [
    {
     "data": {
      "text/plain": [
       "12208    False\n",
       "13635    False\n",
       "dtype: bool"
      ]
     },
     "execution_count": 19,
     "metadata": {},
     "output_type": "execute_result"
    }
   ],
   "source": [
    "pols.geometry.is_valid[-pols.geometry.is_valid]"
   ]
  },
  {
   "cell_type": "code",
   "execution_count": null,
   "id": "6a5e52c9",
   "metadata": {},
   "outputs": [],
   "source": []
  },
  {
   "cell_type": "code",
   "execution_count": null,
   "id": "50059d7c",
   "metadata": {},
   "outputs": [],
   "source": [
    "pols['geometry_n'] = pols.buffer(0.1).buffer(-0.1).simplify(0.03)"
   ]
  },
  {
   "cell_type": "code",
   "execution_count": null,
   "id": "fcaa48d7",
   "metadata": {},
   "outputs": [],
   "source": [
    "pols['geometry_n'].is_empty.any()"
   ]
  },
  {
   "cell_type": "code",
   "execution_count": null,
   "id": "dc3dc09f",
   "metadata": {},
   "outputs": [],
   "source": [
    "pols.geometry_n.is_empty[pols.geometry_n.is_empty]"
   ]
  },
  {
   "cell_type": "code",
   "execution_count": null,
   "id": "8db29726",
   "metadata": {},
   "outputs": [],
   "source": [
    "for i in range(len(all_files)):\n",
    "    if all_files[i].is_empty.all():\n",
    "        print(i)"
   ]
  },
  {
   "cell_type": "code",
   "execution_count": null,
   "id": "f835eb42",
   "metadata": {},
   "outputs": [],
   "source": [
    "filtered_files = [gpd.read_file(i) for i in result_paths if gpd.read_file(i)]"
   ]
  }
 ],
 "metadata": {
  "kernelspec": {
   "display_name": "rcnn",
   "language": "python",
   "name": "rcnn"
  },
  "language_info": {
   "codemirror_mode": {
    "name": "ipython",
    "version": 3
   },
   "file_extension": ".py",
   "mimetype": "text/x-python",
   "name": "python",
   "nbconvert_exporter": "python",
   "pygments_lexer": "ipython3",
   "version": "3.9.7"
  }
 },
 "nbformat": 4,
 "nbformat_minor": 5
}
